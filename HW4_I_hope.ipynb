{
  "nbformat": 4,
  "nbformat_minor": 0,
  "metadata": {
    "colab": {
      "provenance": [],
      "authorship_tag": "ABX9TyOJ84d94DKB8ebjJa/0A41Z",
      "include_colab_link": true
    },
    "kernelspec": {
      "name": "ir",
      "display_name": "R"
    },
    "language_info": {
      "name": "R"
    }
  },
  "cells": [
    {
      "cell_type": "markdown",
      "metadata": {
        "id": "view-in-github",
        "colab_type": "text"
      },
      "source": [
        "<a href=\"https://colab.research.google.com/github/KzBrain/project/blob/main/HW4_I_hope.ipynb\" target=\"_parent\"><img src=\"https://colab.research.google.com/assets/colab-badge.svg\" alt=\"Open In Colab\"/></a>"
      ]
    },
    {
      "cell_type": "code",
      "execution_count": null,
      "metadata": {
        "id": "WP_NRZ7Q3b_U",
        "colab": {
          "base_uri": "https://localhost:8080/"
        },
        "outputId": "fc3d0862-7caf-40b6-eb4c-2336e3055176"
      },
      "outputs": [
        {
          "output_type": "stream",
          "name": "stderr",
          "text": [
            "Installing package into ‘/usr/local/lib/R/site-library’\n",
            "(as ‘lib’ is unspecified)\n",
            "\n"
          ]
        }
      ],
      "source": [
        "library(tidyverse)\n",
        "require(readxl)\n",
        "install.packages('skimr')\n",
        "library(skimr)"
      ]
    },
    {
      "cell_type": "code",
      "source": [
        "meta <- read_xlsx(\"/content/sample_data/metadata.xlsx\",sheet = 1)\n",
        "hdl <- read_tsv(\"/content/sample_data/high_density_lipids.tsv\")\n",
        "ldl <- read_tsv(\"/content/sample_data/low_density_lipids.tsv\")"
      ],
      "metadata": {
        "colab": {
          "base_uri": "https://localhost:8080/"
        },
        "id": "QR8a7HQRbJln",
        "outputId": "25c21be4-7af7-4cef-c02a-19a328c9e4d6"
      },
      "execution_count": null,
      "outputs": [
        {
          "output_type": "stream",
          "name": "stderr",
          "text": [
            "\u001b[1mRows: \u001b[22m\u001b[34m27\u001b[39m \u001b[1mColumns: \u001b[22m\u001b[34m38\u001b[39m\n",
            "\u001b[36m──\u001b[39m \u001b[1mColumn specification\u001b[22m \u001b[36m────────────────────────────────────────────────────────\u001b[39m\n",
            "\u001b[1mDelimiter:\u001b[22m \"\\t\"\n",
            "\u001b[31mchr\u001b[39m  (1): Name\n",
            "\u001b[32mdbl\u001b[39m (37): Vial.number, Patient.number, GPHDL1, GPHDL2, GPHDL3, GPHDL4, GPHDL...\n",
            "\n",
            "\u001b[36mℹ\u001b[39m Use `spec()` to retrieve the full column specification for this data.\n",
            "\u001b[36mℹ\u001b[39m Specify the column types or set `show_col_types = FALSE` to quiet this message.\n",
            "\u001b[1mRows: \u001b[22m\u001b[34m29\u001b[39m \u001b[1mColumns: \u001b[22m\u001b[34m38\u001b[39m\n",
            "\u001b[36m──\u001b[39m \u001b[1mColumn specification\u001b[22m \u001b[36m────────────────────────────────────────────────────────\u001b[39m\n",
            "\u001b[1mDelimiter:\u001b[22m \"\\t\"\n",
            "\u001b[31mchr\u001b[39m  (1): Name\n",
            "\u001b[32mdbl\u001b[39m (37): Vial.number, Patient.number, GPLDL1, GPLDL2, GPLDL3, GPLDL4, GPLDL...\n",
            "\n",
            "\u001b[36mℹ\u001b[39m Use `spec()` to retrieve the full column specification for this data.\n",
            "\u001b[36mℹ\u001b[39m Specify the column types or set `show_col_types = FALSE` to quiet this message.\n"
          ]
        }
      ]
    },
    {
      "cell_type": "code",
      "source": [
        "cal_factor <- c('Patient.number','Vial.number')\n",
        "\n",
        "hdl <- hdl[cal_factor] <- lapply(hdl[cal_factor],factor)\n",
        "\n",
        "numeric_stats <- skimr::skim(select(meta,where(is.numeric)))"
      ],
      "metadata": {
        "id": "ckcyCCF0blPr"
      },
      "execution_count": null,
      "outputs": []
    },
    {
      "cell_type": "code",
      "source": [
        "head(meta)"
      ],
      "metadata": {
        "colab": {
          "base_uri": "https://localhost:8080/",
          "height": 584
        },
        "id": "nuObWKBicvOf",
        "outputId": "cc9aa791-d3f6-402c-fa60-627cfcb02f50"
      },
      "execution_count": null,
      "outputs": [
        {
          "output_type": "display_data",
          "data": {
            "text/html": [
              "<table class=\"dataframe\">\n",
              "<caption>A tibble: 6 × 49</caption>\n",
              "<thead>\n",
              "\t<tr><th scope=col>Vial number</th><th scope=col>Patient number</th><th scope=col>Sucrose</th><th scope=col>Name</th><th scope=col>Group</th><th scope=col>Date</th><th scope=col>Age</th><th scope=col>Plasma volume</th><th scope=col>Ht</th><th scope=col>Wt</th><th scope=col>⋯</th><th scope=col>r lat max</th><th scope=col>r ant max</th><th scope=col>r pos max</th><th scope=col>l lat max</th><th scope=col>l ant max</th><th scope=col>l pos max</th><th scope=col>carotid IMT mean</th><th scope=col>Plaque</th><th scope=col>Statins</th><th scope=col>comorbidities</th></tr>\n",
              "\t<tr><th scope=col>&lt;dbl&gt;</th><th scope=col>&lt;dbl&gt;</th><th scope=col>&lt;dbl&gt;</th><th scope=col>&lt;chr&gt;</th><th scope=col>&lt;dbl&gt;</th><th scope=col>&lt;dttm&gt;</th><th scope=col>&lt;dbl&gt;</th><th scope=col>&lt;dbl&gt;</th><th scope=col>&lt;dbl&gt;</th><th scope=col>&lt;dbl&gt;</th><th scope=col>⋯</th><th scope=col>&lt;dbl&gt;</th><th scope=col>&lt;dbl&gt;</th><th scope=col>&lt;dbl&gt;</th><th scope=col>&lt;dbl&gt;</th><th scope=col>&lt;dbl&gt;</th><th scope=col>&lt;dbl&gt;</th><th scope=col>&lt;dbl&gt;</th><th scope=col>&lt;dbl&gt;</th><th scope=col>&lt;dbl&gt;</th><th scope=col>&lt;chr&gt;</th></tr>\n",
              "</thead>\n",
              "<tbody>\n",
              "\t<tr><td>1</td><td>50</td><td>0</td><td>Woodard, Dillon        </td><td>0</td><td>2022-03-26</td><td>63</td><td>6.5</td><td>163</td><td> 84.0</td><td>⋯</td><td>0.65</td><td>0.80</td><td>0.80</td><td>0.81</td><td>0.78</td><td>0.80</td><td>0.6425000</td><td>1</td><td>1</td><td>NA                                                                                       </td></tr>\n",
              "\t<tr><td>2</td><td>51</td><td>0</td><td>Kuck, Breanna          </td><td>0</td><td>2023-12-23</td><td>47</td><td>5.5</td><td>179</td><td>111.0</td><td>⋯</td><td>1.03</td><td>0.92</td><td>1.03</td><td>1.03</td><td>1.03</td><td>1.09</td><td>0.8400000</td><td>1</td><td>0</td><td>NA                                                                                       </td></tr>\n",
              "\t<tr><td>3</td><td>52</td><td>0</td><td>Thomas, Terrance       </td><td>1</td><td>2022-10-10</td><td>57</td><td>7.0</td><td>164</td><td> 80.0</td><td>⋯</td><td>1.00</td><td>0.90</td><td>0.95</td><td>0.85</td><td>0.90</td><td>0.90</td><td>0.8500000</td><td>3</td><td>1</td><td>Type 2 diabetes mellitus; MI - 2016                                                      </td></tr>\n",
              "\t<tr><td>4</td><td>53</td><td>0</td><td>Moua, Kensue           </td><td>1</td><td>2022-12-21</td><td>72</td><td>5.0</td><td>160</td><td> 58.8</td><td>⋯</td><td>0.91</td><td>0.97</td><td>0.98</td><td>0.86</td><td>0.74</td><td>0.80</td><td>0.8241667</td><td>2</td><td>0</td><td>1-2 times per year hypertensive crises (Corinfar)                                        </td></tr>\n",
              "\t<tr><td>5</td><td>54</td><td>0</td><td>Soriano, Ryan          </td><td>1</td><td>2023-03-16</td><td>57</td><td>5.0</td><td>180</td><td> 71.0</td><td>⋯</td><td>1.20</td><td>1.20</td><td>1.25</td><td>1.10</td><td>1.30</td><td>1.13</td><td>1.0983333</td><td>1</td><td>1</td><td>NA                                                                                       </td></tr>\n",
              "\t<tr><td>6</td><td>55</td><td>0</td><td>Munoz-Lujan, Evangelina</td><td>1</td><td>2023-03-25</td><td>79</td><td>6.2</td><td>160</td><td> 64.0</td><td>⋯</td><td>0.88</td><td>0.80</td><td>0.90</td><td>1.07</td><td>1.00</td><td>1.30</td><td>0.8475000</td><td>2</td><td>0</td><td>Cholecystitis, gastritis without exacerbation. Diffuse focal changes in the thyroid gland</td></tr>\n",
              "</tbody>\n",
              "</table>\n"
            ],
            "text/markdown": "\nA tibble: 6 × 49\n\n| Vial number &lt;dbl&gt; | Patient number &lt;dbl&gt; | Sucrose &lt;dbl&gt; | Name &lt;chr&gt; | Group &lt;dbl&gt; | Date &lt;dttm&gt; | Age &lt;dbl&gt; | Plasma volume &lt;dbl&gt; | Ht &lt;dbl&gt; | Wt &lt;dbl&gt; | ⋯ ⋯ | r lat max &lt;dbl&gt; | r ant max &lt;dbl&gt; | r pos max &lt;dbl&gt; | l lat max &lt;dbl&gt; | l ant max &lt;dbl&gt; | l pos max &lt;dbl&gt; | carotid IMT mean &lt;dbl&gt; | Plaque &lt;dbl&gt; | Statins &lt;dbl&gt; | comorbidities &lt;chr&gt; |\n|---|---|---|---|---|---|---|---|---|---|---|---|---|---|---|---|---|---|---|---|---|\n| 1 | 50 | 0 | Woodard, Dillon         | 0 | 2022-03-26 | 63 | 6.5 | 163 |  84.0 | ⋯ | 0.65 | 0.80 | 0.80 | 0.81 | 0.78 | 0.80 | 0.6425000 | 1 | 1 | NA                                                                                        |\n| 2 | 51 | 0 | Kuck, Breanna           | 0 | 2023-12-23 | 47 | 5.5 | 179 | 111.0 | ⋯ | 1.03 | 0.92 | 1.03 | 1.03 | 1.03 | 1.09 | 0.8400000 | 1 | 0 | NA                                                                                        |\n| 3 | 52 | 0 | Thomas, Terrance        | 1 | 2022-10-10 | 57 | 7.0 | 164 |  80.0 | ⋯ | 1.00 | 0.90 | 0.95 | 0.85 | 0.90 | 0.90 | 0.8500000 | 3 | 1 | Type 2 diabetes mellitus; MI - 2016                                                       |\n| 4 | 53 | 0 | Moua, Kensue            | 1 | 2022-12-21 | 72 | 5.0 | 160 |  58.8 | ⋯ | 0.91 | 0.97 | 0.98 | 0.86 | 0.74 | 0.80 | 0.8241667 | 2 | 0 | 1-2 times per year hypertensive crises (Corinfar)                                         |\n| 5 | 54 | 0 | Soriano, Ryan           | 1 | 2023-03-16 | 57 | 5.0 | 180 |  71.0 | ⋯ | 1.20 | 1.20 | 1.25 | 1.10 | 1.30 | 1.13 | 1.0983333 | 1 | 1 | NA                                                                                        |\n| 6 | 55 | 0 | Munoz-Lujan, Evangelina | 1 | 2023-03-25 | 79 | 6.2 | 160 |  64.0 | ⋯ | 0.88 | 0.80 | 0.90 | 1.07 | 1.00 | 1.30 | 0.8475000 | 2 | 0 | Cholecystitis, gastritis without exacerbation. Diffuse focal changes in the thyroid gland |\n\n",
            "text/latex": "A tibble: 6 × 49\n\\begin{tabular}{lllllllllllllllllllll}\n Vial number & Patient number & Sucrose & Name & Group & Date & Age & Plasma volume & Ht & Wt & ⋯ & r lat max & r ant max & r pos max & l lat max & l ant max & l pos max & carotid IMT mean & Plaque & Statins & comorbidities\\\\\n <dbl> & <dbl> & <dbl> & <chr> & <dbl> & <dttm> & <dbl> & <dbl> & <dbl> & <dbl> & ⋯ & <dbl> & <dbl> & <dbl> & <dbl> & <dbl> & <dbl> & <dbl> & <dbl> & <dbl> & <chr>\\\\\n\\hline\n\t 1 & 50 & 0 & Woodard, Dillon         & 0 & 2022-03-26 & 63 & 6.5 & 163 &  84.0 & ⋯ & 0.65 & 0.80 & 0.80 & 0.81 & 0.78 & 0.80 & 0.6425000 & 1 & 1 & NA                                                                                       \\\\\n\t 2 & 51 & 0 & Kuck, Breanna           & 0 & 2023-12-23 & 47 & 5.5 & 179 & 111.0 & ⋯ & 1.03 & 0.92 & 1.03 & 1.03 & 1.03 & 1.09 & 0.8400000 & 1 & 0 & NA                                                                                       \\\\\n\t 3 & 52 & 0 & Thomas, Terrance        & 1 & 2022-10-10 & 57 & 7.0 & 164 &  80.0 & ⋯ & 1.00 & 0.90 & 0.95 & 0.85 & 0.90 & 0.90 & 0.8500000 & 3 & 1 & Type 2 diabetes mellitus; MI - 2016                                                      \\\\\n\t 4 & 53 & 0 & Moua, Kensue            & 1 & 2022-12-21 & 72 & 5.0 & 160 &  58.8 & ⋯ & 0.91 & 0.97 & 0.98 & 0.86 & 0.74 & 0.80 & 0.8241667 & 2 & 0 & 1-2 times per year hypertensive crises (Corinfar)                                        \\\\\n\t 5 & 54 & 0 & Soriano, Ryan           & 1 & 2023-03-16 & 57 & 5.0 & 180 &  71.0 & ⋯ & 1.20 & 1.20 & 1.25 & 1.10 & 1.30 & 1.13 & 1.0983333 & 1 & 1 & NA                                                                                       \\\\\n\t 6 & 55 & 0 & Munoz-Lujan, Evangelina & 1 & 2023-03-25 & 79 & 6.2 & 160 &  64.0 & ⋯ & 0.88 & 0.80 & 0.90 & 1.07 & 1.00 & 1.30 & 0.8475000 & 2 & 0 & Cholecystitis, gastritis without exacerbation. Diffuse focal changes in the thyroid gland\\\\\n\\end{tabular}\n",
            "text/plain": [
              "  Vial number Patient number Sucrose Name                    Group Date      \n",
              "1 1           50             0       Woodard, Dillon         0     2022-03-26\n",
              "2 2           51             0       Kuck, Breanna           0     2023-12-23\n",
              "3 3           52             0       Thomas, Terrance        1     2022-10-10\n",
              "4 4           53             0       Moua, Kensue            1     2022-12-21\n",
              "5 5           54             0       Soriano, Ryan           1     2023-03-16\n",
              "6 6           55             0       Munoz-Lujan, Evangelina 1     2023-03-25\n",
              "  Age Plasma volume Ht  Wt    ⋯ r lat max r ant max r pos max l lat max\n",
              "1 63  6.5           163  84.0 ⋯ 0.65      0.80      0.80      0.81     \n",
              "2 47  5.5           179 111.0 ⋯ 1.03      0.92      1.03      1.03     \n",
              "3 57  7.0           164  80.0 ⋯ 1.00      0.90      0.95      0.85     \n",
              "4 72  5.0           160  58.8 ⋯ 0.91      0.97      0.98      0.86     \n",
              "5 57  5.0           180  71.0 ⋯ 1.20      1.20      1.25      1.10     \n",
              "6 79  6.2           160  64.0 ⋯ 0.88      0.80      0.90      1.07     \n",
              "  l ant max l pos max carotid IMT mean Plaque Statins\n",
              "1 0.78      0.80      0.6425000        1      1      \n",
              "2 1.03      1.09      0.8400000        1      0      \n",
              "3 0.90      0.90      0.8500000        3      1      \n",
              "4 0.74      0.80      0.8241667        2      0      \n",
              "5 1.30      1.13      1.0983333        1      1      \n",
              "6 1.00      1.30      0.8475000        2      0      \n",
              "  comorbidities                                                                            \n",
              "1 NA                                                                                       \n",
              "2 NA                                                                                       \n",
              "3 Type 2 diabetes mellitus; MI - 2016                                                      \n",
              "4 1-2 times per year hypertensive crises (Corinfar)                                        \n",
              "5 NA                                                                                       \n",
              "6 Cholecystitis, gastritis without exacerbation. Diffuse focal changes in the thyroid gland"
            ]
          },
          "metadata": {}
        }
      ]
    },
    {
      "cell_type": "code",
      "source": [
        "type_sum(meta)"
      ],
      "metadata": {
        "colab": {
          "base_uri": "https://localhost:8080/",
          "height": 34
        },
        "id": "GmIfTrcEc2bY",
        "outputId": "437a9b41-cf3e-4710-9f16-575e577763b0"
      },
      "execution_count": null,
      "outputs": [
        {
          "output_type": "display_data",
          "data": {
            "text/html": [
              "'tibble[,49]'"
            ],
            "text/markdown": "'tibble[,49]'",
            "text/latex": "'tibble{[},49{]}'",
            "text/plain": [
              "[1] \"tibble[,49]\""
            ]
          },
          "metadata": {}
        }
      ]
    },
    {
      "cell_type": "code",
      "source": [
        "hist(log10(meta$`Plasma volume`))"
      ],
      "metadata": {
        "colab": {
          "base_uri": "https://localhost:8080/",
          "height": 437
        },
        "id": "dLkqunJmclJN",
        "outputId": "c485c813-d3bb-4bbb-85c3-97bc0d76d894"
      },
      "execution_count": null,
      "outputs": [
        {
          "output_type": "display_data",
          "data": {
            "text/plain": [
              "Plot with title “Histogram of log10(meta$`Plasma volume`)”"
            ],
            "image/png": "[encoded data removed]"
          },
          "metadata": {
            "image/png": {
              "width": 420,
              "height": 420
            }
          }
        }
      ]
    },
    {
      "cell_type": "code",
      "source": [
        "hist(meta$Age)"
      ],
      "metadata": {
        "colab": {
          "base_uri": "https://localhost:8080/",
          "height": 437
        },
        "id": "ZojDkMBedd3p",
        "outputId": "88a42251-f3dc-4d59-eb66-92160e57a852"
      },
      "execution_count": null,
      "outputs": [
        {
          "output_type": "display_data",
          "data": {
            "text/plain": [
              "Plot with title “Histogram of meta$Age”"
            ],
            "image/png": "[encoded data removed]"
          },
          "metadata": {
            "image/png": {
              "width": 420,
              "height": 420
            }
          }
        }
      ]
    },
    {
      "cell_type": "code",
      "source": [
        "ggplot(meta,aes(Age)) +\n",
        "  geom_histogram(color='black',fill='red') +\n",
        "  ggtitle(\"Age\") +\n",
        "  #cale_x_log10(name=\"log10 of DBP\") +\n",
        "  scale_y_continuous(name = \"Frequency\")"
      ],
      "metadata": {
        "colab": {
          "base_uri": "https://localhost:8080/",
          "height": 455
        },
        "id": "52tofoINdxSc",
        "outputId": "bf9d5578-596f-4d06-b039-6055f1beb7d4"
      },
      "execution_count": null,
      "outputs": [
        {
          "output_type": "stream",
          "name": "stderr",
          "text": [
            "\u001b[1m\u001b[22m`stat_bin()` using `bins = 30`. Pick better value with `binwidth`.\n"
          ]
        },
        {
          "output_type": "display_data",
          "data": {
            "text/plain": [
              "plot without title"
            ],
            "image/png": "[encoded data removed]"
          },
          "metadata": {
            "image/png": {
              "width": 420,
              "height": 420
            }
          }
        }
      ]
    },
    {
      "cell_type": "code",
      "source": [
        "hist(meta$Sys)"
      ],
      "metadata": {
        "colab": {
          "base_uri": "https://localhost:8080/",
          "height": 437
        },
        "id": "iImlA2Kiinfg",
        "outputId": "ac4869ff-6188-4a6a-b31f-99c28f32493c"
      },
      "execution_count": null,
      "outputs": [
        {
          "output_type": "display_data",
          "data": {
            "text/plain": [
              "Plot with title “Histogram of meta$Sys”"
            ],
            "image/png": "[encoded data removed]"
          },
          "metadata": {
            "image/png": {
              "width": 420,
              "height": 420
            }
          }
        }
      ]
    },
    {
      "cell_type": "code",
      "source": [
        "hist(meta$Dia)"
      ],
      "metadata": {
        "colab": {
          "base_uri": "https://localhost:8080/",
          "height": 437
        },
        "id": "LgfFVSX1jbVX",
        "outputId": "97305c4e-878a-4242-8682-105d05992f14"
      },
      "execution_count": null,
      "outputs": [
        {
          "output_type": "display_data",
          "data": {
            "text/plain": [
              "Plot with title “Histogram of meta$Dia”"
            ],
            "image/png": "[encoded data removed]"
          },
          "metadata": {
            "image/png": {
              "width": 420,
              "height": 420
            }
          }
        }
      ]
    },
    {
      "cell_type": "code",
      "source": [
        "cov(meta$Dia,meta$BMI)"
      ],
      "metadata": {
        "colab": {
          "base_uri": "https://localhost:8080/",
          "height": 34
        },
        "id": "jWRvWnKnjgiH",
        "outputId": "38e089b7-7930-45e5-e24f-95302ec6054d"
      },
      "execution_count": null,
      "outputs": [
        {
          "output_type": "display_data",
          "data": {
            "text/html": [
              "24.4081096199033"
            ],
            "text/markdown": "24.4081096199033",
            "text/latex": "24.4081096199033",
            "text/plain": [
              "[1] 24.40811"
            ]
          },
          "metadata": {}
        }
      ]
    },
    {
      "cell_type": "code",
      "source": [
        "cov(meta$Dia,meta$Sys)"
      ],
      "metadata": {
        "colab": {
          "base_uri": "https://localhost:8080/",
          "height": 34
        },
        "id": "BdRSZBYVkPQt",
        "outputId": "6cc6bd33-72c5-47d6-fa31-c835a5ed9722"
      },
      "execution_count": null,
      "outputs": [
        {
          "output_type": "display_data",
          "data": {
            "text/html": [
              "86.1024182076814"
            ],
            "text/markdown": "86.1024182076814",
            "text/latex": "86.1024182076814",
            "text/plain": [
              "[1] 86.10242"
            ]
          },
          "metadata": {}
        }
      ]
    },
    {
      "cell_type": "code",
      "source": [
        "cor.test(meta$Dia,meta$BMI)"
      ],
      "metadata": {
        "colab": {
          "base_uri": "https://localhost:8080/",
          "height": 217
        },
        "id": "YELygSClj9bR",
        "outputId": "9e4cadef-8d5c-4da9-f19e-be4fd076e1be"
      },
      "execution_count": null,
      "outputs": [
        {
          "output_type": "display_data",
          "data": {
            "text/plain": [
              "\n",
              "\tPearson's product-moment correlation\n",
              "\n",
              "data:  meta$Dia and meta$BMI\n",
              "t = 2.8671, df = 36, p-value = 0.006882\n",
              "alternative hypothesis: true correlation is not equal to 0\n",
              "95 percent confidence interval:\n",
              " 0.1292897 0.6598829\n",
              "sample estimates:\n",
              "      cor \n",
              "0.4311527 \n"
            ]
          },
          "metadata": {}
        }
      ]
    },
    {
      "cell_type": "code",
      "source": [
        "hist(log10(meta$HDLi...31))"
      ],
      "metadata": {
        "colab": {
          "base_uri": "https://localhost:8080/",
          "height": 437
        },
        "id": "Q3cEZ4KDlJ9u",
        "outputId": "aadba105-9405-44a4-95cd-f48391f4f604"
      },
      "execution_count": null,
      "outputs": [
        {
          "output_type": "display_data",
          "data": {
            "text/plain": [
              "Plot with title “Histogram of log10(meta$HDLi...31)”"
            ],
            "image/png": "[encoded data removed]"
          },
          "metadata": {
            "image/png": {
              "width": 420,
              "height": 420
            }
          }
        }
      ]
    },
    {
      "cell_type": "code",
      "source": [
        "hist(meta$Tgi...26)\n",
        "meta$HDLi...31 <- log10(meta$HDLi...31)"
      ],
      "metadata": {
        "colab": {
          "base_uri": "https://localhost:8080/",
          "height": 437
        },
        "id": "IcKtkixAlebS",
        "outputId": "6714aed1-8efa-43f8-97a0-f0167925b62a"
      },
      "execution_count": null,
      "outputs": [
        {
          "output_type": "display_data",
          "data": {
            "text/plain": [
              "Plot with title “Histogram of meta$Tgi...26”"
            ],
            "image/png": "[encoded data removed]"
          },
          "metadata": {
            "image/png": {
              "width": 420,
              "height": 420
            }
          }
        }
      ]
    },
    {
      "cell_type": "code",
      "source": [
        "hist(meta$Choi...25)"
      ],
      "metadata": {
        "colab": {
          "base_uri": "https://localhost:8080/",
          "height": 437
        },
        "id": "QMERxANGkyWD",
        "outputId": "2ba53383-9ee0-4a92-a2df-d6d9a70f392b"
      },
      "execution_count": null,
      "outputs": [
        {
          "output_type": "display_data",
          "data": {
            "text/plain": [
              "Plot with title “Histogram of meta$Choi...25”"
            ],
            "image/png": "[encoded data removed]"
          },
          "metadata": {
            "image/png": {
              "width": 420,
              "height": 420
            }
          }
        }
      ]
    },
    {
      "cell_type": "code",
      "source": [
        "hist(meta$Tgi...30)"
      ],
      "metadata": {
        "colab": {
          "base_uri": "https://localhost:8080/",
          "height": 437
        },
        "id": "XAm6Hs3LnrFw",
        "outputId": "903f0b78-aaaa-4c55-8cb0-a9ac19e9e8c6"
      },
      "execution_count": null,
      "outputs": [
        {
          "output_type": "display_data",
          "data": {
            "text/plain": [
              "Plot with title “Histogram of meta$Tgi...30”"
            ],
            "image/png": "[encoded data removed]"
          },
          "metadata": {
            "image/png": {
              "width": 420,
              "height": 420
            }
          }
        }
      ]
    },
    {
      "cell_type": "code",
      "source": [
        "hist(meta$LVH)"
      ],
      "metadata": {
        "colab": {
          "base_uri": "https://localhost:8080/",
          "height": 437
        },
        "id": "ZfNlKeq1pQ3a",
        "outputId": "ca231335-0be6-486b-f4df-8859eb50819b"
      },
      "execution_count": null,
      "outputs": [
        {
          "output_type": "display_data",
          "data": {
            "text/plain": [
              "Plot with title “Histogram of meta$LVH”"
            ],
            "image/png": "[encoded data removed]"
          },
          "metadata": {
            "image/png": {
              "width": 420,
              "height": 420
            }
          }
        }
      ]
    },
    {
      "cell_type": "code",
      "source": [
        "cov(meta$Dm,meta$LDLi...28)"
      ],
      "metadata": {
        "colab": {
          "base_uri": "https://localhost:8080/",
          "height": 34
        },
        "id": "dJ3XnpepqUMq",
        "outputId": "b32c382e-b756-4a58-9d63-b3a1b0ead05d"
      },
      "execution_count": null,
      "outputs": [
        {
          "output_type": "display_data",
          "data": {
            "text/html": [
              "-2.31450924608819"
            ],
            "text/markdown": "-2.31450924608819",
            "text/latex": "-2.31450924608819",
            "text/plain": [
              "[1] -2.314509"
            ]
          },
          "metadata": {}
        }
      ]
    },
    {
      "cell_type": "code",
      "source": [
        "cov(meta$Dm,meta$Tgi...30)"
      ],
      "metadata": {
        "colab": {
          "base_uri": "https://localhost:8080/",
          "height": 34
        },
        "id": "qKQKWQU4rFoU",
        "outputId": "c99b7c9c-7fa1-4866-f822-ace27e03cb83"
      },
      "execution_count": null,
      "outputs": [
        {
          "output_type": "display_data",
          "data": {
            "text/html": [
              "0.000125052756631697"
            ],
            "text/markdown": "0.000125052756631697",
            "text/latex": "0.000125052756631697",
            "text/plain": [
              "[1] 0.0001250528"
            ]
          },
          "metadata": {}
        }
      ]
    },
    {
      "cell_type": "code",
      "source": [
        "cov(meta$LDLi...28,meta$AI)"
      ],
      "metadata": {
        "colab": {
          "base_uri": "https://localhost:8080/",
          "height": 34
        },
        "id": "h7LTf8C2xZ-T",
        "outputId": "34d78c41-cd6c-416b-9cc6-48e5214b7626"
      },
      "execution_count": null,
      "outputs": [
        {
          "output_type": "display_data",
          "data": {
            "text/html": [
              "31.9672061099623"
            ],
            "text/markdown": "31.9672061099623",
            "text/latex": "31.9672061099623",
            "text/plain": [
              "[1] 31.96721"
            ]
          },
          "metadata": {}
        }
      ]
    },
    {
      "cell_type": "markdown",
      "source": [
        "Working with Ancova"
      ],
      "metadata": {
        "id": "eLK7KdqQkb0z"
      }
    },
    {
      "cell_type": "code",
      "source": [
        "#Generalized model\n",
        "model.1 <- lm(AI ~ LDLi...28 + Dm +  LDLi...28:Dm,data = meta)\n",
        "anova(model.1)"
      ],
      "metadata": {
        "colab": {
          "base_uri": "https://localhost:8080/",
          "height": 223
        },
        "id": "udMSf6Xnkfqm",
        "outputId": "93575635-5536-417b-8b58-70b9e0565d27"
      },
      "execution_count": null,
      "outputs": [
        {
          "output_type": "display_data",
          "data": {
            "text/html": [
              "<table class=\"dataframe\">\n",
              "<caption>A anova: 4 × 5</caption>\n",
              "<thead>\n",
              "\t<tr><th></th><th scope=col>Df</th><th scope=col>Sum Sq</th><th scope=col>Mean Sq</th><th scope=col>F value</th><th scope=col>Pr(&gt;F)</th></tr>\n",
              "\t<tr><th></th><th scope=col>&lt;int&gt;</th><th scope=col>&lt;dbl&gt;</th><th scope=col>&lt;dbl&gt;</th><th scope=col>&lt;dbl&gt;</th><th scope=col>&lt;dbl&gt;</th></tr>\n",
              "</thead>\n",
              "<tbody>\n",
              "\t<tr><th scope=row>LDLi...28</th><td> 1</td><td>23.43541407</td><td>23.43541407</td><td>84.48036667</td><td>9.657664e-11</td></tr>\n",
              "\t<tr><th scope=row>Dm</th><td> 1</td><td> 0.96832070</td><td> 0.96832070</td><td> 3.49061840</td><td>7.035476e-02</td></tr>\n",
              "\t<tr><th scope=row>LDLi...28:Dm</th><td> 1</td><td> 0.02398143</td><td> 0.02398143</td><td> 0.08644867</td><td>7.705290e-01</td></tr>\n",
              "\t<tr><th scope=row>Residuals</th><td>34</td><td> 9.43182552</td><td> 0.27740663</td><td>         NA</td><td>          NA</td></tr>\n",
              "</tbody>\n",
              "</table>\n"
            ],
            "text/markdown": "\nA anova: 4 × 5\n\n| <!--/--> | Df &lt;int&gt; | Sum Sq &lt;dbl&gt; | Mean Sq &lt;dbl&gt; | F value &lt;dbl&gt; | Pr(&gt;F) &lt;dbl&gt; |\n|---|---|---|---|---|---|\n| LDLi...28 |  1 | 23.43541407 | 23.43541407 | 84.48036667 | 9.657664e-11 |\n| Dm |  1 |  0.96832070 |  0.96832070 |  3.49061840 | 7.035476e-02 |\n| LDLi...28:Dm |  1 |  0.02398143 |  0.02398143 |  0.08644867 | 7.705290e-01 |\n| Residuals | 34 |  9.43182552 |  0.27740663 |          NA |           NA |\n\n",
            "text/latex": "A anova: 4 × 5\n\\begin{tabular}{r|lllll}\n  & Df & Sum Sq & Mean Sq & F value & Pr(>F)\\\\\n  & <int> & <dbl> & <dbl> & <dbl> & <dbl>\\\\\n\\hline\n\tLDLi...28 &  1 & 23.43541407 & 23.43541407 & 84.48036667 & 9.657664e-11\\\\\n\tDm &  1 &  0.96832070 &  0.96832070 &  3.49061840 & 7.035476e-02\\\\\n\tLDLi...28:Dm &  1 &  0.02398143 &  0.02398143 &  0.08644867 & 7.705290e-01\\\\\n\tResiduals & 34 &  9.43182552 &  0.27740663 &          NA &           NA\\\\\n\\end{tabular}\n",
            "text/plain": [
              "             Df Sum Sq      Mean Sq     F value     Pr(>F)      \n",
              "LDLi...28     1 23.43541407 23.43541407 84.48036667 9.657664e-11\n",
              "Dm            1  0.96832070  0.96832070  3.49061840 7.035476e-02\n",
              "LDLi...28:Dm  1  0.02398143  0.02398143  0.08644867 7.705290e-01\n",
              "Residuals    34  9.43182552  0.27740663          NA           NA"
            ]
          },
          "metadata": {}
        }
      ]
    },
    {
      "cell_type": "code",
      "source": [
        "#Ancova model\n",
        "model.2 <- lm(AI ~ LDLi...28 + Dm,data = meta)\n",
        "anova(model.2)"
      ],
      "metadata": {
        "colab": {
          "base_uri": "https://localhost:8080/",
          "height": 192
        },
        "id": "3xCF830Fpl3F",
        "outputId": "3327d1f3-d6bd-49e9-b310-100e3facd4a6"
      },
      "execution_count": null,
      "outputs": [
        {
          "output_type": "display_data",
          "data": {
            "text/html": [
              "<table class=\"dataframe\">\n",
              "<caption>A anova: 3 × 5</caption>\n",
              "<thead>\n",
              "\t<tr><th></th><th scope=col>Df</th><th scope=col>Sum Sq</th><th scope=col>Mean Sq</th><th scope=col>F value</th><th scope=col>Pr(&gt;F)</th></tr>\n",
              "\t<tr><th></th><th scope=col>&lt;int&gt;</th><th scope=col>&lt;dbl&gt;</th><th scope=col>&lt;dbl&gt;</th><th scope=col>&lt;dbl&gt;</th><th scope=col>&lt;dbl&gt;</th></tr>\n",
              "</thead>\n",
              "<tbody>\n",
              "\t<tr><th scope=row>LDLi...28</th><td> 1</td><td>23.4354141</td><td>23.4354141</td><td>86.744526</td><td>5.267606e-11</td></tr>\n",
              "\t<tr><th scope=row>Dm</th><td> 1</td><td> 0.9683207</td><td> 0.9683207</td><td> 3.584171</td><td>6.662416e-02</td></tr>\n",
              "\t<tr><th scope=row>Residuals</th><td>35</td><td> 9.4558070</td><td> 0.2701659</td><td>       NA</td><td>          NA</td></tr>\n",
              "</tbody>\n",
              "</table>\n"
            ],
            "text/markdown": "\nA anova: 3 × 5\n\n| <!--/--> | Df &lt;int&gt; | Sum Sq &lt;dbl&gt; | Mean Sq &lt;dbl&gt; | F value &lt;dbl&gt; | Pr(&gt;F) &lt;dbl&gt; |\n|---|---|---|---|---|---|\n| LDLi...28 |  1 | 23.4354141 | 23.4354141 | 86.744526 | 5.267606e-11 |\n| Dm |  1 |  0.9683207 |  0.9683207 |  3.584171 | 6.662416e-02 |\n| Residuals | 35 |  9.4558070 |  0.2701659 |        NA |           NA |\n\n",
            "text/latex": "A anova: 3 × 5\n\\begin{tabular}{r|lllll}\n  & Df & Sum Sq & Mean Sq & F value & Pr(>F)\\\\\n  & <int> & <dbl> & <dbl> & <dbl> & <dbl>\\\\\n\\hline\n\tLDLi...28 &  1 & 23.4354141 & 23.4354141 & 86.744526 & 5.267606e-11\\\\\n\tDm &  1 &  0.9683207 &  0.9683207 &  3.584171 & 6.662416e-02\\\\\n\tResiduals & 35 &  9.4558070 &  0.2701659 &        NA &           NA\\\\\n\\end{tabular}\n",
            "text/plain": [
              "          Df Sum Sq     Mean Sq    F value   Pr(>F)      \n",
              "LDLi...28  1 23.4354141 23.4354141 86.744526 5.267606e-11\n",
              "Dm         1  0.9683207  0.9683207  3.584171 6.662416e-02\n",
              "Residuals 35  9.4558070  0.2701659        NA           NA"
            ]
          },
          "metadata": {}
        }
      ]
    },
    {
      "cell_type": "code",
      "source": [
        "# F-test\n",
        "anova(model.1,model.2)\n",
        "# Here we failed to reject null hypotthesis , there are no significant different between full model and ancova or reduced model"
      ],
      "metadata": {
        "colab": {
          "base_uri": "https://localhost:8080/",
          "height": 161
        },
        "id": "ChJ12K5Ar1H2",
        "outputId": "cd8345e3-4ec8-4e20-946b-aaeff3032a2b"
      },
      "execution_count": null,
      "outputs": [
        {
          "output_type": "display_data",
          "data": {
            "text/html": [
              "<table class=\"dataframe\">\n",
              "<caption>A anova: 2 × 6</caption>\n",
              "<thead>\n",
              "\t<tr><th></th><th scope=col>Res.Df</th><th scope=col>RSS</th><th scope=col>Df</th><th scope=col>Sum of Sq</th><th scope=col>F</th><th scope=col>Pr(&gt;F)</th></tr>\n",
              "\t<tr><th></th><th scope=col>&lt;dbl&gt;</th><th scope=col>&lt;dbl&gt;</th><th scope=col>&lt;dbl&gt;</th><th scope=col>&lt;dbl&gt;</th><th scope=col>&lt;dbl&gt;</th><th scope=col>&lt;dbl&gt;</th></tr>\n",
              "</thead>\n",
              "<tbody>\n",
              "\t<tr><th scope=row>1</th><td>34</td><td>9.431826</td><td>NA</td><td>         NA</td><td>        NA</td><td>      NA</td></tr>\n",
              "\t<tr><th scope=row>2</th><td>35</td><td>9.455807</td><td>-1</td><td>-0.02398143</td><td>0.08644867</td><td>0.770529</td></tr>\n",
              "</tbody>\n",
              "</table>\n"
            ],
            "text/markdown": "\nA anova: 2 × 6\n\n| <!--/--> | Res.Df &lt;dbl&gt; | RSS &lt;dbl&gt; | Df &lt;dbl&gt; | Sum of Sq &lt;dbl&gt; | F &lt;dbl&gt; | Pr(&gt;F) &lt;dbl&gt; |\n|---|---|---|---|---|---|---|\n| 1 | 34 | 9.431826 | NA |          NA |         NA |       NA |\n| 2 | 35 | 9.455807 | -1 | -0.02398143 | 0.08644867 | 0.770529 |\n\n",
            "text/latex": "A anova: 2 × 6\n\\begin{tabular}{r|llllll}\n  & Res.Df & RSS & Df & Sum of Sq & F & Pr(>F)\\\\\n  & <dbl> & <dbl> & <dbl> & <dbl> & <dbl> & <dbl>\\\\\n\\hline\n\t1 & 34 & 9.431826 & NA &          NA &         NA &       NA\\\\\n\t2 & 35 & 9.455807 & -1 & -0.02398143 & 0.08644867 & 0.770529\\\\\n\\end{tabular}\n",
            "text/plain": [
              "  Res.Df RSS      Df Sum of Sq   F          Pr(>F)  \n",
              "1 34     9.431826 NA          NA         NA       NA\n",
              "2 35     9.455807 -1 -0.02398143 0.08644867 0.770529"
            ]
          },
          "metadata": {}
        }
      ]
    },
    {
      "cell_type": "code",
      "source": [
        "#Reduced linear model\n",
        "model.3 <- lm(AI ~ LDLi...28,data = meta)\n",
        "anova(model.3)"
      ],
      "metadata": {
        "colab": {
          "base_uri": "https://localhost:8080/",
          "height": 161
        },
        "id": "dj-pmLA0tW4T",
        "outputId": "41edc31d-a9a9-4f6b-d47a-8c0945ad4674"
      },
      "execution_count": null,
      "outputs": [
        {
          "output_type": "display_data",
          "data": {
            "text/html": [
              "<table class=\"dataframe\">\n",
              "<caption>A anova: 2 × 5</caption>\n",
              "<thead>\n",
              "\t<tr><th></th><th scope=col>Df</th><th scope=col>Sum Sq</th><th scope=col>Mean Sq</th><th scope=col>F value</th><th scope=col>Pr(&gt;F)</th></tr>\n",
              "\t<tr><th></th><th scope=col>&lt;int&gt;</th><th scope=col>&lt;dbl&gt;</th><th scope=col>&lt;dbl&gt;</th><th scope=col>&lt;dbl&gt;</th><th scope=col>&lt;dbl&gt;</th></tr>\n",
              "</thead>\n",
              "<tbody>\n",
              "\t<tr><th scope=row>LDLi...28</th><td> 1</td><td>23.43541</td><td>23.4354141</td><td>80.93482</td><td>9.686851e-11</td></tr>\n",
              "\t<tr><th scope=row>Residuals</th><td>36</td><td>10.42413</td><td> 0.2895591</td><td>      NA</td><td>          NA</td></tr>\n",
              "</tbody>\n",
              "</table>\n"
            ],
            "text/markdown": "\nA anova: 2 × 5\n\n| <!--/--> | Df &lt;int&gt; | Sum Sq &lt;dbl&gt; | Mean Sq &lt;dbl&gt; | F value &lt;dbl&gt; | Pr(&gt;F) &lt;dbl&gt; |\n|---|---|---|---|---|---|\n| LDLi...28 |  1 | 23.43541 | 23.4354141 | 80.93482 | 9.686851e-11 |\n| Residuals | 36 | 10.42413 |  0.2895591 |       NA |           NA |\n\n",
            "text/latex": "A anova: 2 × 5\n\\begin{tabular}{r|lllll}\n  & Df & Sum Sq & Mean Sq & F value & Pr(>F)\\\\\n  & <int> & <dbl> & <dbl> & <dbl> & <dbl>\\\\\n\\hline\n\tLDLi...28 &  1 & 23.43541 & 23.4354141 & 80.93482 & 9.686851e-11\\\\\n\tResiduals & 36 & 10.42413 &  0.2895591 &       NA &           NA\\\\\n\\end{tabular}\n",
            "text/plain": [
              "          Df Sum Sq   Mean Sq    F value  Pr(>F)      \n",
              "LDLi...28  1 23.43541 23.4354141 80.93482 9.686851e-11\n",
              "Residuals 36 10.42413  0.2895591       NA           NA"
            ]
          },
          "metadata": {}
        }
      ]
    },
    {
      "cell_type": "code",
      "source": [
        "# F-test 2\n",
        "anova(model.2,model.3)\n",
        "#here we found Dm variable not statistically significant"
      ],
      "metadata": {
        "colab": {
          "base_uri": "https://localhost:8080/",
          "height": 161
        },
        "id": "qCFxoUmR1udi",
        "outputId": "e9957e02-55f3-4963-89da-efcc9c3955d1"
      },
      "execution_count": null,
      "outputs": [
        {
          "output_type": "display_data",
          "data": {
            "text/html": [
              "<table class=\"dataframe\">\n",
              "<caption>A anova: 2 × 6</caption>\n",
              "<thead>\n",
              "\t<tr><th></th><th scope=col>Res.Df</th><th scope=col>RSS</th><th scope=col>Df</th><th scope=col>Sum of Sq</th><th scope=col>F</th><th scope=col>Pr(&gt;F)</th></tr>\n",
              "\t<tr><th></th><th scope=col>&lt;dbl&gt;</th><th scope=col>&lt;dbl&gt;</th><th scope=col>&lt;dbl&gt;</th><th scope=col>&lt;dbl&gt;</th><th scope=col>&lt;dbl&gt;</th><th scope=col>&lt;dbl&gt;</th></tr>\n",
              "</thead>\n",
              "<tbody>\n",
              "\t<tr><th scope=row>1</th><td>35</td><td> 9.455807</td><td>NA</td><td>        NA</td><td>      NA</td><td>        NA</td></tr>\n",
              "\t<tr><th scope=row>2</th><td>36</td><td>10.424128</td><td>-1</td><td>-0.9683207</td><td>3.584171</td><td>0.06662416</td></tr>\n",
              "</tbody>\n",
              "</table>\n"
            ],
            "text/markdown": "\nA anova: 2 × 6\n\n| <!--/--> | Res.Df &lt;dbl&gt; | RSS &lt;dbl&gt; | Df &lt;dbl&gt; | Sum of Sq &lt;dbl&gt; | F &lt;dbl&gt; | Pr(&gt;F) &lt;dbl&gt; |\n|---|---|---|---|---|---|---|\n| 1 | 35 |  9.455807 | NA |         NA |       NA |         NA |\n| 2 | 36 | 10.424128 | -1 | -0.9683207 | 3.584171 | 0.06662416 |\n\n",
            "text/latex": "A anova: 2 × 6\n\\begin{tabular}{r|llllll}\n  & Res.Df & RSS & Df & Sum of Sq & F & Pr(>F)\\\\\n  & <dbl> & <dbl> & <dbl> & <dbl> & <dbl> & <dbl>\\\\\n\\hline\n\t1 & 35 &  9.455807 & NA &         NA &       NA &         NA\\\\\n\t2 & 36 & 10.424128 & -1 & -0.9683207 & 3.584171 & 0.06662416\\\\\n\\end{tabular}\n",
            "text/plain": [
              "  Res.Df RSS       Df Sum of Sq  F        Pr(>F)    \n",
              "1 35      9.455807 NA         NA       NA         NA\n",
              "2 36     10.424128 -1 -0.9683207 3.584171 0.06662416"
            ]
          },
          "metadata": {}
        }
      ]
    },
    {
      "cell_type": "code",
      "source": [
        "model.2 <- lm(AI ~ LDLi...28 + Dm,data = meta)\n",
        "summary(model.2)\n",
        "#Dm factor  we failed reject null hypothesis and cannot use this varialble in ancova model"
      ],
      "metadata": {
        "colab": {
          "base_uri": "https://localhost:8080/",
          "height": 362
        },
        "id": "I2ucCVLdvRlf",
        "outputId": "d9efc5b4-984b-423c-9ddc-35c9d08432fa"
      },
      "execution_count": null,
      "outputs": [
        {
          "output_type": "display_data",
          "data": {
            "text/plain": [
              "\n",
              "Call:\n",
              "lm(formula = AI ~ LDLi...28 + Dm, data = meta)\n",
              "\n",
              "Residuals:\n",
              "     Min       1Q   Median       3Q      Max \n",
              "-1.16958 -0.30738 -0.08917  0.37605  1.00874 \n",
              "\n",
              "Coefficients:\n",
              "             Estimate Std. Error t value Pr(>|t|)    \n",
              "(Intercept) -0.622746   0.346884  -1.795   0.0813 .  \n",
              "LDLi...28    0.020573   0.002165   9.503 3.16e-11 ***\n",
              "Dm           0.529318   0.279590   1.893   0.0666 .  \n",
              "---\n",
              "Signif. codes:  0 ‘***’ 0.001 ‘**’ 0.01 ‘*’ 0.05 ‘.’ 0.1 ‘ ’ 1\n",
              "\n",
              "Residual standard error: 0.5198 on 35 degrees of freedom\n",
              "Multiple R-squared:  0.7207,\tAdjusted R-squared:  0.7048 \n",
              "F-statistic: 45.16 on 2 and 35 DF,  p-value: 2.02e-10\n"
            ]
          },
          "metadata": {}
        }
      ]
    },
    {
      "cell_type": "markdown",
      "source": [
        "Manova"
      ],
      "metadata": {
        "id": "9XEAVaXJE6gk"
      }
    },
    {
      "cell_type": "code",
      "source": [
        "df <- read.csv(\"/content/sample_data/skulls.csv\")\n",
        "head(df)\n",
        "#In this dataset were measured the size of skulls in different time of history . We wanna find out here had size changed throuhout time"
      ],
      "metadata": {
        "colab": {
          "base_uri": "https://localhost:8080/",
          "height": 286
        },
        "id": "IXWRBWpO2_Kd",
        "outputId": "5b0fd868-6b56-476d-a4b0-598262118943"
      },
      "execution_count": null,
      "outputs": [
        {
          "output_type": "display_data",
          "data": {
            "text/html": [
              "<table class=\"dataframe\">\n",
              "<caption>A data.frame: 6 × 6</caption>\n",
              "<thead>\n",
              "\t<tr><th></th><th scope=col>X</th><th scope=col>epoch</th><th scope=col>mb</th><th scope=col>bh</th><th scope=col>bl</th><th scope=col>nh</th></tr>\n",
              "\t<tr><th></th><th scope=col>&lt;int&gt;</th><th scope=col>&lt;chr&gt;</th><th scope=col>&lt;int&gt;</th><th scope=col>&lt;int&gt;</th><th scope=col>&lt;int&gt;</th><th scope=col>&lt;int&gt;</th></tr>\n",
              "</thead>\n",
              "<tbody>\n",
              "\t<tr><th scope=row>1</th><td>1</td><td>c4000BC</td><td>131</td><td>138</td><td> 89</td><td>49</td></tr>\n",
              "\t<tr><th scope=row>2</th><td>2</td><td>c4000BC</td><td>125</td><td>131</td><td> 92</td><td>48</td></tr>\n",
              "\t<tr><th scope=row>3</th><td>3</td><td>c4000BC</td><td>131</td><td>132</td><td> 99</td><td>50</td></tr>\n",
              "\t<tr><th scope=row>4</th><td>4</td><td>c4000BC</td><td>119</td><td>132</td><td> 96</td><td>44</td></tr>\n",
              "\t<tr><th scope=row>5</th><td>5</td><td>c4000BC</td><td>136</td><td>143</td><td>100</td><td>54</td></tr>\n",
              "\t<tr><th scope=row>6</th><td>6</td><td>c4000BC</td><td>138</td><td>137</td><td> 89</td><td>56</td></tr>\n",
              "</tbody>\n",
              "</table>\n"
            ],
            "text/markdown": "\nA data.frame: 6 × 6\n\n| <!--/--> | X &lt;int&gt; | epoch &lt;chr&gt; | mb &lt;int&gt; | bh &lt;int&gt; | bl &lt;int&gt; | nh &lt;int&gt; |\n|---|---|---|---|---|---|---|\n| 1 | 1 | c4000BC | 131 | 138 |  89 | 49 |\n| 2 | 2 | c4000BC | 125 | 131 |  92 | 48 |\n| 3 | 3 | c4000BC | 131 | 132 |  99 | 50 |\n| 4 | 4 | c4000BC | 119 | 132 |  96 | 44 |\n| 5 | 5 | c4000BC | 136 | 143 | 100 | 54 |\n| 6 | 6 | c4000BC | 138 | 137 |  89 | 56 |\n\n",
            "text/latex": "A data.frame: 6 × 6\n\\begin{tabular}{r|llllll}\n  & X & epoch & mb & bh & bl & nh\\\\\n  & <int> & <chr> & <int> & <int> & <int> & <int>\\\\\n\\hline\n\t1 & 1 & c4000BC & 131 & 138 &  89 & 49\\\\\n\t2 & 2 & c4000BC & 125 & 131 &  92 & 48\\\\\n\t3 & 3 & c4000BC & 131 & 132 &  99 & 50\\\\\n\t4 & 4 & c4000BC & 119 & 132 &  96 & 44\\\\\n\t5 & 5 & c4000BC & 136 & 143 & 100 & 54\\\\\n\t6 & 6 & c4000BC & 138 & 137 &  89 & 56\\\\\n\\end{tabular}\n",
            "text/plain": [
              "  X epoch   mb  bh  bl  nh\n",
              "1 1 c4000BC 131 138  89 49\n",
              "2 2 c4000BC 125 131  92 48\n",
              "3 3 c4000BC 131 132  99 50\n",
              "4 4 c4000BC 119 132  96 44\n",
              "5 5 c4000BC 136 143 100 54\n",
              "6 6 c4000BC 138 137  89 56"
            ]
          },
          "metadata": {}
        }
      ]
    },
    {
      "cell_type": "code",
      "source": [
        "dim(df)"
      ],
      "metadata": {
        "colab": {
          "base_uri": "https://localhost:8080/",
          "height": 34
        },
        "id": "Z24ORZpOvfVF",
        "outputId": "8ae49a30-88cf-4d19-e89f-57c20031f27e"
      },
      "execution_count": null,
      "outputs": [
        {
          "output_type": "display_data",
          "data": {
            "text/html": [
              "<style>\n",
              ".list-inline {list-style: none; margin:0; padding: 0}\n",
              ".list-inline>li {display: inline-block}\n",
              ".list-inline>li:not(:last-child)::after {content: \"\\00b7\"; padding: 0 .5ex}\n",
              "</style>\n",
              "<ol class=list-inline><li>150</li><li>6</li></ol>\n"
            ],
            "text/markdown": "1. 150\n2. 6\n\n\n",
            "text/latex": "\\begin{enumerate*}\n\\item 150\n\\item 6\n\\end{enumerate*}\n",
            "text/plain": [
              "[1] 150   6"
            ]
          },
          "metadata": {}
        }
      ]
    },
    {
      "cell_type": "code",
      "source": [
        "attach(df)\n",
        "str(df)"
      ],
      "metadata": {
        "colab": {
          "base_uri": "https://localhost:8080/"
        },
        "id": "OPhXd2GjFwLI",
        "outputId": "31bca632-982d-4069-9aeb-44acda25c860"
      },
      "execution_count": null,
      "outputs": [
        {
          "output_type": "stream",
          "name": "stderr",
          "text": [
            "The following objects are masked from df (pos = 3):\n",
            "\n",
            "    bh, bl, epoch, mb, nh, X\n",
            "\n",
            "\n",
            "The following objects are masked from df (pos = 4):\n",
            "\n",
            "    bh, bl, epoch, mb, nh, X\n",
            "\n",
            "\n"
          ]
        },
        {
          "output_type": "stream",
          "name": "stdout",
          "text": [
            "'data.frame':\t150 obs. of  6 variables:\n",
            " $ X    : int  1 2 3 4 5 6 7 8 9 10 ...\n",
            " $ epoch: chr  \"c4000BC\" \"c4000BC\" \"c4000BC\" \"c4000BC\" ...\n",
            " $ mb   : int  131 125 131 119 136 138 139 125 131 134 ...\n",
            " $ bh   : int  138 131 132 132 143 137 130 136 134 134 ...\n",
            " $ bl   : int  89 92 99 96 100 89 108 93 102 99 ...\n",
            " $ nh   : int  49 48 50 44 54 56 48 48 51 51 ...\n"
          ]
        }
      ]
    },
    {
      "cell_type": "code",
      "source": [
        "manova1 <- manova(cbind(mb, bh, bl, nh) ~ epoch,data = df)\n",
        "summary(manova1)\n",
        "# We can see here that independent variable \"epoch\" statistically signifacnt . There are relation between size and timeline"
      ],
      "metadata": {
        "colab": {
          "base_uri": "https://localhost:8080/",
          "height": 108
        },
        "id": "6biYofkyFM1Q",
        "outputId": "f934b5e2-473a-4a23-93dc-cf5e254febca"
      },
      "execution_count": null,
      "outputs": [
        {
          "output_type": "display_data",
          "data": {
            "text/plain": [
              "           Df  Pillai approx F num Df den Df    Pr(>F)    \n",
              "epoch       4 0.35331    3.512     16    580 4.675e-06 ***\n",
              "Residuals 145                                             \n",
              "---\n",
              "Signif. codes:  0 ‘***’ 0.001 ‘**’ 0.01 ‘*’ 0.05 ‘.’ 0.1 ‘ ’ 1"
            ]
          },
          "metadata": {}
        }
      ]
    },
    {
      "cell_type": "code",
      "source": [
        "summary.aov(manova1)"
      ],
      "metadata": {
        "colab": {
          "base_uri": "https://localhost:8080/",
          "height": 471
        },
        "id": "pQ_43Fy-Hrme",
        "outputId": "3d257190-d7c6-4a22-bcf0-d8130beb6ef4"
      },
      "execution_count": null,
      "outputs": [
        {
          "output_type": "display_data",
          "data": {
            "text/plain": [
              " Response mb :\n",
              "             Df  Sum Sq Mean Sq F value    Pr(>F)    \n",
              "epoch         4  502.83 125.707  5.9546 0.0001826 ***\n",
              "Residuals   145 3061.07  21.111                      \n",
              "---\n",
              "Signif. codes:  0 ‘***’ 0.001 ‘**’ 0.01 ‘*’ 0.05 ‘.’ 0.1 ‘ ’ 1\n",
              "\n",
              " Response bh :\n",
              "             Df Sum Sq Mean Sq F value  Pr(>F)  \n",
              "epoch         4  229.9  57.477  2.4474 0.04897 *\n",
              "Residuals   145 3405.3  23.485                  \n",
              "---\n",
              "Signif. codes:  0 ‘***’ 0.001 ‘**’ 0.01 ‘*’ 0.05 ‘.’ 0.1 ‘ ’ 1\n",
              "\n",
              " Response bl :\n",
              "             Df Sum Sq Mean Sq F value    Pr(>F)    \n",
              "epoch         4  803.3 200.823  8.3057 4.636e-06 ***\n",
              "Residuals   145 3506.0  24.179                      \n",
              "---\n",
              "Signif. codes:  0 ‘***’ 0.001 ‘**’ 0.01 ‘*’ 0.05 ‘.’ 0.1 ‘ ’ 1\n",
              "\n",
              " Response nh :\n",
              "             Df Sum Sq Mean Sq F value Pr(>F)\n",
              "epoch         4   61.2  15.300   1.507 0.2032\n",
              "Residuals   145 1472.1  10.153               \n"
            ]
          },
          "metadata": {}
        }
      ]
    },
    {
      "cell_type": "code",
      "source": [
        "model <- aov(formula = Dia ~ Age*BMI, data = meta)\n",
        "\n",
        "summary(model)\n",
        "# В этом тесте НП Age and BMI имеют F- stat меньше чем 0,05 что означает что имеют значительный\n",
        "# эффект потомучто опровергают H0 гипотезу и  имеют не равную дисперсию"
      ],
      "metadata": {
        "colab": {
          "base_uri": "https://localhost:8080/",
          "height": 144
        },
        "id": "W67C-Y2vJmfb",
        "outputId": "044f3e26-62f3-4fee-be64-7197dd8fff79"
      },
      "execution_count": null,
      "outputs": [
        {
          "output_type": "display_data",
          "data": {
            "text/plain": [
              "            Df Sum Sq Mean Sq F value Pr(>F)  \n",
              "Age          1    549   548.7   5.725 0.0224 *\n",
              "BMI          1    437   436.8   4.558 0.0401 *\n",
              "Age:BMI      1     97    96.9   1.011 0.3217  \n",
              "Residuals   34   3258    95.8                 \n",
              "---\n",
              "Signif. codes:  0 ‘***’ 0.001 ‘**’ 0.01 ‘*’ 0.05 ‘.’ 0.1 ‘ ’ 1"
            ]
          },
          "metadata": {}
        }
      ]
    },
    {
      "cell_type": "code",
      "source": [
        "meta$Sm <- as.factor(meta$Sm)\n",
        "meta$MI <- as.factor(meta$MI)\n",
        "\n",
        "anov2 <- aov(formula = Sys ~ Sm*MI, data = meta)\n",
        "\n",
        "summary(anov2)\n",
        "\n",
        "#  suggests that there is a no significant difference between the groups."
      ],
      "metadata": {
        "colab": {
          "base_uri": "https://localhost:8080/",
          "height": 90
        },
        "id": "BnjEajDqJvdF",
        "outputId": "ecdfd617-a83a-4791-9aa2-9c16423a3ca6"
      },
      "execution_count": null,
      "outputs": [
        {
          "output_type": "display_data",
          "data": {
            "text/plain": [
              "            Df Sum Sq Mean Sq F value Pr(>F)\n",
              "Sm           1     10    9.83   0.037  0.849\n",
              "MI           1    155  155.31   0.582  0.451\n",
              "Residuals   35   9336  266.75               "
            ]
          },
          "metadata": {}
        }
      ]
    },
    {
      "cell_type": "code",
      "source": [
        "tukey_results <- TukeyHSD(anov2)\n",
        "print(tukey_results)"
      ],
      "metadata": {
        "colab": {
          "base_uri": "https://localhost:8080/"
        },
        "id": "thOLp9C6JxZk",
        "outputId": "73a14034-470c-4a00-e980-e8bdb3c6a410"
      },
      "execution_count": null,
      "outputs": [
        {
          "output_type": "stream",
          "name": "stdout",
          "text": [
            "  Tukey multiple comparisons of means\n",
            "    95% family-wise confidence level\n",
            "\n",
            "Fit: aov(formula = Sys ~ Sm * MI, data = meta)\n",
            "\n",
            "$Sm\n",
            "         diff       lwr      upr     p adj\n",
            "1-0 -1.885714 -21.83228 18.06085 0.8489117\n",
            "\n",
            "$MI\n",
            "        diff       lwr      upr     p adj\n",
            "1-0 6.554202 -10.97222 24.08063 0.4528269\n",
            "\n"
          ]
        }
      ]
    },
    {
      "cell_type": "code",
      "source": [
        "#Из результатов видно, что различия не являются статистически значимыми на уровне доверия 0.05 для ни одного из факторов. В обоих случаях p-значение больше, чем уровень значимости 0.05,\n",
        "#что означает, что мы не можем отвергнуть нулевую гипотезу о равенстве средних между уровнями факторов."
      ],
      "metadata": {
        "id": "d6xXPBCWKEGm"
      },
      "execution_count": null,
      "outputs": []
    },
    {
      "cell_type": "code",
      "source": [
        "kruskal.test(meta)\n",
        "#We can say the mean values of the columns are not the same"
      ],
      "metadata": {
        "id": "d9g4Wt1-MGj4",
        "colab": {
          "base_uri": "https://localhost:8080/",
          "height": 144
        },
        "outputId": "13658c21-43f1-4c56-9227-00ab6348c5a8"
      },
      "execution_count": null,
      "outputs": [
        {
          "output_type": "stream",
          "name": "stderr",
          "text": [
            "Warning message in kruskal.test.default(meta):\n",
            "“some elements of 'x' are not numeric and will be coerced to numeric”\n"
          ]
        },
        {
          "output_type": "display_data",
          "data": {
            "text/plain": [
              "\n",
              "\tKruskal-Wallis rank sum test\n",
              "\n",
              "data:  meta\n",
              "Kruskal-Wallis chi-squared = 1518.7, df = 47, p-value < 2.2e-16\n"
            ]
          },
          "metadata": {}
        }
      ]
    }
  ]
}