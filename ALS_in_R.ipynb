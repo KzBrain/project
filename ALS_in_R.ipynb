{
  "nbformat": 4,
  "nbformat_minor": 0,
  "metadata": {
    "colab": {
      "provenance": [],
      "authorship_tag": "ABX9TyMb8VoBCAJYT8ErNTANJQ/s",
      "include_colab_link": true
    },
    "kernelspec": {
      "name": "ir",
      "display_name": "R"
    },
    "language_info": {
      "name": "R"
    }
  },
  "cells": [
    {
      "cell_type": "markdown",
      "metadata": {
        "id": "view-in-github",
        "colab_type": "text"
      },
      "source": [
        "<a href=\"https://colab.research.google.com/github/KzBrain/project/blob/main/ALS_in_R.ipynb\" target=\"_parent\"><img src=\"https://colab.research.google.com/assets/colab-badge.svg\" alt=\"Open In Colab\"/></a>"
      ]
    },
    {
      "cell_type": "code",
      "execution_count": 1,
      "metadata": {
        "colab": {
          "base_uri": "https://localhost:8080/"
        },
        "id": "ezbvjuFQfHwC",
        "outputId": "57525fb3-a7a0-47e7-9963-ed623630d1a4"
      },
      "outputs": [
        {
          "output_type": "stream",
          "name": "stderr",
          "text": [
            "\n",
            "Attaching package: ‘lubridate’\n",
            "\n",
            "\n",
            "The following objects are masked from ‘package:base’:\n",
            "\n",
            "    date, intersect, setdiff, union\n",
            "\n",
            "\n",
            "── \u001b[1mAttaching core tidyverse packages\u001b[22m ──────────────────────── tidyverse 2.0.0 ──\n",
            "\u001b[32m✔\u001b[39m \u001b[34mdplyr  \u001b[39m 1.1.4     \u001b[32m✔\u001b[39m \u001b[34mreadr  \u001b[39m 2.1.5\n",
            "\u001b[32m✔\u001b[39m \u001b[34mforcats\u001b[39m 1.0.0     \u001b[32m✔\u001b[39m \u001b[34mstringr\u001b[39m 1.5.1\n",
            "\u001b[32m✔\u001b[39m \u001b[34mggplot2\u001b[39m 3.5.1     \u001b[32m✔\u001b[39m \u001b[34mtibble \u001b[39m 3.2.1\n",
            "\u001b[32m✔\u001b[39m \u001b[34mpurrr  \u001b[39m 1.0.2     \u001b[32m✔\u001b[39m \u001b[34mtidyr  \u001b[39m 1.3.1\n",
            "── \u001b[1mConflicts\u001b[22m ────────────────────────────────────────── tidyverse_conflicts() ──\n",
            "\u001b[31m✖\u001b[39m \u001b[34mdplyr\u001b[39m::\u001b[32mfilter()\u001b[39m masks \u001b[34mstats\u001b[39m::filter()\n",
            "\u001b[31m✖\u001b[39m \u001b[34mdplyr\u001b[39m::\u001b[32mlag()\u001b[39m    masks \u001b[34mstats\u001b[39m::lag()\n",
            "\u001b[36mℹ\u001b[39m Use the conflicted package (\u001b[3m\u001b[34m<http://conflicted.r-lib.org/>\u001b[39m\u001b[23m) to force all conflicts to become errors\n",
            "Installing package into ‘/usr/local/lib/R/site-library’\n",
            "(as ‘lib’ is unspecified)\n",
            "\n",
            "also installing the dependencies ‘V8’, ‘reactR’, ‘bigD’, ‘bitops’, ‘juicyjuice’, ‘markdown’, ‘reactable’, ‘cards’, ‘gt’\n",
            "\n",
            "\n",
            "Installing package into ‘/usr/local/lib/R/site-library’\n",
            "(as ‘lib’ is unspecified)\n",
            "\n",
            "also installing the dependencies ‘cmprsk’, ‘hardhat’\n",
            "\n",
            "\n",
            "Registered S3 method overwritten by 'tidycmprsk':\n",
            "  method                    from     \n",
            "  global_pvalue_fun.tidycrr gtsummary\n",
            "\n",
            "\n",
            "Attaching package: ‘tidycmprsk’\n",
            "\n",
            "\n",
            "The following object is masked from ‘package:gtsummary’:\n",
            "\n",
            "    trial\n",
            "\n",
            "\n",
            "Downloading GitHub repo zabore/condsurv@HEAD\n",
            "\n"
          ]
        },
        {
          "output_type": "stream",
          "name": "stdout",
          "text": [
            "\n",
            "\u001b[36m──\u001b[39m \u001b[36mR CMD build\u001b[39m \u001b[36m─────────────────────────────────────────────────────────────────\u001b[39m\n",
            "* checking for file ‘/tmp/Rtmp5fwa7p/remotes1175b416a3e/zabore-condsurv-e618590/DESCRIPTION’ ... OK\n",
            "* preparing ‘condsurv’:\n",
            "* checking DESCRIPTION meta-information ... OK\n",
            "* checking for LF line-endings in source and make files and shell scripts\n",
            "* checking for empty or unneeded directories\n",
            "Omitted ‘LazyData’ from DESCRIPTION\n",
            "* building ‘condsurv_1.0.0.tar.gz’\n",
            "\n"
          ]
        },
        {
          "output_type": "stream",
          "name": "stderr",
          "text": [
            "Installing package into ‘/usr/local/lib/R/site-library’\n",
            "(as ‘lib’ is unspecified)\n",
            "\n",
            "Installing package into ‘/usr/local/lib/R/site-library’\n",
            "(as ‘lib’ is unspecified)\n",
            "\n",
            "Warning message:\n",
            "“package ‘condsurv’ is not available for this version of R\n",
            "\n",
            "A version of this package for your version of R might be available elsewhere,\n",
            "see the ideas at\n",
            "https://cran.r-project.org/doc/manuals/r-patched/R-admin.html#Installing-packages”\n",
            "Warning message:\n",
            "“Perhaps you meant ‘condSURV’ ?”\n",
            "Installing package into ‘/usr/local/lib/R/site-library’\n",
            "(as ‘lib’ is unspecified)\n",
            "\n"
          ]
        }
      ],
      "source": [
        "library(lubridate)\n",
        "library(tidyverse)\n",
        "library(survival)\n",
        "install.packages('gtsummary')\n",
        "library(gtsummary)\n",
        "install.packages(\"tidycmprsk\")\n",
        "library(tidycmprsk)\n",
        "devtools::install_github(\"zabore/condsurv\") # author package\n",
        "install.packages('condsurv')\n",
        "library(condsurv)\n",
        "install.packages(\"dplyr\")\n",
        "library(dplyr)"
      ]
    },
    {
      "cell_type": "code",
      "source": [
        "install.packages(\"readxl\")\n",
        "library(readxl)"
      ],
      "metadata": {
        "colab": {
          "base_uri": "https://localhost:8080/"
        },
        "id": "-9gVDLoPmtWd",
        "outputId": "8a0fcb5e-dbec-433f-cf06-f946033a8c38"
      },
      "execution_count": 2,
      "outputs": [
        {
          "output_type": "stream",
          "name": "stderr",
          "text": [
            "Installing package into ‘/usr/local/lib/R/site-library’\n",
            "(as ‘lib’ is unspecified)\n",
            "\n"
          ]
        }
      ]
    },
    {
      "cell_type": "code",
      "source": [
        "als_1 <- read_excel(\"/content/sample_data/ALS protocol Nov-11-2024 19-19-41.xlsx\")"
      ],
      "metadata": {
        "id": "liij7gu_fZUD"
      },
      "execution_count": 3,
      "outputs": []
    },
    {
      "cell_type": "code",
      "source": [
        "als_2 <- read_excel(\"/content/sample_data/ALS protocol Nov-16-2024 13-34-56.xlsx\")"
      ],
      "metadata": {
        "id": "fJMb0U-QfZWj"
      },
      "execution_count": 4,
      "outputs": []
    },
    {
      "cell_type": "code",
      "source": [
        "head(als_1)"
      ],
      "metadata": {
        "colab": {
          "base_uri": "https://localhost:8080/",
          "height": 306
        },
        "id": "nIp6-WT6fZZU",
        "outputId": "0da024ec-fc8e-4dab-9593-ccb14766c139"
      },
      "execution_count": 5,
      "outputs": [
        {
          "output_type": "display_data",
          "data": {
            "text/html": [
              "<table class=\"dataframe\">\n",
              "<caption>A tibble: 6 × 28</caption>\n",
              "<thead>\n",
              "\t<tr><th scope=col>id</th><th scope=col>Age</th><th scope=col>Sex</th><th scope=col>SN_C5_dextra</th><th scope=col>SN_C5_sinistra</th><th scope=col>SN_C6_dextra</th><th scope=col>SN_C6_sinistra</th><th scope=col>SN_C7_dextra</th><th scope=col>SN_C7_sinistra</th><th scope=col>MN1_dextra</th><th scope=col>⋯</th><th scope=col>UN2_sinistra</th><th scope=col>UN3_dextra</th><th scope=col>UN3_sinistra</th><th scope=col>Ish_dextra</th><th scope=col>Ish_sinistra</th><th scope=col>TN_dextra</th><th scope=col>TN_sinistra</th><th scope=col>PN_dextra</th><th scope=col>PN_sinistra</th><th scope=col>Diagnosis</th></tr>\n",
              "\t<tr><th scope=col>&lt;chr&gt;</th><th scope=col>&lt;dbl&gt;</th><th scope=col>&lt;chr&gt;</th><th scope=col>&lt;dbl&gt;</th><th scope=col>&lt;dbl&gt;</th><th scope=col>&lt;dbl&gt;</th><th scope=col>&lt;dbl&gt;</th><th scope=col>&lt;dbl&gt;</th><th scope=col>&lt;dbl&gt;</th><th scope=col>&lt;dbl&gt;</th><th scope=col>⋯</th><th scope=col>&lt;dbl&gt;</th><th scope=col>&lt;dbl&gt;</th><th scope=col>&lt;dbl&gt;</th><th scope=col>&lt;dbl&gt;</th><th scope=col>&lt;dbl&gt;</th><th scope=col>&lt;dbl&gt;</th><th scope=col>&lt;dbl&gt;</th><th scope=col>&lt;dbl&gt;</th><th scope=col>&lt;dbl&gt;</th><th scope=col>&lt;chr&gt;</th></tr>\n",
              "</thead>\n",
              "<tbody>\n",
              "\t<tr><td>Kennnedy_1</td><td>60</td><td>male  </td><td> 3</td><td> 5</td><td> 7</td><td> 9</td><td> 4</td><td> 7</td><td> 6</td><td>⋯</td><td> 8</td><td>5</td><td> 5</td><td>28</td><td>35</td><td>19</td><td>16</td><td> 6</td><td> 7</td><td>1</td></tr>\n",
              "\t<tr><td>Kennedy_2 </td><td>45</td><td>male  </td><td>NA</td><td>NA</td><td>NA</td><td>NA</td><td>NA</td><td>NA</td><td> 7</td><td>⋯</td><td> 4</td><td>6</td><td> 6</td><td>29</td><td>40</td><td>28</td><td>26</td><td> 6</td><td> 7</td><td>1</td></tr>\n",
              "\t<tr><td>Kennedy_3 </td><td>48</td><td>male  </td><td> 5</td><td> 6</td><td>10</td><td> 8</td><td>10</td><td> 8</td><td> 7</td><td>⋯</td><td> 7</td><td>7</td><td> 7</td><td>58</td><td>56</td><td>33</td><td>32</td><td> 7</td><td>10</td><td>1</td></tr>\n",
              "\t<tr><td>ALS_1     </td><td>30</td><td>male  </td><td> 6</td><td> 7</td><td> 9</td><td>10</td><td> 8</td><td>11</td><td> 6</td><td>⋯</td><td> 6</td><td>6</td><td> 8</td><td>43</td><td>47</td><td>31</td><td>25</td><td>15</td><td>14</td><td>1</td></tr>\n",
              "\t<tr><td>ALS_2     </td><td>38</td><td>male  </td><td> 4</td><td> 4</td><td> 8</td><td> 8</td><td>11</td><td>11</td><td> 9</td><td>⋯</td><td> 6</td><td>8</td><td> 5</td><td>49</td><td>43</td><td>17</td><td>18</td><td>10</td><td>10</td><td>1</td></tr>\n",
              "\t<tr><td>ALS_3     </td><td>55</td><td>female</td><td> 9</td><td> 8</td><td> 7</td><td> 7</td><td> 6</td><td> 5</td><td>10</td><td>⋯</td><td>10</td><td>6</td><td>12</td><td>44</td><td>40</td><td>17</td><td>23</td><td>11</td><td>14</td><td>1</td></tr>\n",
              "</tbody>\n",
              "</table>\n"
            ],
            "text/markdown": "\nA tibble: 6 × 28\n\n| id &lt;chr&gt; | Age &lt;dbl&gt; | Sex &lt;chr&gt; | SN_C5_dextra &lt;dbl&gt; | SN_C5_sinistra &lt;dbl&gt; | SN_C6_dextra &lt;dbl&gt; | SN_C6_sinistra &lt;dbl&gt; | SN_C7_dextra &lt;dbl&gt; | SN_C7_sinistra &lt;dbl&gt; | MN1_dextra &lt;dbl&gt; | ⋯ ⋯ | UN2_sinistra &lt;dbl&gt; | UN3_dextra &lt;dbl&gt; | UN3_sinistra &lt;dbl&gt; | Ish_dextra &lt;dbl&gt; | Ish_sinistra &lt;dbl&gt; | TN_dextra &lt;dbl&gt; | TN_sinistra &lt;dbl&gt; | PN_dextra &lt;dbl&gt; | PN_sinistra &lt;dbl&gt; | Diagnosis &lt;chr&gt; |\n|---|---|---|---|---|---|---|---|---|---|---|---|---|---|---|---|---|---|---|---|---|\n| Kennnedy_1 | 60 | male   |  3 |  5 |  7 |  9 |  4 |  7 |  6 | ⋯ |  8 | 5 |  5 | 28 | 35 | 19 | 16 |  6 |  7 | 1 |\n| Kennedy_2  | 45 | male   | NA | NA | NA | NA | NA | NA |  7 | ⋯ |  4 | 6 |  6 | 29 | 40 | 28 | 26 |  6 |  7 | 1 |\n| Kennedy_3  | 48 | male   |  5 |  6 | 10 |  8 | 10 |  8 |  7 | ⋯ |  7 | 7 |  7 | 58 | 56 | 33 | 32 |  7 | 10 | 1 |\n| ALS_1      | 30 | male   |  6 |  7 |  9 | 10 |  8 | 11 |  6 | ⋯ |  6 | 6 |  8 | 43 | 47 | 31 | 25 | 15 | 14 | 1 |\n| ALS_2      | 38 | male   |  4 |  4 |  8 |  8 | 11 | 11 |  9 | ⋯ |  6 | 8 |  5 | 49 | 43 | 17 | 18 | 10 | 10 | 1 |\n| ALS_3      | 55 | female |  9 |  8 |  7 |  7 |  6 |  5 | 10 | ⋯ | 10 | 6 | 12 | 44 | 40 | 17 | 23 | 11 | 14 | 1 |\n\n",
            "text/latex": "A tibble: 6 × 28\n\\begin{tabular}{lllllllllllllllllllll}\n id & Age & Sex & SN\\_C5\\_dextra & SN\\_C5\\_sinistra & SN\\_C6\\_dextra & SN\\_C6\\_sinistra & SN\\_C7\\_dextra & SN\\_C7\\_sinistra & MN1\\_dextra & ⋯ & UN2\\_sinistra & UN3\\_dextra & UN3\\_sinistra & Ish\\_dextra & Ish\\_sinistra & TN\\_dextra & TN\\_sinistra & PN\\_dextra & PN\\_sinistra & Diagnosis\\\\\n <chr> & <dbl> & <chr> & <dbl> & <dbl> & <dbl> & <dbl> & <dbl> & <dbl> & <dbl> & ⋯ & <dbl> & <dbl> & <dbl> & <dbl> & <dbl> & <dbl> & <dbl> & <dbl> & <dbl> & <chr>\\\\\n\\hline\n\t Kennnedy\\_1 & 60 & male   &  3 &  5 &  7 &  9 &  4 &  7 &  6 & ⋯ &  8 & 5 &  5 & 28 & 35 & 19 & 16 &  6 &  7 & 1\\\\\n\t Kennedy\\_2  & 45 & male   & NA & NA & NA & NA & NA & NA &  7 & ⋯ &  4 & 6 &  6 & 29 & 40 & 28 & 26 &  6 &  7 & 1\\\\\n\t Kennedy\\_3  & 48 & male   &  5 &  6 & 10 &  8 & 10 &  8 &  7 & ⋯ &  7 & 7 &  7 & 58 & 56 & 33 & 32 &  7 & 10 & 1\\\\\n\t ALS\\_1      & 30 & male   &  6 &  7 &  9 & 10 &  8 & 11 &  6 & ⋯ &  6 & 6 &  8 & 43 & 47 & 31 & 25 & 15 & 14 & 1\\\\\n\t ALS\\_2      & 38 & male   &  4 &  4 &  8 &  8 & 11 & 11 &  9 & ⋯ &  6 & 8 &  5 & 49 & 43 & 17 & 18 & 10 & 10 & 1\\\\\n\t ALS\\_3      & 55 & female &  9 &  8 &  7 &  7 &  6 &  5 & 10 & ⋯ & 10 & 6 & 12 & 44 & 40 & 17 & 23 & 11 & 14 & 1\\\\\n\\end{tabular}\n",
            "text/plain": [
              "  id         Age Sex    SN_C5_dextra SN_C5_sinistra SN_C6_dextra SN_C6_sinistra\n",
              "1 Kennnedy_1 60  male    3            5              7            9            \n",
              "2 Kennedy_2  45  male   NA           NA             NA           NA            \n",
              "3 Kennedy_3  48  male    5            6             10            8            \n",
              "4 ALS_1      30  male    6            7              9           10            \n",
              "5 ALS_2      38  male    4            4              8            8            \n",
              "6 ALS_3      55  female  9            8              7            7            \n",
              "  SN_C7_dextra SN_C7_sinistra MN1_dextra ⋯ UN2_sinistra UN3_dextra UN3_sinistra\n",
              "1  4            7              6         ⋯  8           5           5          \n",
              "2 NA           NA              7         ⋯  4           6           6          \n",
              "3 10            8              7         ⋯  7           7           7          \n",
              "4  8           11              6         ⋯  6           6           8          \n",
              "5 11           11              9         ⋯  6           8           5          \n",
              "6  6            5             10         ⋯ 10           6          12          \n",
              "  Ish_dextra Ish_sinistra TN_dextra TN_sinistra PN_dextra PN_sinistra Diagnosis\n",
              "1 28         35           19        16           6         7          1        \n",
              "2 29         40           28        26           6         7          1        \n",
              "3 58         56           33        32           7        10          1        \n",
              "4 43         47           31        25          15        14          1        \n",
              "5 49         43           17        18          10        10          1        \n",
              "6 44         40           17        23          11        14          1        "
            ]
          },
          "metadata": {}
        }
      ]
    },
    {
      "cell_type": "code",
      "source": [
        "head(als_2)"
      ],
      "metadata": {
        "colab": {
          "base_uri": "https://localhost:8080/",
          "height": 306
        },
        "id": "I1F4sWl8fZb3",
        "outputId": "7ab1df84-818e-4e9f-939f-7f419c17940c"
      },
      "execution_count": 6,
      "outputs": [
        {
          "output_type": "display_data",
          "data": {
            "text/html": [
              "<table class=\"dataframe\">\n",
              "<caption>A tibble: 6 × 28</caption>\n",
              "<thead>\n",
              "\t<tr><th scope=col>id</th><th scope=col>Age</th><th scope=col>Sex</th><th scope=col>SN_C5_dextra</th><th scope=col>SN_C5_sinistra</th><th scope=col>SN_C6_dextra</th><th scope=col>SN_C6_sinistra</th><th scope=col>SN_C7_dextra</th><th scope=col>SN_C7_sinistra</th><th scope=col>MN1_dextra</th><th scope=col>⋯</th><th scope=col>UN2_sinistra</th><th scope=col>UN3_dextra</th><th scope=col>UN3_sinistra</th><th scope=col>Ish_dextra</th><th scope=col>Ish_sinistra</th><th scope=col>TN_dextra</th><th scope=col>TN_sinistra</th><th scope=col>PN_dextra</th><th scope=col>PN_sinistra</th><th scope=col>Diagnosis</th></tr>\n",
              "\t<tr><th scope=col>&lt;chr&gt;</th><th scope=col>&lt;dbl&gt;</th><th scope=col>&lt;chr&gt;</th><th scope=col>&lt;dbl&gt;</th><th scope=col>&lt;dbl&gt;</th><th scope=col>&lt;dbl&gt;</th><th scope=col>&lt;dbl&gt;</th><th scope=col>&lt;dbl&gt;</th><th scope=col>&lt;dbl&gt;</th><th scope=col>&lt;dbl&gt;</th><th scope=col>⋯</th><th scope=col>&lt;dbl&gt;</th><th scope=col>&lt;dbl&gt;</th><th scope=col>&lt;dbl&gt;</th><th scope=col>&lt;dbl&gt;</th><th scope=col>&lt;dbl&gt;</th><th scope=col>&lt;dbl&gt;</th><th scope=col>&lt;dbl&gt;</th><th scope=col>&lt;dbl&gt;</th><th scope=col>&lt;dbl&gt;</th><th scope=col>&lt;chr&gt;</th></tr>\n",
              "</thead>\n",
              "<tbody>\n",
              "\t<tr><td>Control_6</td><td>55</td><td>male  </td><td> 5</td><td>NA</td><td> 5</td><td> 5</td><td>NA</td><td> 7</td><td> 6</td><td>⋯</td><td> 7.00</td><td>15</td><td> 9</td><td>NA</td><td>NA</td><td>NA</td><td>NA</td><td>NA</td><td>NA</td><td>0</td></tr>\n",
              "\t<tr><td>Control_7</td><td>29</td><td>male  </td><td> 9</td><td>12</td><td>11</td><td> 8</td><td> 6</td><td> 5</td><td>12</td><td>⋯</td><td>10.00</td><td>12</td><td>12</td><td>43</td><td>48</td><td>35</td><td>32</td><td>16</td><td>16</td><td>0</td></tr>\n",
              "\t<tr><td>ALS_23   </td><td>52</td><td>male  </td><td>12</td><td> 7</td><td>13</td><td>13</td><td>11</td><td>13</td><td> 9</td><td>⋯</td><td> 7.00</td><td> 9</td><td> 9</td><td>55</td><td>64</td><td>24</td><td>34</td><td>14</td><td>15</td><td>1</td></tr>\n",
              "\t<tr><td>ALS_24   </td><td>18</td><td>male  </td><td> 8</td><td>12</td><td> 9</td><td> 5</td><td> 6</td><td>10</td><td> 5</td><td>⋯</td><td> 6.15</td><td> 4</td><td> 4</td><td>34</td><td>34</td><td>17</td><td>16</td><td>14</td><td>14</td><td>1</td></tr>\n",
              "\t<tr><td>Control_8</td><td>29</td><td>male  </td><td> 9</td><td>12</td><td>11</td><td> 8</td><td> 6</td><td> 5</td><td>12</td><td>⋯</td><td>10.00</td><td>12</td><td>12</td><td>43</td><td>48</td><td>35</td><td>32</td><td>16</td><td>16</td><td>0</td></tr>\n",
              "\t<tr><td>Control_9</td><td>50</td><td>female</td><td> 7</td><td>11</td><td>12</td><td>10</td><td>12</td><td> 8</td><td>14</td><td>⋯</td><td>10.00</td><td> 6</td><td> 7</td><td>NA</td><td>NA</td><td>NA</td><td>NA</td><td>NA</td><td>NA</td><td>0</td></tr>\n",
              "</tbody>\n",
              "</table>\n"
            ],
            "text/markdown": "\nA tibble: 6 × 28\n\n| id &lt;chr&gt; | Age &lt;dbl&gt; | Sex &lt;chr&gt; | SN_C5_dextra &lt;dbl&gt; | SN_C5_sinistra &lt;dbl&gt; | SN_C6_dextra &lt;dbl&gt; | SN_C6_sinistra &lt;dbl&gt; | SN_C7_dextra &lt;dbl&gt; | SN_C7_sinistra &lt;dbl&gt; | MN1_dextra &lt;dbl&gt; | ⋯ ⋯ | UN2_sinistra &lt;dbl&gt; | UN3_dextra &lt;dbl&gt; | UN3_sinistra &lt;dbl&gt; | Ish_dextra &lt;dbl&gt; | Ish_sinistra &lt;dbl&gt; | TN_dextra &lt;dbl&gt; | TN_sinistra &lt;dbl&gt; | PN_dextra &lt;dbl&gt; | PN_sinistra &lt;dbl&gt; | Diagnosis &lt;chr&gt; |\n|---|---|---|---|---|---|---|---|---|---|---|---|---|---|---|---|---|---|---|---|---|\n| Control_6 | 55 | male   |  5 | NA |  5 |  5 | NA |  7 |  6 | ⋯ |  7.00 | 15 |  9 | NA | NA | NA | NA | NA | NA | 0 |\n| Control_7 | 29 | male   |  9 | 12 | 11 |  8 |  6 |  5 | 12 | ⋯ | 10.00 | 12 | 12 | 43 | 48 | 35 | 32 | 16 | 16 | 0 |\n| ALS_23    | 52 | male   | 12 |  7 | 13 | 13 | 11 | 13 |  9 | ⋯ |  7.00 |  9 |  9 | 55 | 64 | 24 | 34 | 14 | 15 | 1 |\n| ALS_24    | 18 | male   |  8 | 12 |  9 |  5 |  6 | 10 |  5 | ⋯ |  6.15 |  4 |  4 | 34 | 34 | 17 | 16 | 14 | 14 | 1 |\n| Control_8 | 29 | male   |  9 | 12 | 11 |  8 |  6 |  5 | 12 | ⋯ | 10.00 | 12 | 12 | 43 | 48 | 35 | 32 | 16 | 16 | 0 |\n| Control_9 | 50 | female |  7 | 11 | 12 | 10 | 12 |  8 | 14 | ⋯ | 10.00 |  6 |  7 | NA | NA | NA | NA | NA | NA | 0 |\n\n",
            "text/latex": "A tibble: 6 × 28\n\\begin{tabular}{lllllllllllllllllllll}\n id & Age & Sex & SN\\_C5\\_dextra & SN\\_C5\\_sinistra & SN\\_C6\\_dextra & SN\\_C6\\_sinistra & SN\\_C7\\_dextra & SN\\_C7\\_sinistra & MN1\\_dextra & ⋯ & UN2\\_sinistra & UN3\\_dextra & UN3\\_sinistra & Ish\\_dextra & Ish\\_sinistra & TN\\_dextra & TN\\_sinistra & PN\\_dextra & PN\\_sinistra & Diagnosis\\\\\n <chr> & <dbl> & <chr> & <dbl> & <dbl> & <dbl> & <dbl> & <dbl> & <dbl> & <dbl> & ⋯ & <dbl> & <dbl> & <dbl> & <dbl> & <dbl> & <dbl> & <dbl> & <dbl> & <dbl> & <chr>\\\\\n\\hline\n\t Control\\_6 & 55 & male   &  5 & NA &  5 &  5 & NA &  7 &  6 & ⋯ &  7.00 & 15 &  9 & NA & NA & NA & NA & NA & NA & 0\\\\\n\t Control\\_7 & 29 & male   &  9 & 12 & 11 &  8 &  6 &  5 & 12 & ⋯ & 10.00 & 12 & 12 & 43 & 48 & 35 & 32 & 16 & 16 & 0\\\\\n\t ALS\\_23    & 52 & male   & 12 &  7 & 13 & 13 & 11 & 13 &  9 & ⋯ &  7.00 &  9 &  9 & 55 & 64 & 24 & 34 & 14 & 15 & 1\\\\\n\t ALS\\_24    & 18 & male   &  8 & 12 &  9 &  5 &  6 & 10 &  5 & ⋯ &  6.15 &  4 &  4 & 34 & 34 & 17 & 16 & 14 & 14 & 1\\\\\n\t Control\\_8 & 29 & male   &  9 & 12 & 11 &  8 &  6 &  5 & 12 & ⋯ & 10.00 & 12 & 12 & 43 & 48 & 35 & 32 & 16 & 16 & 0\\\\\n\t Control\\_9 & 50 & female &  7 & 11 & 12 & 10 & 12 &  8 & 14 & ⋯ & 10.00 &  6 &  7 & NA & NA & NA & NA & NA & NA & 0\\\\\n\\end{tabular}\n",
            "text/plain": [
              "  id        Age Sex    SN_C5_dextra SN_C5_sinistra SN_C6_dextra SN_C6_sinistra\n",
              "1 Control_6 55  male    5           NA              5            5            \n",
              "2 Control_7 29  male    9           12             11            8            \n",
              "3 ALS_23    52  male   12            7             13           13            \n",
              "4 ALS_24    18  male    8           12              9            5            \n",
              "5 Control_8 29  male    9           12             11            8            \n",
              "6 Control_9 50  female  7           11             12           10            \n",
              "  SN_C7_dextra SN_C7_sinistra MN1_dextra ⋯ UN2_sinistra UN3_dextra UN3_sinistra\n",
              "1 NA            7              6         ⋯  7.00        15          9          \n",
              "2  6            5             12         ⋯ 10.00        12         12          \n",
              "3 11           13              9         ⋯  7.00         9          9          \n",
              "4  6           10              5         ⋯  6.15         4          4          \n",
              "5  6            5             12         ⋯ 10.00        12         12          \n",
              "6 12            8             14         ⋯ 10.00         6          7          \n",
              "  Ish_dextra Ish_sinistra TN_dextra TN_sinistra PN_dextra PN_sinistra Diagnosis\n",
              "1 NA         NA           NA        NA          NA        NA          0        \n",
              "2 43         48           35        32          16        16          0        \n",
              "3 55         64           24        34          14        15          1        \n",
              "4 34         34           17        16          14        14          1        \n",
              "5 43         48           35        32          16        16          0        \n",
              "6 NA         NA           NA        NA          NA        NA          0        "
            ]
          },
          "metadata": {}
        }
      ]
    },
    {
      "cell_type": "code",
      "source": [
        "dim(als_1)"
      ],
      "metadata": {
        "colab": {
          "base_uri": "https://localhost:8080/",
          "height": 34
        },
        "id": "2bJRROLMnVKM",
        "outputId": "3609cbb6-f18c-4457-fe2c-0ae230e1fb64"
      },
      "execution_count": 7,
      "outputs": [
        {
          "output_type": "display_data",
          "data": {
            "text/html": [
              "<style>\n",
              ".list-inline {list-style: none; margin:0; padding: 0}\n",
              ".list-inline>li {display: inline-block}\n",
              ".list-inline>li:not(:last-child)::after {content: \"\\00b7\"; padding: 0 .5ex}\n",
              "</style>\n",
              "<ol class=list-inline><li>30</li><li>28</li></ol>\n"
            ],
            "text/markdown": "1. 30\n2. 28\n\n\n",
            "text/latex": "\\begin{enumerate*}\n\\item 30\n\\item 28\n\\end{enumerate*}\n",
            "text/plain": [
              "[1] 30 28"
            ]
          },
          "metadata": {}
        }
      ]
    },
    {
      "cell_type": "code",
      "source": [
        "dim(als_2)"
      ],
      "metadata": {
        "colab": {
          "base_uri": "https://localhost:8080/",
          "height": 34
        },
        "id": "jrtDE4V7nck8",
        "outputId": "4364df73-e756-45a7-8b23-f2941d2723ae"
      },
      "execution_count": 8,
      "outputs": [
        {
          "output_type": "display_data",
          "data": {
            "text/html": [
              "<style>\n",
              ".list-inline {list-style: none; margin:0; padding: 0}\n",
              ".list-inline>li {display: inline-block}\n",
              ".list-inline>li:not(:last-child)::after {content: \"\\00b7\"; padding: 0 .5ex}\n",
              "</style>\n",
              "<ol class=list-inline><li>17</li><li>28</li></ol>\n"
            ],
            "text/markdown": "1. 17\n2. 28\n\n\n",
            "text/latex": "\\begin{enumerate*}\n\\item 17\n\\item 28\n\\end{enumerate*}\n",
            "text/plain": [
              "[1] 17 28"
            ]
          },
          "metadata": {}
        }
      ]
    },
    {
      "cell_type": "code",
      "source": [
        "als <- rbind(als_1, als_2)"
      ],
      "metadata": {
        "id": "VD7VCXWznykJ"
      },
      "execution_count": 9,
      "outputs": []
    },
    {
      "cell_type": "code",
      "source": [
        "head(als)"
      ],
      "metadata": {
        "colab": {
          "base_uri": "https://localhost:8080/",
          "height": 306
        },
        "id": "h2aeOLf8n4YN",
        "outputId": "c79a8d4f-8331-42f3-d7f7-a614f998a819"
      },
      "execution_count": 10,
      "outputs": [
        {
          "output_type": "display_data",
          "data": {
            "text/html": [
              "<table class=\"dataframe\">\n",
              "<caption>A tibble: 6 × 28</caption>\n",
              "<thead>\n",
              "\t<tr><th scope=col>id</th><th scope=col>Age</th><th scope=col>Sex</th><th scope=col>SN_C5_dextra</th><th scope=col>SN_C5_sinistra</th><th scope=col>SN_C6_dextra</th><th scope=col>SN_C6_sinistra</th><th scope=col>SN_C7_dextra</th><th scope=col>SN_C7_sinistra</th><th scope=col>MN1_dextra</th><th scope=col>⋯</th><th scope=col>UN2_sinistra</th><th scope=col>UN3_dextra</th><th scope=col>UN3_sinistra</th><th scope=col>Ish_dextra</th><th scope=col>Ish_sinistra</th><th scope=col>TN_dextra</th><th scope=col>TN_sinistra</th><th scope=col>PN_dextra</th><th scope=col>PN_sinistra</th><th scope=col>Diagnosis</th></tr>\n",
              "\t<tr><th scope=col>&lt;chr&gt;</th><th scope=col>&lt;dbl&gt;</th><th scope=col>&lt;chr&gt;</th><th scope=col>&lt;dbl&gt;</th><th scope=col>&lt;dbl&gt;</th><th scope=col>&lt;dbl&gt;</th><th scope=col>&lt;dbl&gt;</th><th scope=col>&lt;dbl&gt;</th><th scope=col>&lt;dbl&gt;</th><th scope=col>&lt;dbl&gt;</th><th scope=col>⋯</th><th scope=col>&lt;dbl&gt;</th><th scope=col>&lt;dbl&gt;</th><th scope=col>&lt;dbl&gt;</th><th scope=col>&lt;dbl&gt;</th><th scope=col>&lt;dbl&gt;</th><th scope=col>&lt;dbl&gt;</th><th scope=col>&lt;dbl&gt;</th><th scope=col>&lt;dbl&gt;</th><th scope=col>&lt;dbl&gt;</th><th scope=col>&lt;chr&gt;</th></tr>\n",
              "</thead>\n",
              "<tbody>\n",
              "\t<tr><td>Kennnedy_1</td><td>60</td><td>male  </td><td> 3</td><td> 5</td><td> 7</td><td> 9</td><td> 4</td><td> 7</td><td> 6</td><td>⋯</td><td> 8</td><td>5</td><td> 5</td><td>28</td><td>35</td><td>19</td><td>16</td><td> 6</td><td> 7</td><td>1</td></tr>\n",
              "\t<tr><td>Kennedy_2 </td><td>45</td><td>male  </td><td>NA</td><td>NA</td><td>NA</td><td>NA</td><td>NA</td><td>NA</td><td> 7</td><td>⋯</td><td> 4</td><td>6</td><td> 6</td><td>29</td><td>40</td><td>28</td><td>26</td><td> 6</td><td> 7</td><td>1</td></tr>\n",
              "\t<tr><td>Kennedy_3 </td><td>48</td><td>male  </td><td> 5</td><td> 6</td><td>10</td><td> 8</td><td>10</td><td> 8</td><td> 7</td><td>⋯</td><td> 7</td><td>7</td><td> 7</td><td>58</td><td>56</td><td>33</td><td>32</td><td> 7</td><td>10</td><td>1</td></tr>\n",
              "\t<tr><td>ALS_1     </td><td>30</td><td>male  </td><td> 6</td><td> 7</td><td> 9</td><td>10</td><td> 8</td><td>11</td><td> 6</td><td>⋯</td><td> 6</td><td>6</td><td> 8</td><td>43</td><td>47</td><td>31</td><td>25</td><td>15</td><td>14</td><td>1</td></tr>\n",
              "\t<tr><td>ALS_2     </td><td>38</td><td>male  </td><td> 4</td><td> 4</td><td> 8</td><td> 8</td><td>11</td><td>11</td><td> 9</td><td>⋯</td><td> 6</td><td>8</td><td> 5</td><td>49</td><td>43</td><td>17</td><td>18</td><td>10</td><td>10</td><td>1</td></tr>\n",
              "\t<tr><td>ALS_3     </td><td>55</td><td>female</td><td> 9</td><td> 8</td><td> 7</td><td> 7</td><td> 6</td><td> 5</td><td>10</td><td>⋯</td><td>10</td><td>6</td><td>12</td><td>44</td><td>40</td><td>17</td><td>23</td><td>11</td><td>14</td><td>1</td></tr>\n",
              "</tbody>\n",
              "</table>\n"
            ],
            "text/markdown": "\nA tibble: 6 × 28\n\n| id &lt;chr&gt; | Age &lt;dbl&gt; | Sex &lt;chr&gt; | SN_C5_dextra &lt;dbl&gt; | SN_C5_sinistra &lt;dbl&gt; | SN_C6_dextra &lt;dbl&gt; | SN_C6_sinistra &lt;dbl&gt; | SN_C7_dextra &lt;dbl&gt; | SN_C7_sinistra &lt;dbl&gt; | MN1_dextra &lt;dbl&gt; | ⋯ ⋯ | UN2_sinistra &lt;dbl&gt; | UN3_dextra &lt;dbl&gt; | UN3_sinistra &lt;dbl&gt; | Ish_dextra &lt;dbl&gt; | Ish_sinistra &lt;dbl&gt; | TN_dextra &lt;dbl&gt; | TN_sinistra &lt;dbl&gt; | PN_dextra &lt;dbl&gt; | PN_sinistra &lt;dbl&gt; | Diagnosis &lt;chr&gt; |\n|---|---|---|---|---|---|---|---|---|---|---|---|---|---|---|---|---|---|---|---|---|\n| Kennnedy_1 | 60 | male   |  3 |  5 |  7 |  9 |  4 |  7 |  6 | ⋯ |  8 | 5 |  5 | 28 | 35 | 19 | 16 |  6 |  7 | 1 |\n| Kennedy_2  | 45 | male   | NA | NA | NA | NA | NA | NA |  7 | ⋯ |  4 | 6 |  6 | 29 | 40 | 28 | 26 |  6 |  7 | 1 |\n| Kennedy_3  | 48 | male   |  5 |  6 | 10 |  8 | 10 |  8 |  7 | ⋯ |  7 | 7 |  7 | 58 | 56 | 33 | 32 |  7 | 10 | 1 |\n| ALS_1      | 30 | male   |  6 |  7 |  9 | 10 |  8 | 11 |  6 | ⋯ |  6 | 6 |  8 | 43 | 47 | 31 | 25 | 15 | 14 | 1 |\n| ALS_2      | 38 | male   |  4 |  4 |  8 |  8 | 11 | 11 |  9 | ⋯ |  6 | 8 |  5 | 49 | 43 | 17 | 18 | 10 | 10 | 1 |\n| ALS_3      | 55 | female |  9 |  8 |  7 |  7 |  6 |  5 | 10 | ⋯ | 10 | 6 | 12 | 44 | 40 | 17 | 23 | 11 | 14 | 1 |\n\n",
            "text/latex": "A tibble: 6 × 28\n\\begin{tabular}{lllllllllllllllllllll}\n id & Age & Sex & SN\\_C5\\_dextra & SN\\_C5\\_sinistra & SN\\_C6\\_dextra & SN\\_C6\\_sinistra & SN\\_C7\\_dextra & SN\\_C7\\_sinistra & MN1\\_dextra & ⋯ & UN2\\_sinistra & UN3\\_dextra & UN3\\_sinistra & Ish\\_dextra & Ish\\_sinistra & TN\\_dextra & TN\\_sinistra & PN\\_dextra & PN\\_sinistra & Diagnosis\\\\\n <chr> & <dbl> & <chr> & <dbl> & <dbl> & <dbl> & <dbl> & <dbl> & <dbl> & <dbl> & ⋯ & <dbl> & <dbl> & <dbl> & <dbl> & <dbl> & <dbl> & <dbl> & <dbl> & <dbl> & <chr>\\\\\n\\hline\n\t Kennnedy\\_1 & 60 & male   &  3 &  5 &  7 &  9 &  4 &  7 &  6 & ⋯ &  8 & 5 &  5 & 28 & 35 & 19 & 16 &  6 &  7 & 1\\\\\n\t Kennedy\\_2  & 45 & male   & NA & NA & NA & NA & NA & NA &  7 & ⋯ &  4 & 6 &  6 & 29 & 40 & 28 & 26 &  6 &  7 & 1\\\\\n\t Kennedy\\_3  & 48 & male   &  5 &  6 & 10 &  8 & 10 &  8 &  7 & ⋯ &  7 & 7 &  7 & 58 & 56 & 33 & 32 &  7 & 10 & 1\\\\\n\t ALS\\_1      & 30 & male   &  6 &  7 &  9 & 10 &  8 & 11 &  6 & ⋯ &  6 & 6 &  8 & 43 & 47 & 31 & 25 & 15 & 14 & 1\\\\\n\t ALS\\_2      & 38 & male   &  4 &  4 &  8 &  8 & 11 & 11 &  9 & ⋯ &  6 & 8 &  5 & 49 & 43 & 17 & 18 & 10 & 10 & 1\\\\\n\t ALS\\_3      & 55 & female &  9 &  8 &  7 &  7 &  6 &  5 & 10 & ⋯ & 10 & 6 & 12 & 44 & 40 & 17 & 23 & 11 & 14 & 1\\\\\n\\end{tabular}\n",
            "text/plain": [
              "  id         Age Sex    SN_C5_dextra SN_C5_sinistra SN_C6_dextra SN_C6_sinistra\n",
              "1 Kennnedy_1 60  male    3            5              7            9            \n",
              "2 Kennedy_2  45  male   NA           NA             NA           NA            \n",
              "3 Kennedy_3  48  male    5            6             10            8            \n",
              "4 ALS_1      30  male    6            7              9           10            \n",
              "5 ALS_2      38  male    4            4              8            8            \n",
              "6 ALS_3      55  female  9            8              7            7            \n",
              "  SN_C7_dextra SN_C7_sinistra MN1_dextra ⋯ UN2_sinistra UN3_dextra UN3_sinistra\n",
              "1  4            7              6         ⋯  8           5           5          \n",
              "2 NA           NA              7         ⋯  4           6           6          \n",
              "3 10            8              7         ⋯  7           7           7          \n",
              "4  8           11              6         ⋯  6           6           8          \n",
              "5 11           11              9         ⋯  6           8           5          \n",
              "6  6            5             10         ⋯ 10           6          12          \n",
              "  Ish_dextra Ish_sinistra TN_dextra TN_sinistra PN_dextra PN_sinistra Diagnosis\n",
              "1 28         35           19        16           6         7          1        \n",
              "2 29         40           28        26           6         7          1        \n",
              "3 58         56           33        32           7        10          1        \n",
              "4 43         47           31        25          15        14          1        \n",
              "5 49         43           17        18          10        10          1        \n",
              "6 44         40           17        23          11        14          1        "
            ]
          },
          "metadata": {}
        }
      ]
    },
    {
      "cell_type": "code",
      "source": [
        "dim(als)"
      ],
      "metadata": {
        "colab": {
          "base_uri": "https://localhost:8080/",
          "height": 34
        },
        "id": "4jAkEni8n8Y0",
        "outputId": "367e0d81-a47e-46e9-9dd7-dddf940637c6"
      },
      "execution_count": 11,
      "outputs": [
        {
          "output_type": "display_data",
          "data": {
            "text/html": [
              "<style>\n",
              ".list-inline {list-style: none; margin:0; padding: 0}\n",
              ".list-inline>li {display: inline-block}\n",
              ".list-inline>li:not(:last-child)::after {content: \"\\00b7\"; padding: 0 .5ex}\n",
              "</style>\n",
              "<ol class=list-inline><li>47</li><li>28</li></ol>\n"
            ],
            "text/markdown": "1. 47\n2. 28\n\n\n",
            "text/latex": "\\begin{enumerate*}\n\\item 47\n\\item 28\n\\end{enumerate*}\n",
            "text/plain": [
              "[1] 47 28"
            ]
          },
          "metadata": {}
        }
      ]
    },
    {
      "cell_type": "code",
      "source": [
        "str(als)"
      ],
      "metadata": {
        "colab": {
          "base_uri": "https://localhost:8080/"
        },
        "id": "NWXyT_x_n8a0",
        "outputId": "cfccdcd3-7a31-42fb-ac41-84d9b57cf1b1"
      },
      "execution_count": 12,
      "outputs": [
        {
          "output_type": "stream",
          "name": "stdout",
          "text": [
            "tibble [47 × 28] (S3: tbl_df/tbl/data.frame)\n",
            " $ id            : chr [1:47] \"Kennnedy_1\" \"Kennedy_2\" \"Kennedy_3\" \"ALS_1\" ...\n",
            " $ Age           : num [1:47] 60 45 48 30 38 55 57 63 73 76 ...\n",
            " $ Sex           : chr [1:47] \"male\" \"male\" \"male\" \"male\" ...\n",
            " $ SN_C5_dextra  : num [1:47] 3 NA 5 6 4 9 8 7 6 6 ...\n",
            " $ SN_C5_sinistra: num [1:47] 5 NA 6 7 4 8 9 9 6 6 ...\n",
            " $ SN_C6_dextra  : num [1:47] 7 NA 10 9 8 7 7 8 7 7 ...\n",
            " $ SN_C6_sinistra: num [1:47] 9 NA 8 10 8 7 7 6 4 7 ...\n",
            " $ SN_C7_dextra  : num [1:47] 4 NA 10 8 11 6 4 8 5 8 ...\n",
            " $ SN_C7_sinistra: num [1:47] 7 NA 8 11 11 5 6 7 7 10 ...\n",
            " $ MN1_dextra    : num [1:47] 6 7 7 6 9 10 8 6 9 10 ...\n",
            " $ MN1_sinistra  : num [1:47] 6 7 8 7 7 12 10 8 9 11 ...\n",
            " $ MN2_dextra    : num [1:47] 8 8 8 5 7 9 5 6 6 15 ...\n",
            " $ MN2_sinistra  : num [1:47] 6 8 7 6 14 15 12 9 8 12 ...\n",
            " $ MN3_dextra    : num [1:47] 5 7 8 10 10 6 7 9 10 12 ...\n",
            " $ MN3_sinistra  : num [1:47] 5 7 9 11 14 5 6 10 12 7 ...\n",
            " $ UN1_dextra    : num [1:47] 4 6 6 6 4 7 7 11 9 7 ...\n",
            " $ UN1_sinistra  : num [1:47] 6 6 5 7 8 11 5 3 4 6 ...\n",
            " $ UN2_dextra    : num [1:47] 6 4 7 7 7 7 8 8 7 12 ...\n",
            " $ UN2_sinistra  : num [1:47] 8 4 7 6 6 10 9 9 12 12 ...\n",
            " $ UN3_dextra    : num [1:47] 5 6 7 6 8 6 9 7 10 12 ...\n",
            " $ UN3_sinistra  : num [1:47] 5 6 7 8 5 12 11 6 7 11 ...\n",
            " $ Ish_dextra    : num [1:47] 28 29 58 43 49 44 42 74 45 49 ...\n",
            " $ Ish_sinistra  : num [1:47] 35 40 56 47 43 40 41 55 43 51 ...\n",
            " $ TN_dextra     : num [1:47] 19 28 33 31 17 17 24 29 23 40 ...\n",
            " $ TN_sinistra   : num [1:47] 16 26 32 25 18 23 23 29 20 38 ...\n",
            " $ PN_dextra     : num [1:47] 6 6 7 15 10 11 14 36 11 15 ...\n",
            " $ PN_sinistra   : num [1:47] 7 7 10 14 10 14 16 23 9 15 ...\n",
            " $ Diagnosis     : chr [1:47] \"1\" \"1\" \"1\" \"1\" ...\n"
          ]
        }
      ]
    },
    {
      "cell_type": "code",
      "source": [
        "hist(als$Age, main = \"Гистограмма\", xlab = \"Значения\", ylab = \"Частота\", col = \"lightblue\")"
      ],
      "metadata": {
        "colab": {
          "base_uri": "https://localhost:8080/",
          "height": 437
        },
        "id": "MOiHQPLxn8dE",
        "outputId": "9c42e459-cc3d-4512-f03a-bb9d4dc77940"
      },
      "execution_count": 57,
      "outputs": [
        {
          "output_type": "display_data",
          "data": {
            "text/plain": [
              "Plot with title “Гистограмма”"
            ],
            "image/png": "[encoded data removed]"
          },
          "metadata": {
            "image/png": {
              "width": 420,
              "height": 420
            }
          }
        }
      ]
    },
    {
      "cell_type": "code",
      "source": [
        "hist(als$SN_C5_dextra, main = \"Гистограмма\", xlab = \"Значения\", ylab = \"Частота\", col = \"lightblue\")"
      ],
      "metadata": {
        "colab": {
          "base_uri": "https://localhost:8080/",
          "height": 437
        },
        "id": "n6y22GbRn8hM",
        "outputId": "48c31784-8dc7-4601-e297-d05bd4cc7095"
      },
      "execution_count": 58,
      "outputs": [
        {
          "output_type": "display_data",
          "data": {
            "text/plain": [
              "Plot with title “Гистограмма”"
            ],
            "image/png": "[encoded data removed]"
          },
          "metadata": {
            "image/png": {
              "width": 420,
              "height": 420
            }
          }
        }
      ]
    },
    {
      "cell_type": "code",
      "source": [
        "hist(als$SN_C7_dextra, main = \"Гистограмма\", xlab = \"Значения\", ylab = \"Частота\", col = \"lightblue\")"
      ],
      "metadata": {
        "colab": {
          "base_uri": "https://localhost:8080/",
          "height": 437
        },
        "id": "S_i9QEcNJUIS",
        "outputId": "afd3f29d-9fa1-4b56-ac05-5554295a0d17"
      },
      "execution_count": 59,
      "outputs": [
        {
          "output_type": "display_data",
          "data": {
            "text/plain": [
              "Plot with title “Гистограмма”"
            ],
            "image/png": "[encoded data removed]"
          },
          "metadata": {
            "image/png": {
              "width": 420,
              "height": 420
            }
          }
        }
      ]
    },
    {
      "cell_type": "code",
      "source": [
        "hist(als$SN_C7_sinistra, main = \"Гистограмма\", xlab = \"Значения\", ylab = \"Частота\", col = \"lightblue\")"
      ],
      "metadata": {
        "colab": {
          "base_uri": "https://localhost:8080/",
          "height": 437
        },
        "id": "BM3jgu_4JXX3",
        "outputId": "0a16fef0-2083-4621-e610-c7e65840d18d"
      },
      "execution_count": 60,
      "outputs": [
        {
          "output_type": "display_data",
          "data": {
            "text/plain": [
              "Plot with title “Гистограмма”"
            ],
            "image/png": "[encoded data removed]"
          },
          "metadata": {
            "image/png": {
              "width": 420,
              "height": 420
            }
          }
        }
      ]
    },
    {
      "cell_type": "code",
      "source": [
        "hist(als$MN3_dextra, main = \"Гистограмма\", xlab = \"Значения\", ylab = \"Частота\", col = \"lightblue\")"
      ],
      "metadata": {
        "colab": {
          "base_uri": "https://localhost:8080/",
          "height": 437
        },
        "id": "2MoxdmCwJgiK",
        "outputId": "ebe2928e-2763-40b6-b0d1-536b24aa9416"
      },
      "execution_count": 61,
      "outputs": [
        {
          "output_type": "display_data",
          "data": {
            "text/plain": [
              "Plot with title “Гистограмма”"
            ],
            "image/png": "[encoded data removed]"
          },
          "metadata": {
            "image/png": {
              "width": 420,
              "height": 420
            }
          }
        }
      ]
    },
    {
      "cell_type": "code",
      "source": [
        "hist(als$MN3_sinistra, main = \"Гистограмма\", xlab = \"Значения\", ylab = \"Частота\", col = \"lightblue\")"
      ],
      "metadata": {
        "colab": {
          "base_uri": "https://localhost:8080/",
          "height": 437
        },
        "id": "imt7hy9lJmfl",
        "outputId": "0446fbac-ae86-4a78-b1fa-b1d4122a988c"
      },
      "execution_count": 62,
      "outputs": [
        {
          "output_type": "display_data",
          "data": {
            "text/plain": [
              "Plot with title “Гистограмма”"
            ],
            "image/png": "[encoded data removed]"
          },
          "metadata": {
            "image/png": {
              "width": 420,
              "height": 420
            }
          }
        }
      ]
    },
    {
      "cell_type": "code",
      "source": [
        "library(dplyr)"
      ],
      "metadata": {
        "id": "LNt3CBf9vArQ"
      },
      "execution_count": 63,
      "outputs": []
    },
    {
      "cell_type": "code",
      "source": [
        "als <- als %>%\n",
        "  mutate(Diagnosis = as.factor(Diagnosis))"
      ],
      "metadata": {
        "id": "6JKHXA_kn8jk"
      },
      "execution_count": 64,
      "outputs": []
    },
    {
      "cell_type": "code",
      "source": [
        "str(als)"
      ],
      "metadata": {
        "colab": {
          "base_uri": "https://localhost:8080/"
        },
        "id": "i4yOpjJgn8mI",
        "outputId": "9d96010c-2bb8-401e-c44c-6b4705959bf5"
      },
      "execution_count": 65,
      "outputs": [
        {
          "output_type": "stream",
          "name": "stdout",
          "text": [
            "tibble [47 × 28] (S3: tbl_df/tbl/data.frame)\n",
            " $ id            : chr [1:47] \"Kennnedy_1\" \"Kennedy_2\" \"Kennedy_3\" \"ALS_1\" ...\n",
            " $ Age           : num [1:47] 60 45 48 30 38 55 57 63 73 76 ...\n",
            " $ Sex           : chr [1:47] \"male\" \"male\" \"male\" \"male\" ...\n",
            " $ SN_C5_dextra  : num [1:47] 3 NA 5 6 4 9 8 7 6 6 ...\n",
            " $ SN_C5_sinistra: num [1:47] 5 NA 6 7 4 8 9 9 6 6 ...\n",
            " $ SN_C6_dextra  : num [1:47] 7 NA 10 9 8 7 7 8 7 7 ...\n",
            " $ SN_C6_sinistra: num [1:47] 9 NA 8 10 8 7 7 6 4 7 ...\n",
            " $ SN_C7_dextra  : num [1:47] 4 NA 10 8 11 6 4 8 5 8 ...\n",
            " $ SN_C7_sinistra: num [1:47] 7 NA 8 11 11 5 6 7 7 10 ...\n",
            " $ MN1_dextra    : num [1:47] 6 7 7 6 9 10 8 6 9 10 ...\n",
            " $ MN1_sinistra  : num [1:47] 6 7 8 7 7 12 10 8 9 11 ...\n",
            " $ MN2_dextra    : num [1:47] 8 8 8 5 7 9 5 6 6 15 ...\n",
            " $ MN2_sinistra  : num [1:47] 6 8 7 6 14 15 12 9 8 12 ...\n",
            " $ MN3_dextra    : num [1:47] 5 7 8 10 10 6 7 9 10 12 ...\n",
            " $ MN3_sinistra  : num [1:47] 5 7 9 11 14 5 6 10 12 7 ...\n",
            " $ UN1_dextra    : num [1:47] 4 6 6 6 4 7 7 11 9 7 ...\n",
            " $ UN1_sinistra  : num [1:47] 6 6 5 7 8 11 5 3 4 6 ...\n",
            " $ UN2_dextra    : num [1:47] 6 4 7 7 7 7 8 8 7 12 ...\n",
            " $ UN2_sinistra  : num [1:47] 8 4 7 6 6 10 9 9 12 12 ...\n",
            " $ UN3_dextra    : num [1:47] 5 6 7 6 8 6 9 7 10 12 ...\n",
            " $ UN3_sinistra  : num [1:47] 5 6 7 8 5 12 11 6 7 11 ...\n",
            " $ Ish_dextra    : num [1:47] 28 29 58 43 49 44 42 74 45 49 ...\n",
            " $ Ish_sinistra  : num [1:47] 35 40 56 47 43 40 41 55 43 51 ...\n",
            " $ TN_dextra     : num [1:47] 19 28 33 31 17 17 24 29 23 40 ...\n",
            " $ TN_sinistra   : num [1:47] 16 26 32 25 18 23 23 29 20 38 ...\n",
            " $ PN_dextra     : num [1:47] 6 6 7 15 10 11 14 36 11 15 ...\n",
            " $ PN_sinistra   : num [1:47] 7 7 10 14 10 14 16 23 9 15 ...\n",
            " $ Diagnosis     : Factor w/ 2 levels \"0\",\"1\": 2 2 2 2 2 2 2 2 2 2 ...\n"
          ]
        }
      ]
    },
    {
      "cell_type": "code",
      "source": [
        "independent_vars <- c(\"SN_C5_dextra\", \"SN_C5_sinistra\", \"SN_C6_dextra\", \"SN_C6_sinistra\",\n",
        "                      \"SN_C7_dextra\", \"SN_C7_sinistra\", \"MN1_dextra\", \"MN1_sinistra\",\n",
        "                      \"MN2_dextra\", \"MN2_sinistra\", \"MN3_dextra\", \"MN3_sinistra\",\n",
        "                      \"UN1_dextra\", \"UN1_sinistra\", \"UN2_dextra\", \"UN2_sinistra\",\n",
        "                      \"UN3_dextra\", \"UN3_sinistra\")\n",
        "shapiro_results <- lapply(independent_vars, function(var) {\n",
        "  shapiro.test(als[[var]])\n",
        "})"
      ],
      "metadata": {
        "id": "_CSWjktvn8ok"
      },
      "execution_count": 13,
      "outputs": []
    },
    {
      "cell_type": "code",
      "source": [
        "shapiro_results"
      ],
      "metadata": {
        "colab": {
          "base_uri": "https://localhost:8080/",
          "height": 1000
        },
        "id": "syh50h55n8rE",
        "outputId": "f0380f69-2667-4fb5-b3bc-ceff4dc634f0"
      },
      "execution_count": 14,
      "outputs": [
        {
          "output_type": "display_data",
          "data": {
            "text/plain": [
              "[[1]]\n",
              "\n",
              "\tShapiro-Wilk normality test\n",
              "\n",
              "data:  als[[var]]\n",
              "W = 0.95583, p-value = 0.1204\n",
              "\n",
              "\n",
              "[[2]]\n",
              "\n",
              "\tShapiro-Wilk normality test\n",
              "\n",
              "data:  als[[var]]\n",
              "W = 0.93119, p-value = 0.02188\n",
              "\n",
              "\n",
              "[[3]]\n",
              "\n",
              "\tShapiro-Wilk normality test\n",
              "\n",
              "data:  als[[var]]\n",
              "W = 0.94797, p-value = 0.04627\n",
              "\n",
              "\n",
              "[[4]]\n",
              "\n",
              "\tShapiro-Wilk normality test\n",
              "\n",
              "data:  als[[var]]\n",
              "W = 0.94375, p-value = 0.03537\n",
              "\n",
              "\n",
              "[[5]]\n",
              "\n",
              "\tShapiro-Wilk normality test\n",
              "\n",
              "data:  als[[var]]\n",
              "W = 0.95781, p-value = 0.161\n",
              "\n",
              "\n",
              "[[6]]\n",
              "\n",
              "\tShapiro-Wilk normality test\n",
              "\n",
              "data:  als[[var]]\n",
              "W = 0.91841, p-value = 0.007769\n",
              "\n",
              "\n",
              "[[7]]\n",
              "\n",
              "\tShapiro-Wilk normality test\n",
              "\n",
              "data:  als[[var]]\n",
              "W = 0.92432, p-value = 0.004738\n",
              "\n",
              "\n",
              "[[8]]\n",
              "\n",
              "\tShapiro-Wilk normality test\n",
              "\n",
              "data:  als[[var]]\n",
              "W = 0.96153, p-value = 0.1237\n",
              "\n",
              "\n",
              "[[9]]\n",
              "\n",
              "\tShapiro-Wilk normality test\n",
              "\n",
              "data:  als[[var]]\n",
              "W = 0.9258, p-value = 0.005348\n",
              "\n",
              "\n",
              "[[10]]\n",
              "\n",
              "\tShapiro-Wilk normality test\n",
              "\n",
              "data:  als[[var]]\n",
              "W = 0.9392, p-value = 0.0201\n",
              "\n",
              "\n",
              "[[11]]\n",
              "\n",
              "\tShapiro-Wilk normality test\n",
              "\n",
              "data:  als[[var]]\n",
              "W = 0.94249, p-value = 0.02426\n",
              "\n",
              "\n",
              "[[12]]\n",
              "\n",
              "\tShapiro-Wilk normality test\n",
              "\n",
              "data:  als[[var]]\n",
              "W = 0.9499, p-value = 0.04293\n",
              "\n",
              "\n",
              "[[13]]\n",
              "\n",
              "\tShapiro-Wilk normality test\n",
              "\n",
              "data:  als[[var]]\n",
              "W = 0.9487, p-value = 0.04925\n",
              "\n",
              "\n",
              "[[14]]\n",
              "\n",
              "\tShapiro-Wilk normality test\n",
              "\n",
              "data:  als[[var]]\n",
              "W = 0.95578, p-value = 0.09044\n",
              "\n",
              "\n",
              "[[15]]\n",
              "\n",
              "\tShapiro-Wilk normality test\n",
              "\n",
              "data:  als[[var]]\n",
              "W = 0.91821, p-value = 0.002896\n",
              "\n",
              "\n",
              "[[16]]\n",
              "\n",
              "\tShapiro-Wilk normality test\n",
              "\n",
              "data:  als[[var]]\n",
              "W = 0.93417, p-value = 0.01078\n",
              "\n",
              "\n",
              "[[17]]\n",
              "\n",
              "\tShapiro-Wilk normality test\n",
              "\n",
              "data:  als[[var]]\n",
              "W = 0.969, p-value = 0.2426\n",
              "\n",
              "\n",
              "[[18]]\n",
              "\n",
              "\tShapiro-Wilk normality test\n",
              "\n",
              "data:  als[[var]]\n",
              "W = 0.95176, p-value = 0.05075\n",
              "\n"
            ]
          },
          "metadata": {}
        }
      ]
    },
    {
      "cell_type": "code",
      "source": [
        "independent_vars <- c(\"SN_C5_dextra\", \"SN_C5_sinistra\", \"SN_C6_dextra\", \"SN_C6_sinistra\",\n",
        "                      \"SN_C7_dextra\", \"SN_C7_sinistra\", \"MN1_dextra\", \"MN1_sinistra\",\n",
        "                      \"MN2_dextra\", \"MN2_sinistra\", \"MN3_dextra\", \"MN3_sinistra\",\n",
        "                      \"UN1_dextra\", \"UN1_sinistra\", \"UN2_dextra\", \"UN2_sinistra\",\n",
        "                      \"UN3_dextra\", \"UN3_sinistra\")"
      ],
      "metadata": {
        "id": "Rg4ubN2mLfFw"
      },
      "execution_count": 15,
      "outputs": []
    },
    {
      "cell_type": "code",
      "source": [
        "# Создание списка для хранения результатов t-теста\n",
        "t_test_results <- lapply(independent_vars, function(var) {\n",
        "  # Группы по Diagnosis\n",
        "  group_0 <- als[[var]][als$Diagnosis == 0]\n",
        "  group_1 <- als[[var]][als$Diagnosis == 1]\n",
        "\n",
        "  # Проведение t-теста\n",
        "  t_test_result <- t.test(group_0, group_1, var.equal = TRUE) # var.equal = TRUE для равенства дисперсий\n",
        "  return(list(\n",
        "    variable = var,\n",
        "    t_statistic = t_test_result$statistic,\n",
        "    p_value = t_test_result$p.value,\n",
        "    mean_group_0 = mean(group_0, na.rm = TRUE),\n",
        "    mean_group_1 = mean(group_1, na.rm = TRUE)\n",
        "  ))\n",
        "})"
      ],
      "metadata": {
        "id": "_5vuwoSPLSh1"
      },
      "execution_count": 16,
      "outputs": []
    },
    {
      "cell_type": "code",
      "source": [
        "# Преобразование результатов в читаемый формат\n",
        "t_test_results_df <- do.call(rbind, lapply(t_test_results, as.data.frame))\n",
        "print(t_test_results_df)"
      ],
      "metadata": {
        "colab": {
          "base_uri": "https://localhost:8080/"
        },
        "id": "hOB8fGVRLZZZ",
        "outputId": "9a5bd589-b371-46b4-ac1d-bd2a44a62a69"
      },
      "execution_count": 17,
      "outputs": [
        {
          "output_type": "stream",
          "name": "stdout",
          "text": [
            "          variable t_statistic    p_value mean_group_0 mean_group_1\n",
            "t     SN_C5_dextra  0.29124119 0.77245073     7.000000     6.800000\n",
            "t1  SN_C5_sinistra  0.23971252 0.81191279     7.421053     7.210526\n",
            "t2    SN_C6_dextra -0.79557461 0.43075286     8.200000     8.875000\n",
            "t3  SN_C6_sinistra -0.74843398 0.45847052     7.750000     8.304348\n",
            "t4    SN_C7_dextra -1.12118727 0.26963162     8.470588     9.666667\n",
            "t5  SN_C7_sinistra -1.85972015 0.07089008     8.111111     9.904762\n",
            "t6      MN1_dextra  0.50542298 0.61572852     8.900000     8.518519\n",
            "t7    MN1_sinistra -0.74932770 0.45755916     8.600000     9.296296\n",
            "t8      MN2_dextra -0.65313491 0.51699261     8.500000     9.000000\n",
            "t9    MN2_sinistra -0.50916470 0.61323981     8.450000     8.840000\n",
            "t10     MN3_dextra  2.55755750 0.01406331    10.950000     8.807692\n",
            "t11   MN3_sinistra  2.01515821 0.04988515    10.750000     9.074074\n",
            "t12     UN1_dextra  1.49591003 0.14215419     7.100000     6.083333\n",
            "t13   UN1_sinistra  1.08860334 0.28253613     6.950000     6.250000\n",
            "t14     UN2_dextra -0.09935082 0.92130101     8.050000     8.111111\n",
            "t15   UN2_sinistra  0.76162796 0.45025538     9.300000     8.709259\n",
            "t16     UN3_dextra  1.81345572 0.07643389     9.650000     8.333333\n",
            "t17   UN3_sinistra  1.17345735 0.24678616     9.000000     8.111111\n"
          ]
        }
      ]
    },
    {
      "cell_type": "code",
      "source": [
        "# Среднее для группы с Diagnosis = 1\n",
        "mean_SN_C7_sinistra_group_1 <- mean(als$SN_C7_sinistra[als$Diagnosis == 1], na.rm = TRUE)\n",
        "\n",
        "# Среднее для группы с Diagnosis = 0\n",
        "mean_SN_C7_sinistra_group_0 <- mean(als$SN_C7_sinistra[als$Diagnosis == 0], na.rm = TRUE)\n",
        "\n",
        "# Вывод результатов\n",
        "mean_SN_C7_sinistra_group_1\n",
        "mean_SN_C7_sinistra_group_0"
      ],
      "metadata": {
        "colab": {
          "base_uri": "https://localhost:8080/",
          "height": 52
        },
        "id": "ng6WCbuR7BfK",
        "outputId": "f5b9d36e-9e84-4dfe-c2cc-88b18471a1ff"
      },
      "execution_count": 68,
      "outputs": [
        {
          "output_type": "display_data",
          "data": {
            "text/html": [
              "9.90476190476191"
            ],
            "text/markdown": "9.90476190476191",
            "text/latex": "9.90476190476191",
            "text/plain": [
              "[1] 9.904762"
            ]
          },
          "metadata": {}
        },
        {
          "output_type": "display_data",
          "data": {
            "text/html": [
              "8.11111111111111"
            ],
            "text/markdown": "8.11111111111111",
            "text/latex": "8.11111111111111",
            "text/plain": [
              "[1] 8.111111"
            ]
          },
          "metadata": {}
        }
      ]
    },
    {
      "cell_type": "code",
      "source": [
        "mean(als$SN_C7_dextra[als$Diagnosis == 1],na.rm = TRUE)"
      ],
      "metadata": {
        "colab": {
          "base_uri": "https://localhost:8080/",
          "height": 34
        },
        "id": "An1r0ys6sN08",
        "outputId": "46b2c0c2-aa8d-4c8a-8cd4-cf1881af2dcf"
      },
      "execution_count": 100,
      "outputs": [
        {
          "output_type": "display_data",
          "data": {
            "text/html": [
              "9.66666666666667"
            ],
            "text/markdown": "9.66666666666667",
            "text/latex": "9.66666666666667",
            "text/plain": [
              "[1] 9.666667"
            ]
          },
          "metadata": {}
        }
      ]
    },
    {
      "cell_type": "code",
      "source": [
        "sd(als$SN_C7_dextra[als$Diagnosis == 1],na.rm = TRUE)"
      ],
      "metadata": {
        "colab": {
          "base_uri": "https://localhost:8080/",
          "height": 34
        },
        "id": "c3Uc3Z36sRev",
        "outputId": "711c58e5-58b7-4ca5-89eb-f961aa3b39b9"
      },
      "execution_count": 101,
      "outputs": [
        {
          "output_type": "display_data",
          "data": {
            "text/html": [
              "3.77270901784558"
            ],
            "text/markdown": "3.77270901784558",
            "text/latex": "3.77270901784558",
            "text/plain": [
              "[1] 3.772709"
            ]
          },
          "metadata": {}
        }
      ]
    },
    {
      "cell_type": "code",
      "source": [
        "mean(als$SN_C7_sinistra[als$Diagnosis == 1],na.rm = TRUE)"
      ],
      "metadata": {
        "colab": {
          "base_uri": "https://localhost:8080/",
          "height": 34
        },
        "id": "DKW0wb_Rq3T3",
        "outputId": "ca376ccd-819a-43cf-9e8e-838d8db005a9"
      },
      "execution_count": 102,
      "outputs": [
        {
          "output_type": "display_data",
          "data": {
            "text/html": [
              "9.90476190476191"
            ],
            "text/markdown": "9.90476190476191",
            "text/latex": "9.90476190476191",
            "text/plain": [
              "[1] 9.904762"
            ]
          },
          "metadata": {}
        }
      ]
    },
    {
      "cell_type": "code",
      "source": [
        "sd(als$SN_C7_sinistra[als$Diagnosis == 1],na.rm = TRUE)"
      ],
      "metadata": {
        "colab": {
          "base_uri": "https://localhost:8080/",
          "height": 34
        },
        "id": "HG2u4ugjrVVR",
        "outputId": "b0b3aaa7-1746-476d-e981-e2a20b02144d"
      },
      "execution_count": 103,
      "outputs": [
        {
          "output_type": "display_data",
          "data": {
            "text/html": [
              "3.57637752348325"
            ],
            "text/markdown": "3.57637752348325",
            "text/latex": "3.57637752348325",
            "text/plain": [
              "[1] 3.576378"
            ]
          },
          "metadata": {}
        }
      ]
    },
    {
      "cell_type": "code",
      "source": [
        "mean(als$SN_C7_dextra[als$Diagnosis == 0],na.rm = TRUE)"
      ],
      "metadata": {
        "colab": {
          "base_uri": "https://localhost:8080/",
          "height": 34
        },
        "id": "GffV9UjRq8Af",
        "outputId": "31fd2e89-cbff-4625-ab6f-c4c6452f01ea"
      },
      "execution_count": 104,
      "outputs": [
        {
          "output_type": "display_data",
          "data": {
            "text/html": [
              "8.47058823529412"
            ],
            "text/markdown": "8.47058823529412",
            "text/latex": "8.47058823529412",
            "text/plain": [
              "[1] 8.470588"
            ]
          },
          "metadata": {}
        }
      ]
    },
    {
      "cell_type": "code",
      "source": [
        "sd(als$SN_C7_dextra[als$Diagnosis == 0],na.rm = TRUE)"
      ],
      "metadata": {
        "colab": {
          "base_uri": "https://localhost:8080/",
          "height": 34
        },
        "id": "RIZU5QS0rmzk",
        "outputId": "5806b9f6-26b4-49e9-b81d-7496175b36c1"
      },
      "execution_count": 105,
      "outputs": [
        {
          "output_type": "display_data",
          "data": {
            "text/html": [
              "2.50293944839921"
            ],
            "text/markdown": "2.50293944839921",
            "text/latex": "2.50293944839921",
            "text/plain": [
              "[1] 2.502939"
            ]
          },
          "metadata": {}
        }
      ]
    },
    {
      "cell_type": "code",
      "source": [
        "mean(als$SN_C7_sinistra[als$Diagnosis == 0],na.rm = TRUE)"
      ],
      "metadata": {
        "colab": {
          "base_uri": "https://localhost:8080/",
          "height": 34
        },
        "id": "f4yhtDnxsfzs",
        "outputId": "d3bc0544-6c16-47d1-df5e-f05059aedb74"
      },
      "execution_count": 106,
      "outputs": [
        {
          "output_type": "display_data",
          "data": {
            "text/html": [
              "8.11111111111111"
            ],
            "text/markdown": "8.11111111111111",
            "text/latex": "8.11111111111111",
            "text/plain": [
              "[1] 8.111111"
            ]
          },
          "metadata": {}
        }
      ]
    },
    {
      "cell_type": "code",
      "source": [
        "sd(als$SN_C7_sinistra[als$Diagnosis == 0],na.rm = TRUE)"
      ],
      "metadata": {
        "colab": {
          "base_uri": "https://localhost:8080/",
          "height": 34
        },
        "id": "QGk7s8YlslcH",
        "outputId": "435590f5-e8cb-49dd-cc1b-f4d97bb3a84c"
      },
      "execution_count": 107,
      "outputs": [
        {
          "output_type": "display_data",
          "data": {
            "text/html": [
              "2.13896315973249"
            ],
            "text/markdown": "2.13896315973249",
            "text/latex": "2.13896315973249",
            "text/plain": [
              "[1] 2.138963"
            ]
          },
          "metadata": {}
        }
      ]
    },
    {
      "cell_type": "code",
      "source": [],
      "metadata": {
        "id": "X7EkD5oM0aNw"
      },
      "execution_count": null,
      "outputs": []
    },
    {
      "cell_type": "code",
      "source": [
        "# Стандартное отклонение группы с Diagnosis = 0\n",
        "sd_SN_C7_sinistra_group_1 <- sd(als$SN_C7_sinistra[als$Diagnosis == 1], na.rm = TRUE)\n",
        "\n",
        "# Среднее для группы с Diagnosis = 0\n",
        "sd_SN_C7_sinistra_group_0 <- sd(als$SN_C7_sinistra[als$Diagnosis == 0], na.rm = TRUE)\n",
        "\n",
        "# Вывод результатов\n",
        "sd_SN_C7_sinistra_group_1\n",
        "sd_SN_C7_sinistra_group_0"
      ],
      "metadata": {
        "colab": {
          "base_uri": "https://localhost:8080/",
          "height": 52
        },
        "id": "G-yh2Gcs8Ots",
        "outputId": "1885483c-c2af-4399-f9ad-28153f5b0782"
      },
      "execution_count": 69,
      "outputs": [
        {
          "output_type": "display_data",
          "data": {
            "text/html": [
              "3.57637752348325"
            ],
            "text/markdown": "3.57637752348325",
            "text/latex": "3.57637752348325",
            "text/plain": [
              "[1] 3.576378"
            ]
          },
          "metadata": {}
        },
        {
          "output_type": "display_data",
          "data": {
            "text/html": [
              "2.13896315973249"
            ],
            "text/markdown": "2.13896315973249",
            "text/latex": "2.13896315973249",
            "text/plain": [
              "[1] 2.138963"
            ]
          },
          "metadata": {}
        }
      ]
    },
    {
      "cell_type": "code",
      "source": [
        "hist(als$SN_C7_sinistra[als$Diagnosis == 1])"
      ],
      "metadata": {
        "colab": {
          "base_uri": "https://localhost:8080/",
          "height": 437
        },
        "id": "_RXtEImD7uS7",
        "outputId": "d0c0b9b8-94b3-4095-fe9a-2c5d1604823e"
      },
      "execution_count": 70,
      "outputs": [
        {
          "output_type": "display_data",
          "data": {
            "text/plain": [
              "Plot with title “Histogram of als$SN_C7_sinistra[als$Diagnosis == 1]”"
            ],
            "image/png": "[encoded data removed]"
          },
          "metadata": {
            "image/png": {
              "width": 420,
              "height": 420
            }
          }
        }
      ]
    },
    {
      "cell_type": "code",
      "source": [
        "hist(als$SN_C7_sinistra[als$Diagnosis == 0])"
      ],
      "metadata": {
        "colab": {
          "base_uri": "https://localhost:8080/",
          "height": 437
        },
        "id": "opvNGsCK74vN",
        "outputId": "23eb80cd-daaf-47f5-80a4-cec02ddf1ffc"
      },
      "execution_count": 71,
      "outputs": [
        {
          "output_type": "display_data",
          "data": {
            "text/plain": [
              "Plot with title “Histogram of als$SN_C7_sinistra[als$Diagnosis == 0]”"
            ],
            "image/png": "[encoded data removed]"
          },
          "metadata": {
            "image/png": {
              "width": 420,
              "height": 420
            }
          }
        }
      ]
    },
    {
      "cell_type": "code",
      "source": [
        "independent_vars_down <- c(\"Ish_dextra\",\"Ish_sinistra\",\"TN_dextra\",\"TN_sinistra\",\"PN_dextra\",\"PN_sinistra\")\n",
        "shapiro_results_down <- lapply(independent_vars_down, function(var) {\n",
        "  shapiro.test(als[[var]])\n",
        "})"
      ],
      "metadata": {
        "id": "kZGRlo6S5A3n"
      },
      "execution_count": 72,
      "outputs": []
    },
    {
      "cell_type": "code",
      "source": [
        "shapiro_results_down"
      ],
      "metadata": {
        "colab": {
          "base_uri": "https://localhost:8080/",
          "height": 874
        },
        "id": "zUyYXCuk5EGZ",
        "outputId": "207b198b-654f-4646-a3b7-dafabf0ed862"
      },
      "execution_count": 73,
      "outputs": [
        {
          "output_type": "display_data",
          "data": {
            "text/plain": [
              "[[1]]\n",
              "\n",
              "\tShapiro-Wilk normality test\n",
              "\n",
              "data:  als[[var]]\n",
              "W = 0.94311, p-value = 0.06962\n",
              "\n",
              "\n",
              "[[2]]\n",
              "\n",
              "\tShapiro-Wilk normality test\n",
              "\n",
              "data:  als[[var]]\n",
              "W = 0.9673, p-value = 0.3912\n",
              "\n",
              "\n",
              "[[3]]\n",
              "\n",
              "\tShapiro-Wilk normality test\n",
              "\n",
              "data:  als[[var]]\n",
              "W = 0.94756, p-value = 0.07398\n",
              "\n",
              "\n",
              "[[4]]\n",
              "\n",
              "\tShapiro-Wilk normality test\n",
              "\n",
              "data:  als[[var]]\n",
              "W = 0.96002, p-value = 0.2023\n",
              "\n",
              "\n",
              "[[5]]\n",
              "\n",
              "\tShapiro-Wilk normality test\n",
              "\n",
              "data:  als[[var]]\n",
              "W = 0.8223, p-value = 0.0001102\n",
              "\n",
              "\n",
              "[[6]]\n",
              "\n",
              "\tShapiro-Wilk normality test\n",
              "\n",
              "data:  als[[var]]\n",
              "W = 0.88008, p-value = 0.001685\n",
              "\n"
            ]
          },
          "metadata": {}
        }
      ]
    },
    {
      "cell_type": "code",
      "source": [
        "ks_results <- lapply(independent_vars, function(var) {\n",
        "  ks.test(als[[var]], \"pnorm\", mean = mean(als[[var]], na.rm = TRUE), sd = sd(als[[var]], na.rm = TRUE))\n",
        "})\n",
        "ks_results"
      ],
      "metadata": {
        "colab": {
          "base_uri": "https://localhost:8080/",
          "height": 1000
        },
        "id": "N4mDoeytT7bA",
        "outputId": "e96208f8-5443-4e27-e2c7-e6bab14627ae"
      },
      "execution_count": 74,
      "outputs": [
        {
          "output_type": "stream",
          "name": "stderr",
          "text": [
            "Warning message in ks.test.default(als[[var]], \"pnorm\", mean = mean(als[[var]], :\n",
            "“ties should not be present for the one-sample Kolmogorov-Smirnov test”\n",
            "Warning message in ks.test.default(als[[var]], \"pnorm\", mean = mean(als[[var]], :\n",
            "“ties should not be present for the one-sample Kolmogorov-Smirnov test”\n",
            "Warning message in ks.test.default(als[[var]], \"pnorm\", mean = mean(als[[var]], :\n",
            "“ties should not be present for the one-sample Kolmogorov-Smirnov test”\n",
            "Warning message in ks.test.default(als[[var]], \"pnorm\", mean = mean(als[[var]], :\n",
            "“ties should not be present for the one-sample Kolmogorov-Smirnov test”\n",
            "Warning message in ks.test.default(als[[var]], \"pnorm\", mean = mean(als[[var]], :\n",
            "“ties should not be present for the one-sample Kolmogorov-Smirnov test”\n",
            "Warning message in ks.test.default(als[[var]], \"pnorm\", mean = mean(als[[var]], :\n",
            "“ties should not be present for the one-sample Kolmogorov-Smirnov test”\n",
            "Warning message in ks.test.default(als[[var]], \"pnorm\", mean = mean(als[[var]], :\n",
            "“ties should not be present for the one-sample Kolmogorov-Smirnov test”\n",
            "Warning message in ks.test.default(als[[var]], \"pnorm\", mean = mean(als[[var]], :\n",
            "“ties should not be present for the one-sample Kolmogorov-Smirnov test”\n",
            "Warning message in ks.test.default(als[[var]], \"pnorm\", mean = mean(als[[var]], :\n",
            "“ties should not be present for the one-sample Kolmogorov-Smirnov test”\n",
            "Warning message in ks.test.default(als[[var]], \"pnorm\", mean = mean(als[[var]], :\n",
            "“ties should not be present for the one-sample Kolmogorov-Smirnov test”\n",
            "Warning message in ks.test.default(als[[var]], \"pnorm\", mean = mean(als[[var]], :\n",
            "“ties should not be present for the one-sample Kolmogorov-Smirnov test”\n",
            "Warning message in ks.test.default(als[[var]], \"pnorm\", mean = mean(als[[var]], :\n",
            "“ties should not be present for the one-sample Kolmogorov-Smirnov test”\n",
            "Warning message in ks.test.default(als[[var]], \"pnorm\", mean = mean(als[[var]], :\n",
            "“ties should not be present for the one-sample Kolmogorov-Smirnov test”\n",
            "Warning message in ks.test.default(als[[var]], \"pnorm\", mean = mean(als[[var]], :\n",
            "“ties should not be present for the one-sample Kolmogorov-Smirnov test”\n",
            "Warning message in ks.test.default(als[[var]], \"pnorm\", mean = mean(als[[var]], :\n",
            "“ties should not be present for the one-sample Kolmogorov-Smirnov test”\n",
            "Warning message in ks.test.default(als[[var]], \"pnorm\", mean = mean(als[[var]], :\n",
            "“ties should not be present for the one-sample Kolmogorov-Smirnov test”\n",
            "Warning message in ks.test.default(als[[var]], \"pnorm\", mean = mean(als[[var]], :\n",
            "“ties should not be present for the one-sample Kolmogorov-Smirnov test”\n",
            "Warning message in ks.test.default(als[[var]], \"pnorm\", mean = mean(als[[var]], :\n",
            "“ties should not be present for the one-sample Kolmogorov-Smirnov test”\n"
          ]
        },
        {
          "output_type": "display_data",
          "data": {
            "text/plain": [
              "[[1]]\n",
              "\n",
              "\tAsymptotic one-sample Kolmogorov-Smirnov test\n",
              "\n",
              "data:  als[[var]]\n",
              "D = 0.13703, p-value = 0.4404\n",
              "alternative hypothesis: two-sided\n",
              "\n",
              "\n",
              "[[2]]\n",
              "\n",
              "\tAsymptotic one-sample Kolmogorov-Smirnov test\n",
              "\n",
              "data:  als[[var]]\n",
              "D = 0.13615, p-value = 0.4818\n",
              "alternative hypothesis: two-sided\n",
              "\n",
              "\n",
              "[[3]]\n",
              "\n",
              "\tAsymptotic one-sample Kolmogorov-Smirnov test\n",
              "\n",
              "data:  als[[var]]\n",
              "D = 0.16749, p-value = 0.1693\n",
              "alternative hypothesis: two-sided\n",
              "\n",
              "\n",
              "[[4]]\n",
              "\n",
              "\tAsymptotic one-sample Kolmogorov-Smirnov test\n",
              "\n",
              "data:  als[[var]]\n",
              "D = 0.15886, p-value = 0.2279\n",
              "alternative hypothesis: two-sided\n",
              "\n",
              "\n",
              "[[5]]\n",
              "\n",
              "\tAsymptotic one-sample Kolmogorov-Smirnov test\n",
              "\n",
              "data:  als[[var]]\n",
              "D = 0.157, p-value = 0.3061\n",
              "alternative hypothesis: two-sided\n",
              "\n",
              "\n",
              "[[6]]\n",
              "\n",
              "\tAsymptotic one-sample Kolmogorov-Smirnov test\n",
              "\n",
              "data:  als[[var]]\n",
              "D = 0.15093, p-value = 0.3367\n",
              "alternative hypothesis: two-sided\n",
              "\n",
              "\n",
              "[[7]]\n",
              "\n",
              "\tAsymptotic one-sample Kolmogorov-Smirnov test\n",
              "\n",
              "data:  als[[var]]\n",
              "D = 0.17167, p-value = 0.1253\n",
              "alternative hypothesis: two-sided\n",
              "\n",
              "\n",
              "[[8]]\n",
              "\n",
              "\tAsymptotic one-sample Kolmogorov-Smirnov test\n",
              "\n",
              "data:  als[[var]]\n",
              "D = 0.091515, p-value = 0.8261\n",
              "alternative hypothesis: two-sided\n",
              "\n",
              "\n",
              "[[9]]\n",
              "\n",
              "\tAsymptotic one-sample Kolmogorov-Smirnov test\n",
              "\n",
              "data:  als[[var]]\n",
              "D = 0.13057, p-value = 0.3995\n",
              "alternative hypothesis: two-sided\n",
              "\n",
              "\n",
              "[[10]]\n",
              "\n",
              "\tAsymptotic one-sample Kolmogorov-Smirnov test\n",
              "\n",
              "data:  als[[var]]\n",
              "D = 0.18163, p-value = 0.1027\n",
              "alternative hypothesis: two-sided\n",
              "\n",
              "\n",
              "[[11]]\n",
              "\n",
              "\tAsymptotic one-sample Kolmogorov-Smirnov test\n",
              "\n",
              "data:  als[[var]]\n",
              "D = 0.13299, p-value = 0.39\n",
              "alternative hypothesis: two-sided\n",
              "\n",
              "\n",
              "[[12]]\n",
              "\n",
              "\tAsymptotic one-sample Kolmogorov-Smirnov test\n",
              "\n",
              "data:  als[[var]]\n",
              "D = 0.15172, p-value = 0.2294\n",
              "alternative hypothesis: two-sided\n",
              "\n",
              "\n",
              "[[13]]\n",
              "\n",
              "\tAsymptotic one-sample Kolmogorov-Smirnov test\n",
              "\n",
              "data:  als[[var]]\n",
              "D = 0.19361, p-value = 0.07387\n",
              "alternative hypothesis: two-sided\n",
              "\n",
              "\n",
              "[[14]]\n",
              "\n",
              "\tAsymptotic one-sample Kolmogorov-Smirnov test\n",
              "\n",
              "data:  als[[var]]\n",
              "D = 0.1507, p-value = 0.2704\n",
              "alternative hypothesis: two-sided\n",
              "\n",
              "\n",
              "[[15]]\n",
              "\n",
              "\tAsymptotic one-sample Kolmogorov-Smirnov test\n",
              "\n",
              "data:  als[[var]]\n",
              "D = 0.21859, p-value = 0.02241\n",
              "alternative hypothesis: two-sided\n",
              "\n",
              "\n",
              "[[16]]\n",
              "\n",
              "\tAsymptotic one-sample Kolmogorov-Smirnov test\n",
              "\n",
              "data:  als[[var]]\n",
              "D = 0.1561, p-value = 0.2022\n",
              "alternative hypothesis: two-sided\n",
              "\n",
              "\n",
              "[[17]]\n",
              "\n",
              "\tAsymptotic one-sample Kolmogorov-Smirnov test\n",
              "\n",
              "data:  als[[var]]\n",
              "D = 0.10847, p-value = 0.6379\n",
              "alternative hypothesis: two-sided\n",
              "\n",
              "\n",
              "[[18]]\n",
              "\n",
              "\tAsymptotic one-sample Kolmogorov-Smirnov test\n",
              "\n",
              "data:  als[[var]]\n",
              "D = 0.13074, p-value = 0.3978\n",
              "alternative hypothesis: two-sided\n",
              "\n"
            ]
          },
          "metadata": {}
        }
      ]
    },
    {
      "cell_type": "code",
      "source": [
        "mean(als$UN2_dextra[als$Diagnosis == 1],na.rm = TRUE)"
      ],
      "metadata": {
        "colab": {
          "base_uri": "https://localhost:8080/",
          "height": 34
        },
        "id": "W_Xbumix-EG5",
        "outputId": "87e951cd-70bf-48d6-e4d4-2b9ca8d22c7c"
      },
      "execution_count": 75,
      "outputs": [
        {
          "output_type": "display_data",
          "data": {
            "text/html": [
              "8.11111111111111"
            ],
            "text/markdown": "8.11111111111111",
            "text/latex": "8.11111111111111",
            "text/plain": [
              "[1] 8.111111"
            ]
          },
          "metadata": {}
        }
      ]
    },
    {
      "cell_type": "code",
      "source": [
        "mean(als$UN2_dextra[als$Diagnosis == 0],na.rm = TRUE)"
      ],
      "metadata": {
        "colab": {
          "base_uri": "https://localhost:8080/",
          "height": 34
        },
        "id": "QeAJnnE--qun",
        "outputId": "2d0a1ac1-c360-4c63-9738-af6e8ae11e2b"
      },
      "execution_count": 76,
      "outputs": [
        {
          "output_type": "display_data",
          "data": {
            "text/html": [
              "8.05"
            ],
            "text/markdown": "8.05",
            "text/latex": "8.05",
            "text/plain": [
              "[1] 8.05"
            ]
          },
          "metadata": {}
        }
      ]
    },
    {
      "cell_type": "code",
      "source": [
        "sd(als$UN2_dextra[als$Diagnosis == 1],na.rm = TRUE)"
      ],
      "metadata": {
        "colab": {
          "base_uri": "https://localhost:8080/",
          "height": 34
        },
        "id": "0Zc9d3Vg-unB",
        "outputId": "590424b9-db88-4285-af33-4fc7dea1ccf8"
      },
      "execution_count": 77,
      "outputs": [
        {
          "output_type": "display_data",
          "data": {
            "text/html": [
              "2.3259957889593"
            ],
            "text/markdown": "2.3259957889593",
            "text/latex": "2.3259957889593",
            "text/plain": [
              "[1] 2.325996"
            ]
          },
          "metadata": {}
        }
      ]
    },
    {
      "cell_type": "code",
      "source": [
        "sd(als$UN2_dextra[als$Diagnosis == 0],na.rm = TRUE)"
      ],
      "metadata": {
        "colab": {
          "base_uri": "https://localhost:8080/",
          "height": 34
        },
        "id": "P0-f3hpm-yB4",
        "outputId": "87ba40c8-8f6d-4272-de45-015986d16af3"
      },
      "execution_count": 78,
      "outputs": [
        {
          "output_type": "display_data",
          "data": {
            "text/html": [
              "1.70061908232205"
            ],
            "text/markdown": "1.70061908232205",
            "text/latex": "1.70061908232205",
            "text/plain": [
              "[1] 1.700619"
            ]
          },
          "metadata": {}
        }
      ]
    },
    {
      "cell_type": "code",
      "source": [
        "hist(als$UN2_dextra[als$Diagnosis == 0],na.rm = TRUE)"
      ],
      "metadata": {
        "colab": {
          "base_uri": "https://localhost:8080/",
          "height": 583
        },
        "id": "O3025dmF-4CU",
        "outputId": "2238978b-8da4-4f1e-a15f-203b1998402f"
      },
      "execution_count": 79,
      "outputs": [
        {
          "output_type": "stream",
          "name": "stderr",
          "text": [
            "Warning message in plot.window(xlim, ylim, \"\", ...):\n",
            "“\"na.rm\" is not a graphical parameter”\n",
            "Warning message in title(main = main, sub = sub, xlab = xlab, ylab = ylab, ...):\n",
            "“\"na.rm\" is not a graphical parameter”\n",
            "Warning message in axis(1, ...):\n",
            "“\"na.rm\" is not a graphical parameter”\n",
            "Warning message in axis(2, at = yt, ...):\n",
            "“\"na.rm\" is not a graphical parameter”\n"
          ]
        },
        {
          "output_type": "display_data",
          "data": {
            "text/plain": [
              "Plot with title “Histogram of als$UN2_dextra[als$Diagnosis == 0]”"
            ],
            "image/png": "[encoded data removed]"
          },
          "metadata": {
            "image/png": {
              "width": 420,
              "height": 420
            }
          }
        }
      ]
    },
    {
      "cell_type": "code",
      "source": [
        "hist(als$UN2_dextra[als$Diagnosis == 1],na.rm = TRUE)"
      ],
      "metadata": {
        "colab": {
          "base_uri": "https://localhost:8080/",
          "height": 583
        },
        "id": "EZXMqSGJ-9Km",
        "outputId": "70bf4d84-5b91-4d9a-8481-526938f299a7"
      },
      "execution_count": 80,
      "outputs": [
        {
          "output_type": "stream",
          "name": "stderr",
          "text": [
            "Warning message in plot.window(xlim, ylim, \"\", ...):\n",
            "“\"na.rm\" is not a graphical parameter”\n",
            "Warning message in title(main = main, sub = sub, xlab = xlab, ylab = ylab, ...):\n",
            "“\"na.rm\" is not a graphical parameter”\n",
            "Warning message in axis(1, ...):\n",
            "“\"na.rm\" is not a graphical parameter”\n",
            "Warning message in axis(2, at = yt, ...):\n",
            "“\"na.rm\" is not a graphical parameter”\n"
          ]
        },
        {
          "output_type": "display_data",
          "data": {
            "text/plain": [
              "Plot with title “Histogram of als$UN2_dextra[als$Diagnosis == 1]”"
            ],
            "image/png": "[encoded data removed]"
          },
          "metadata": {
            "image/png": {
              "width": 420,
              "height": 420
            }
          }
        }
      ]
    },
    {
      "cell_type": "code",
      "source": [
        "independent_vars_down <- c(\"Ish_dextra\",\"Ish_sinistra\",\"TN_dextra\",\"TN_sinistra\",\"PN_dextra\",\"PN_sinistra\")\n",
        "ks_results <- lapply(independent_vars_down, function(var) {\n",
        "  ks.test(als[[var]], \"pnorm\", mean = mean(als[[var]], na.rm = TRUE), sd = sd(als[[var]], na.rm = TRUE))\n",
        "})\n",
        "ks_results"
      ],
      "metadata": {
        "colab": {
          "base_uri": "https://localhost:8080/",
          "height": 1000
        },
        "id": "fXZKURr952y_",
        "outputId": "f84ff69b-19e0-4115-f353-3948861d35f4"
      },
      "execution_count": 81,
      "outputs": [
        {
          "output_type": "stream",
          "name": "stderr",
          "text": [
            "Warning message in ks.test.default(als[[var]], \"pnorm\", mean = mean(als[[var]], :\n",
            "“ties should not be present for the one-sample Kolmogorov-Smirnov test”\n",
            "Warning message in ks.test.default(als[[var]], \"pnorm\", mean = mean(als[[var]], :\n",
            "“ties should not be present for the one-sample Kolmogorov-Smirnov test”\n",
            "Warning message in ks.test.default(als[[var]], \"pnorm\", mean = mean(als[[var]], :\n",
            "“ties should not be present for the one-sample Kolmogorov-Smirnov test”\n",
            "Warning message in ks.test.default(als[[var]], \"pnorm\", mean = mean(als[[var]], :\n",
            "“ties should not be present for the one-sample Kolmogorov-Smirnov test”\n",
            "Warning message in ks.test.default(als[[var]], \"pnorm\", mean = mean(als[[var]], :\n",
            "“ties should not be present for the one-sample Kolmogorov-Smirnov test”\n",
            "Warning message in ks.test.default(als[[var]], \"pnorm\", mean = mean(als[[var]], :\n",
            "“ties should not be present for the one-sample Kolmogorov-Smirnov test”\n"
          ]
        },
        {
          "output_type": "display_data",
          "data": {
            "text/plain": [
              "[[1]]\n",
              "\n",
              "\tAsymptotic one-sample Kolmogorov-Smirnov test\n",
              "\n",
              "data:  als[[var]]\n",
              "D = 0.12361, p-value = 0.6587\n",
              "alternative hypothesis: two-sided\n",
              "\n",
              "\n",
              "[[2]]\n",
              "\n",
              "\tAsymptotic one-sample Kolmogorov-Smirnov test\n",
              "\n",
              "data:  als[[var]]\n",
              "D = 0.1018, p-value = 0.8726\n",
              "alternative hypothesis: two-sided\n",
              "\n",
              "\n",
              "[[3]]\n",
              "\n",
              "\tAsymptotic one-sample Kolmogorov-Smirnov test\n",
              "\n",
              "data:  als[[var]]\n",
              "D = 0.11384, p-value = 0.7083\n",
              "alternative hypothesis: two-sided\n",
              "\n",
              "\n",
              "[[4]]\n",
              "\n",
              "\tAsymptotic one-sample Kolmogorov-Smirnov test\n",
              "\n",
              "data:  als[[var]]\n",
              "D = 0.11311, p-value = 0.7311\n",
              "alternative hypothesis: two-sided\n",
              "\n",
              "\n",
              "[[5]]\n",
              "\n",
              "\tAsymptotic one-sample Kolmogorov-Smirnov test\n",
              "\n",
              "data:  als[[var]]\n",
              "D = 0.2158, p-value = 0.1015\n",
              "alternative hypothesis: two-sided\n",
              "\n",
              "\n",
              "[[6]]\n",
              "\n",
              "\tAsymptotic one-sample Kolmogorov-Smirnov test\n",
              "\n",
              "data:  als[[var]]\n",
              "D = 0.1939, p-value = 0.1672\n",
              "alternative hypothesis: two-sided\n",
              "\n"
            ]
          },
          "metadata": {}
        }
      ]
    },
    {
      "cell_type": "code",
      "source": [
        "library(ggplot2)\n",
        "\n",
        "ggplot(als, aes(x = Diagnosis, y = SN_C5_sinistra, fill = Diagnosis)) +\n",
        "  geom_boxplot() +\n",
        "  labs(title = \"Различия в SN_C5_sinistra между группами\",\n",
        "       x = \"Диагноз\",\n",
        "       y = \"SN_C5_sinistra\") +\n",
        "  theme_minimal()"
      ],
      "metadata": {
        "colab": {
          "base_uri": "https://localhost:8080/",
          "height": 492
        },
        "id": "5YxrOKSM8yxA",
        "outputId": "d4a8076c-4f7e-4d66-9c69-a6627760aa6e"
      },
      "execution_count": 82,
      "outputs": [
        {
          "output_type": "stream",
          "name": "stderr",
          "text": [
            "Warning message:\n",
            "“\u001b[1m\u001b[22mRemoved 9 rows containing non-finite outside the scale range\n",
            "(`stat_boxplot()`).”\n"
          ]
        },
        {
          "output_type": "display_data",
          "data": {
            "text/plain": [
              "plot without title"
            ],
            "image/png": "[encoded data removed]"
          },
          "metadata": {
            "image/png": {
              "width": 420,
              "height": 420
            }
          }
        }
      ]
    },
    {
      "cell_type": "code",
      "source": [
        "write.csv(als, \"als.xlsx\", row.names = FALSE)"
      ],
      "metadata": {
        "id": "-bPfVwEVBqBZ"
      },
      "execution_count": 83,
      "outputs": []
    },
    {
      "cell_type": "code",
      "source": [
        "mean(als$Age[als$Diagnosis == 0])"
      ],
      "metadata": {
        "id": "XVTUywVRJAwB",
        "colab": {
          "base_uri": "https://localhost:8080/",
          "height": 34
        },
        "outputId": "cfe69675-bf93-4e5d-afe7-90be42d5c883"
      },
      "execution_count": 84,
      "outputs": [
        {
          "output_type": "display_data",
          "data": {
            "text/html": [
              "43.4"
            ],
            "text/markdown": "43.4",
            "text/latex": "43.4",
            "text/plain": [
              "[1] 43.4"
            ]
          },
          "metadata": {}
        }
      ]
    },
    {
      "cell_type": "code",
      "source": [
        "sd(als$Age[als$Diagnosis == 0])"
      ],
      "metadata": {
        "id": "Bhb1iIZJJAy7",
        "colab": {
          "base_uri": "https://localhost:8080/",
          "height": 34
        },
        "outputId": "d8bf40c7-f2a1-468d-e5dc-2fa67d352f76"
      },
      "execution_count": 85,
      "outputs": [
        {
          "output_type": "display_data",
          "data": {
            "text/html": [
              "17.0614986692877"
            ],
            "text/markdown": "17.0614986692877",
            "text/latex": "17.0614986692877",
            "text/plain": [
              "[1] 17.0615"
            ]
          },
          "metadata": {}
        }
      ]
    },
    {
      "cell_type": "code",
      "source": [
        "mean(als$Age[als$Diagnosis == 1])"
      ],
      "metadata": {
        "id": "Wqj5uPITJA2G",
        "colab": {
          "base_uri": "https://localhost:8080/",
          "height": 34
        },
        "outputId": "a13caed8-ba44-4435-f37b-8de2505a4f4e"
      },
      "execution_count": 86,
      "outputs": [
        {
          "output_type": "display_data",
          "data": {
            "text/html": [
              "49.7037037037037"
            ],
            "text/markdown": "49.7037037037037",
            "text/latex": "49.7037037037037",
            "text/plain": [
              "[1] 49.7037"
            ]
          },
          "metadata": {}
        }
      ]
    },
    {
      "cell_type": "code",
      "source": [
        "sd(als$Age[als$Diagnosis == 1])"
      ],
      "metadata": {
        "id": "QFyRYW9gJA41",
        "colab": {
          "base_uri": "https://localhost:8080/",
          "height": 34
        },
        "outputId": "f4875a7f-99f8-4197-bb69-2caeedf2fb3a"
      },
      "execution_count": 87,
      "outputs": [
        {
          "output_type": "display_data",
          "data": {
            "text/html": [
              "13.9664840981071"
            ],
            "text/markdown": "13.9664840981071",
            "text/latex": "13.9664840981071",
            "text/plain": [
              "[1] 13.96648"
            ]
          },
          "metadata": {}
        }
      ]
    },
    {
      "cell_type": "code",
      "source": [
        "sum(als$Sex == 'female'& als$Diagnosis == 0)"
      ],
      "metadata": {
        "id": "fzxVgo8WBqEg",
        "colab": {
          "base_uri": "https://localhost:8080/",
          "height": 34
        },
        "outputId": "f0b34e02-2b2c-4957-ff01-539674b8cfd1"
      },
      "execution_count": 96,
      "outputs": [
        {
          "output_type": "display_data",
          "data": {
            "text/html": [
              "10"
            ],
            "text/markdown": "10",
            "text/latex": "10",
            "text/plain": [
              "[1] 10"
            ]
          },
          "metadata": {}
        }
      ]
    },
    {
      "cell_type": "code",
      "source": [
        "sum(als$Sex == 'male' & als$Diagnosis == 0)"
      ],
      "metadata": {
        "id": "KkIHEbxDBqHJ",
        "colab": {
          "base_uri": "https://localhost:8080/",
          "height": 34
        },
        "outputId": "ae4f24cf-bd09-4dda-a305-a8277a82830b"
      },
      "execution_count": 93,
      "outputs": [
        {
          "output_type": "display_data",
          "data": {
            "text/html": [
              "10"
            ],
            "text/markdown": "10",
            "text/latex": "10",
            "text/plain": [
              "[1] 10"
            ]
          },
          "metadata": {}
        }
      ]
    },
    {
      "cell_type": "code",
      "source": [
        "sum(als$Sex == 'male' & als$Diagnosis == 1)"
      ],
      "metadata": {
        "id": "iz8Q6l-3BqKh",
        "colab": {
          "base_uri": "https://localhost:8080/",
          "height": 34
        },
        "outputId": "24261b14-d10c-49d4-bfd7-4cdde1c8b091"
      },
      "execution_count": 94,
      "outputs": [
        {
          "output_type": "display_data",
          "data": {
            "text/html": [
              "15"
            ],
            "text/markdown": "15",
            "text/latex": "15",
            "text/plain": [
              "[1] 15"
            ]
          },
          "metadata": {}
        }
      ]
    },
    {
      "cell_type": "code",
      "source": [
        "sum(als$Sex == 'female' & als$Diagnosis == 1)"
      ],
      "metadata": {
        "id": "sbDLrbwhBqOU",
        "colab": {
          "base_uri": "https://localhost:8080/",
          "height": 34
        },
        "outputId": "ea7a5fab-f632-46fc-f63a-7c6be6cf3a44"
      },
      "execution_count": 95,
      "outputs": [
        {
          "output_type": "display_data",
          "data": {
            "text/html": [
              "12"
            ],
            "text/markdown": "12",
            "text/latex": "12",
            "text/plain": [
              "[1] 12"
            ]
          },
          "metadata": {}
        }
      ]
    }
  ]
}