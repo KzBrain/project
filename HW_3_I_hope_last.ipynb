{
  "nbformat": 4,
  "nbformat_minor": 0,
  "metadata": {
    "colab": {
      "provenance": [],
      "authorship_tag": "ABX9TyPrnsx9tQ2cY6qj44x2unbf",
      "include_colab_link": true
    },
    "kernelspec": {
      "name": "ir",
      "display_name": "R"
    },
    "language_info": {
      "name": "R"
    }
  },
  "cells": [
    {
      "cell_type": "markdown",
      "metadata": {
        "id": "view-in-github",
        "colab_type": "text"
      },
      "source": [
        "<a href=\"https://colab.research.google.com/github/KzBrain/project/blob/main/HW_3_I_hope_last.ipynb\" target=\"_parent\"><img src=\"https://colab.research.google.com/assets/colab-badge.svg\" alt=\"Open In Colab\"/></a>"
      ]
    },
    {
      "cell_type": "code",
      "execution_count": 1,
      "metadata": {
        "colab": {
          "base_uri": "https://localhost:8080/"
        },
        "id": "-yqZoij4mONv",
        "outputId": "1fab2fc5-7612-4701-de6a-4b8a4b7d8af3"
      },
      "outputs": [
        {
          "output_type": "stream",
          "name": "stderr",
          "text": [
            "── \u001b[1mAttaching core tidyverse packages\u001b[22m ──────────────────────── tidyverse 2.0.0 ──\n",
            "\u001b[32m✔\u001b[39m \u001b[34mdplyr    \u001b[39m 1.1.4     \u001b[32m✔\u001b[39m \u001b[34mreadr    \u001b[39m 2.1.5\n",
            "\u001b[32m✔\u001b[39m \u001b[34mforcats  \u001b[39m 1.0.0     \u001b[32m✔\u001b[39m \u001b[34mstringr  \u001b[39m 1.5.1\n",
            "\u001b[32m✔\u001b[39m \u001b[34mggplot2  \u001b[39m 3.4.4     \u001b[32m✔\u001b[39m \u001b[34mtibble   \u001b[39m 3.2.1\n",
            "\u001b[32m✔\u001b[39m \u001b[34mlubridate\u001b[39m 1.9.3     \u001b[32m✔\u001b[39m \u001b[34mtidyr    \u001b[39m 1.3.1\n",
            "\u001b[32m✔\u001b[39m \u001b[34mpurrr    \u001b[39m 1.0.2     \n",
            "── \u001b[1mConflicts\u001b[22m ────────────────────────────────────────── tidyverse_conflicts() ──\n",
            "\u001b[31m✖\u001b[39m \u001b[34mdplyr\u001b[39m::\u001b[32mfilter()\u001b[39m masks \u001b[34mstats\u001b[39m::filter()\n",
            "\u001b[31m✖\u001b[39m \u001b[34mdplyr\u001b[39m::\u001b[32mlag()\u001b[39m    masks \u001b[34mstats\u001b[39m::lag()\n",
            "\u001b[36mℹ\u001b[39m Use the conflicted package (\u001b[3m\u001b[34m<http://conflicted.r-lib.org/>\u001b[39m\u001b[23m) to force all conflicts to become errors\n",
            "Loading required package: readxl\n",
            "\n",
            "Installing package into ‘/usr/local/lib/R/site-library’\n",
            "(as ‘lib’ is unspecified)\n",
            "\n"
          ]
        }
      ],
      "source": [
        "library(tidyverse)\n",
        "require(readxl)\n",
        "install.packages('skimr')\n",
        "library(skimr)"
      ]
    },
    {
      "cell_type": "code",
      "source": [
        "install.packages(\"lsr\")\n",
        "library(lsr)"
      ],
      "metadata": {
        "colab": {
          "base_uri": "https://localhost:8080/"
        },
        "id": "iPKaNa6iowNn",
        "outputId": "004d9902-34e1-4091-bd1b-d79b2c1546d2"
      },
      "execution_count": 10,
      "outputs": [
        {
          "output_type": "stream",
          "name": "stderr",
          "text": [
            "Installing package into ‘/usr/local/lib/R/site-library’\n",
            "(as ‘lib’ is unspecified)\n",
            "\n"
          ]
        }
      ]
    },
    {
      "cell_type": "code",
      "source": [
        "install.packages(\"effsize\")\n",
        "library(effsize)"
      ],
      "metadata": {
        "colab": {
          "base_uri": "https://localhost:8080/"
        },
        "id": "0lVEcmompAgd",
        "outputId": "675d7333-2607-4178-cfb5-fe5293ebe33f"
      },
      "execution_count": 13,
      "outputs": [
        {
          "output_type": "stream",
          "name": "stderr",
          "text": [
            "Installing package into ‘/usr/local/lib/R/site-library’\n",
            "(as ‘lib’ is unspecified)\n",
            "\n"
          ]
        }
      ]
    },
    {
      "cell_type": "code",
      "source": [
        "install.packages(\"psych\")\n",
        "library(psych)"
      ],
      "metadata": {
        "colab": {
          "base_uri": "https://localhost:8080/"
        },
        "id": "o7LCxDPepXYK",
        "outputId": "e95d77b1-8c16-4c96-dbb7-5e5343a1afe0"
      },
      "execution_count": 18,
      "outputs": [
        {
          "output_type": "stream",
          "name": "stderr",
          "text": [
            "Installing package into ‘/usr/local/lib/R/site-library’\n",
            "(as ‘lib’ is unspecified)\n",
            "\n",
            "also installing the dependency ‘mnormt’\n",
            "\n",
            "\n",
            "\n",
            "Attaching package: ‘psych’\n",
            "\n",
            "\n",
            "The following object is masked from ‘package:effsize’:\n",
            "\n",
            "    cohen.d\n",
            "\n",
            "\n",
            "The following objects are masked from ‘package:ggplot2’:\n",
            "\n",
            "    %+%, alpha\n",
            "\n",
            "\n"
          ]
        }
      ]
    },
    {
      "cell_type": "code",
      "source": [
        "meta <- read_xlsx(\"/content/sample_data/metadata.xlsx\",sheet = 1)\n",
        "hdl <- read_tsv(\"/content/sample_data/high_density_lipids.tsv\")\n",
        "ldl <- read_tsv(\"/content/sample_data/low_density_lipids.tsv\")"
      ],
      "metadata": {
        "colab": {
          "base_uri": "https://localhost:8080/"
        },
        "id": "7yCwwtTfmZfl",
        "outputId": "26995189-56ca-4c42-a4ba-c393c86db17b"
      },
      "execution_count": 2,
      "outputs": [
        {
          "output_type": "stream",
          "name": "stderr",
          "text": [
            "\u001b[1mRows: \u001b[22m\u001b[34m27\u001b[39m \u001b[1mColumns: \u001b[22m\u001b[34m38\u001b[39m\n",
            "\u001b[36m──\u001b[39m \u001b[1mColumn specification\u001b[22m \u001b[36m────────────────────────────────────────────────────────\u001b[39m\n",
            "\u001b[1mDelimiter:\u001b[22m \"\\t\"\n",
            "\u001b[31mchr\u001b[39m  (1): Name\n",
            "\u001b[32mdbl\u001b[39m (37): Vial.number, Patient.number, GPHDL1, GPHDL2, GPHDL3, GPHDL4, GPHDL...\n",
            "\n",
            "\u001b[36mℹ\u001b[39m Use `spec()` to retrieve the full column specification for this data.\n",
            "\u001b[36mℹ\u001b[39m Specify the column types or set `show_col_types = FALSE` to quiet this message.\n",
            "\u001b[1mRows: \u001b[22m\u001b[34m29\u001b[39m \u001b[1mColumns: \u001b[22m\u001b[34m38\u001b[39m\n",
            "\u001b[36m──\u001b[39m \u001b[1mColumn specification\u001b[22m \u001b[36m────────────────────────────────────────────────────────\u001b[39m\n",
            "\u001b[1mDelimiter:\u001b[22m \"\\t\"\n",
            "\u001b[31mchr\u001b[39m  (1): Name\n",
            "\u001b[32mdbl\u001b[39m (37): Vial.number, Patient.number, GPLDL1, GPLDL2, GPLDL3, GPLDL4, GPLDL...\n",
            "\n",
            "\u001b[36mℹ\u001b[39m Use `spec()` to retrieve the full column specification for this data.\n",
            "\u001b[36mℹ\u001b[39m Specify the column types or set `show_col_types = FALSE` to quiet this message.\n"
          ]
        }
      ]
    },
    {
      "cell_type": "code",
      "source": [
        "library(ggplot2)"
      ],
      "metadata": {
        "id": "DT6lbC9zm8cb"
      },
      "execution_count": 3,
      "outputs": []
    },
    {
      "cell_type": "code",
      "source": [
        "ggplot(meta,aes(BMI)) +\n",
        "  geom_histogram(color = 'black',fill = 'red') +\n",
        "  ggtitle('BMI log')+\n",
        "  scale_x_log10('Logarithm BMI') +\n",
        "  scale_y_continuous('Distribution') +\n",
        "  theme_minimal()"
      ],
      "metadata": {
        "colab": {
          "base_uri": "https://localhost:8080/",
          "height": 455
        },
        "id": "AZs5SQuxn_1l",
        "outputId": "f57b9607-7729-413a-fddd-352555590ff9"
      },
      "execution_count": 4,
      "outputs": [
        {
          "output_type": "stream",
          "name": "stderr",
          "text": [
            "\u001b[1m\u001b[22m`stat_bin()` using `bins = 30`. Pick better value with `binwidth`.\n"
          ]
        },
        {
          "output_type": "display_data",
          "data": {
            "text/plain": [
              "plot without title"
            ],
            "image/png": "[encoded data removed]"
          },
          "metadata": {
            "image/png": {
              "width": 420,
              "height": 420
            }
          }
        }
      ]
    },
    {
      "cell_type": "code",
      "source": [
        "ggplot(meta,aes(`Plasma volume`)) +\n",
        "  geom_histogram(color = 'black',fill = 'red') +\n",
        "  ggtitle('Systole pressure')+\n",
        "  scale_alpha_continuous('Logarithm Plasma volume') +\n",
        "  scale_y_continuous('Distribution') +\n",
        "  theme_minimal()"
      ],
      "metadata": {
        "colab": {
          "base_uri": "https://localhost:8080/",
          "height": 455
        },
        "id": "n5Wbi3zCoCSG",
        "outputId": "f6a91d6c-49a9-4e11-cc9f-c5be149c50f4"
      },
      "execution_count": 5,
      "outputs": [
        {
          "output_type": "stream",
          "name": "stderr",
          "text": [
            "\u001b[1m\u001b[22m`stat_bin()` using `bins = 30`. Pick better value with `binwidth`.\n"
          ]
        },
        {
          "output_type": "display_data",
          "data": {
            "text/plain": [
              "plot without title"
            ],
            "image/png": "[encoded data removed]"
          },
          "metadata": {
            "image/png": {
              "width": 420,
              "height": 420
            }
          }
        }
      ]
    },
    {
      "cell_type": "code",
      "source": [
        "meta%>%\n",
        "  mutate(norm_bmi = log10(BMI)) %>%\n",
        "  t.test(norm_bmi ~ HT, data = .)"
      ],
      "metadata": {
        "colab": {
          "base_uri": "https://localhost:8080/",
          "height": 217
        },
        "id": "VFNC8hMaoEZ_",
        "outputId": "9e547b2a-403d-43dd-f448-06bc5b0bcfc2"
      },
      "execution_count": 6,
      "outputs": [
        {
          "output_type": "display_data",
          "data": {
            "text/plain": [
              "\n",
              "\tWelch Two Sample t-test\n",
              "\n",
              "data:  norm_bmi by HT\n",
              "t = -2.8965, df = 35.016, p-value = 0.006465\n",
              "alternative hypothesis: true difference in means between group 0 and group 1 is not equal to 0\n",
              "95 percent confidence interval:\n",
              " -0.11568971 -0.02034516\n",
              "sample estimates:\n",
              "mean in group 0 mean in group 1 \n",
              "       1.391441        1.459458 \n"
            ]
          },
          "metadata": {}
        }
      ]
    },
    {
      "cell_type": "code",
      "source": [
        "meta %>%\n",
        "  mutate(norm_bmi = log10(BMI)) %>%\n",
        "  lsr::cohensD(data = .,formula = norm_bmi ~ HT)\n",
        "#размер эффекта большая"
      ],
      "metadata": {
        "colab": {
          "base_uri": "https://localhost:8080/",
          "height": 34
        },
        "id": "BzoQlfKMoGeB",
        "outputId": "98774a0f-55d4-41a0-e715-09d08e27baec"
      },
      "execution_count": 11,
      "outputs": [
        {
          "output_type": "display_data",
          "data": {
            "text/html": [
              "0.907525778311791"
            ],
            "text/markdown": "0.907525778311791",
            "text/latex": "0.907525778311791",
            "text/plain": [
              "[1] 0.9075258"
            ]
          },
          "metadata": {}
        }
      ]
    },
    {
      "cell_type": "code",
      "source": [
        "meta %>%\n",
        "  mutate(norm_bmi = log10(BMI)) %>%\n",
        "  effsize::cohen.d(formula = norm_bmi ~ HT, data = .)"
      ],
      "metadata": {
        "colab": {
          "base_uri": "https://localhost:8080/",
          "height": 180
        },
        "id": "vcQv-rzjoII1",
        "outputId": "05243084-01b7-47b3-fb48-69abff7dad1f"
      },
      "execution_count": 14,
      "outputs": [
        {
          "output_type": "stream",
          "name": "stderr",
          "text": [
            "Warning message in cohen.d.formula(formula = norm_bmi ~ HT, data = .):\n",
            "“Cohercing rhs of formula to factor”\n"
          ]
        },
        {
          "output_type": "display_data",
          "data": {
            "text/plain": [
              "\n",
              "Cohen's d\n",
              "\n",
              "d estimate: -0.9075258 (large)\n",
              "95 percent confidence interval:\n",
              "     lower      upper \n",
              "-1.6129463 -0.2021052 \n"
            ]
          },
          "metadata": {}
        }
      ]
    },
    {
      "cell_type": "code",
      "source": [
        "ggplot(meta,aes(AI)) +\n",
        "  geom_histogram(color = 'black',fill = 'red') +\n",
        "  geom_density(color = 'blue') +\n",
        "  ggtitle('AI')+\n",
        "  scale_x_log10('Logarithm AI') +\n",
        "  scale_y_continuous(name = 'Frequency') +\n",
        "  theme_minimal()\n",
        "  #facet_grid(rows = var())"
      ],
      "metadata": {
        "colab": {
          "base_uri": "https://localhost:8080/",
          "height": 455
        },
        "id": "ozV46IhRo4Qp",
        "outputId": "bf03bb83-51d0-4ae3-ff59-297e5df7cf2f"
      },
      "execution_count": 15,
      "outputs": [
        {
          "output_type": "stream",
          "name": "stderr",
          "text": [
            "\u001b[1m\u001b[22m`stat_bin()` using `bins = 30`. Pick better value with `binwidth`.\n"
          ]
        },
        {
          "output_type": "display_data",
          "data": {
            "text/plain": [
              "plot without title"
            ],
            "image/png": "[encoded data removed]"
          },
          "metadata": {
            "image/png": {
              "width": 420,
              "height": 420
            }
          }
        }
      ]
    },
    {
      "cell_type": "code",
      "source": [
        "ggplot(meta,aes(Tgi...26)) +\n",
        "  geom_histogram(color = 'black',fill = 'red') +\n",
        "  geom_density(color = 'blue') +\n",
        "  ggtitle('Systole pressure')+\n",
        "  #scale_x_log10('Logarithm systole pressure') +\n",
        "  scale_y_continuous('Distribution') +\n",
        "  theme_minimal()"
      ],
      "metadata": {
        "colab": {
          "base_uri": "https://localhost:8080/",
          "height": 455
        },
        "id": "etkGs-JbpHGG",
        "outputId": "8ff34029-b21c-45cb-ee79-cbd5eaaf5207"
      },
      "execution_count": 16,
      "outputs": [
        {
          "output_type": "stream",
          "name": "stderr",
          "text": [
            "\u001b[1m\u001b[22m`stat_bin()` using `bins = 30`. Pick better value with `binwidth`.\n"
          ]
        },
        {
          "output_type": "display_data",
          "data": {
            "text/plain": [
              "plot without title"
            ],
            "image/png": "[encoded data removed]"
          },
          "metadata": {
            "image/png": {
              "width": 420,
              "height": 420
            }
          }
        }
      ]
    },
    {
      "cell_type": "code",
      "source": [
        "meta %>%\n",
        "  mutate(Sys = if_else(abs(Sys) > 160,NA,Sys)) %>%\n",
        "  dplyr::select(AI,Sys) %>%\n",
        "  drop_na() %>%\n",
        "  corr.test()"
      ],
      "metadata": {
        "colab": {
          "base_uri": "https://localhost:8080/",
          "height": 253
        },
        "id": "5Gjm9J1ApKhC",
        "outputId": "e3a28c82-df77-4219-e860-d21a8ce0275a"
      },
      "execution_count": 19,
      "outputs": [
        {
          "output_type": "display_data",
          "data": {
            "text/plain": [
              "Call:corr.test(x = .)\n",
              "Correlation matrix \n",
              "       AI   Sys\n",
              "AI   1.00 -0.02\n",
              "Sys -0.02  1.00\n",
              "Sample Size \n",
              "[1] 36\n",
              "Probability values (Entries above the diagonal are adjusted for multiple tests.) \n",
              "      AI  Sys\n",
              "AI  0.00 0.89\n",
              "Sys 0.89 0.00\n",
              "\n",
              " To see confidence intervals of the correlations, print with the short=FALSE option"
            ]
          },
          "metadata": {}
        }
      ]
    },
    {
      "cell_type": "code",
      "source": [
        "spair <- meta %>% drop_na %>%\n",
        "  dplyr::select(A_H,HT) %>%\n",
        "  table()\n",
        "mosaicplot(spair)"
      ],
      "metadata": {
        "colab": {
          "base_uri": "https://localhost:8080/",
          "height": 437
        },
        "id": "0MmKFoWQpbl7",
        "outputId": "1da420b2-5499-477e-e501-4ca0a72d1e12"
      },
      "execution_count": 20,
      "outputs": [
        {
          "output_type": "display_data",
          "data": {
            "text/plain": [
              "Plot with title “spair”"
            ],
            "image/png": "[encoded data removed]"
          },
          "metadata": {
            "image/png": {
              "width": 420,
              "height": 420
            }
          }
        }
      ]
    },
    {
      "cell_type": "code",
      "source": [
        "meta %>% drop_na() %>%\n",
        "  dplyr::select(A_H,HT) %>%\n",
        "  table() %>%\n",
        "  addmargins()"
      ],
      "metadata": {
        "colab": {
          "base_uri": "https://localhost:8080/",
          "height": 178
        },
        "id": "4_1XIiOYpoAd",
        "outputId": "17cd7e3b-c763-4430-a172-7ccaf89b1032"
      },
      "execution_count": 21,
      "outputs": [
        {
          "output_type": "display_data",
          "data": {
            "text/html": [
              "<table class=\"dataframe\">\n",
              "<caption>A table: 3 × 3 of type dbl</caption>\n",
              "<thead>\n",
              "\t<tr><th></th><th scope=col>0</th><th scope=col>1</th><th scope=col>Sum</th></tr>\n",
              "</thead>\n",
              "<tbody>\n",
              "\t<tr><th scope=row>0</th><td>7</td><td> 9</td><td>16</td></tr>\n",
              "\t<tr><th scope=row>1</th><td>2</td><td> 9</td><td>11</td></tr>\n",
              "\t<tr><th scope=row>Sum</th><td>9</td><td>18</td><td>27</td></tr>\n",
              "</tbody>\n",
              "</table>\n"
            ],
            "text/markdown": "\nA table: 3 × 3 of type dbl\n\n| <!--/--> | 0 | 1 | Sum |\n|---|---|---|---|\n| 0 | 7 |  9 | 16 |\n| 1 | 2 |  9 | 11 |\n| Sum | 9 | 18 | 27 |\n\n",
            "text/latex": "A table: 3 × 3 of type dbl\n\\begin{tabular}{r|lll}\n  & 0 & 1 & Sum\\\\\n\\hline\n\t0 & 7 &  9 & 16\\\\\n\t1 & 2 &  9 & 11\\\\\n\tSum & 9 & 18 & 27\\\\\n\\end{tabular}\n",
            "text/plain": [
              "     HT\n",
              "A_H   0 1  Sum\n",
              "  0   7  9 16 \n",
              "  1   2  9 11 \n",
              "  Sum 9 18 27 "
            ]
          },
          "metadata": {}
        }
      ]
    },
    {
      "cell_type": "code",
      "source": [
        "spair2 <- meta %>% drop_na %>%\n",
        "  dplyr::select(LVH,HT) %>%\n",
        "  table()\n",
        "\n",
        "mosaicplot(spair)"
      ],
      "metadata": {
        "colab": {
          "base_uri": "https://localhost:8080/",
          "height": 437
        },
        "id": "B1N2Bj-wpq7n",
        "outputId": "e57906d1-e0f1-45d8-ed7e-ccb9219f5159"
      },
      "execution_count": 22,
      "outputs": [
        {
          "output_type": "display_data",
          "data": {
            "text/plain": [
              "Plot with title “spair”"
            ],
            "image/png": "[encoded data removed]"
          },
          "metadata": {
            "image/png": {
              "width": 420,
              "height": 420
            }
          }
        }
      ]
    },
    {
      "cell_type": "code",
      "source": [
        "wilcox.test(spair,exact = FALSE,paired = FALSE)"
      ],
      "metadata": {
        "colab": {
          "base_uri": "https://localhost:8080/",
          "height": 126
        },
        "id": "v-xcmdHJptCh",
        "outputId": "5e5a99a6-dd43-47ec-bdc0-e7e7175de9f6"
      },
      "execution_count": 23,
      "outputs": [
        {
          "output_type": "display_data",
          "data": {
            "text/plain": [
              "\n",
              "\tWilcoxon signed rank test with continuity correction\n",
              "\n",
              "data:  spair\n",
              "V = 10, p-value = 0.09751\n",
              "alternative hypothesis: true location is not equal to 0\n"
            ]
          },
          "metadata": {}
        }
      ]
    },
    {
      "cell_type": "code",
      "source": [
        "fisher.test(spair)"
      ],
      "metadata": {
        "colab": {
          "base_uri": "https://localhost:8080/",
          "height": 217
        },
        "id": "p0n5frBppv3W",
        "outputId": "ae616386-991f-4fcd-f345-4430d71057a3"
      },
      "execution_count": 24,
      "outputs": [
        {
          "output_type": "display_data",
          "data": {
            "text/plain": [
              "\n",
              "\tFisher's Exact Test for Count Data\n",
              "\n",
              "data:  spair\n",
              "p-value = 0.2311\n",
              "alternative hypothesis: true odds ratio is not equal to 1\n",
              "95 percent confidence interval:\n",
              "  0.4551299 41.6630918\n",
              "sample estimates:\n",
              "odds ratio \n",
              "  3.343837 \n"
            ]
          },
          "metadata": {}
        }
      ]
    },
    {
      "cell_type": "code",
      "source": [
        "fisher.test(spair2)"
      ],
      "metadata": {
        "colab": {
          "base_uri": "https://localhost:8080/",
          "height": 217
        },
        "id": "qZuLGOUFpx9n",
        "outputId": "985f56bd-4c19-41d6-ed4e-dca63266622f"
      },
      "execution_count": 25,
      "outputs": [
        {
          "output_type": "display_data",
          "data": {
            "text/plain": [
              "\n",
              "\tFisher's Exact Test for Count Data\n",
              "\n",
              "data:  spair2\n",
              "p-value = 0.04167\n",
              "alternative hypothesis: true odds ratio is not equal to 1\n",
              "95 percent confidence interval:\n",
              "   0.9093932 485.5948984\n",
              "sample estimates:\n",
              "odds ratio \n",
              "  9.214734 \n"
            ]
          },
          "metadata": {}
        }
      ]
    }
  ]
}