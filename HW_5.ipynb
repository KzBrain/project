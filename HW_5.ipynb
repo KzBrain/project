{
  "nbformat": 4,
  "nbformat_minor": 0,
  "metadata": {
    "colab": {
      "provenance": [],
      "authorship_tag": "ABX9TyOmYXETqlA5uyij6QVCkiAt",
      "include_colab_link": true
    },
    "kernelspec": {
      "name": "ir",
      "display_name": "R"
    },
    "language_info": {
      "name": "R"
    }
  },
  "cells": [
    {
      "cell_type": "markdown",
      "metadata": {
        "id": "view-in-github",
        "colab_type": "text"
      },
      "source": [
        "<a href=\"https://colab.research.google.com/github/KzBrain/project/blob/main/HW_5.ipynb\" target=\"_parent\"><img src=\"https://colab.research.google.com/assets/colab-badge.svg\" alt=\"Open In Colab\"/></a>"
      ]
    },
    {
      "cell_type": "code",
      "execution_count": 1,
      "metadata": {
        "colab": {
          "base_uri": "https://localhost:8080/"
        },
        "id": "a4xBEgOAOGeg",
        "outputId": "738de8bd-f2e2-4f09-f606-94943c793a9a"
      },
      "outputs": [
        {
          "output_type": "stream",
          "name": "stderr",
          "text": [
            "── \u001b[1mAttaching core tidyverse packages\u001b[22m ──────────────────────── tidyverse 2.0.0 ──\n",
            "\u001b[32m✔\u001b[39m \u001b[34mdplyr    \u001b[39m 1.1.4     \u001b[32m✔\u001b[39m \u001b[34mreadr    \u001b[39m 2.1.5\n",
            "\u001b[32m✔\u001b[39m \u001b[34mforcats  \u001b[39m 1.0.0     \u001b[32m✔\u001b[39m \u001b[34mstringr  \u001b[39m 1.5.1\n",
            "\u001b[32m✔\u001b[39m \u001b[34mggplot2  \u001b[39m 3.4.4     \u001b[32m✔\u001b[39m \u001b[34mtibble   \u001b[39m 3.2.1\n",
            "\u001b[32m✔\u001b[39m \u001b[34mlubridate\u001b[39m 1.9.3     \u001b[32m✔\u001b[39m \u001b[34mtidyr    \u001b[39m 1.3.1\n",
            "\u001b[32m✔\u001b[39m \u001b[34mpurrr    \u001b[39m 1.0.2     \n",
            "── \u001b[1mConflicts\u001b[22m ────────────────────────────────────────── tidyverse_conflicts() ──\n",
            "\u001b[31m✖\u001b[39m \u001b[34mdplyr\u001b[39m::\u001b[32mfilter()\u001b[39m masks \u001b[34mstats\u001b[39m::filter()\n",
            "\u001b[31m✖\u001b[39m \u001b[34mdplyr\u001b[39m::\u001b[32mlag()\u001b[39m    masks \u001b[34mstats\u001b[39m::lag()\n",
            "\u001b[36mℹ\u001b[39m Use the conflicted package (\u001b[3m\u001b[34m<http://conflicted.r-lib.org/>\u001b[39m\u001b[23m) to force all conflicts to become errors\n",
            "Loading required package: readxl\n",
            "\n",
            "Installing package into ‘/usr/local/lib/R/site-library’\n",
            "(as ‘lib’ is unspecified)\n",
            "\n"
          ]
        }
      ],
      "source": [
        "library(tidyverse)\n",
        "require(readxl)\n",
        "install.packages('skimr')\n",
        "library(skimr)"
      ]
    },
    {
      "cell_type": "code",
      "source": [
        "meta <- read_xlsx(\"/content/sample_data/metadata.xlsx\",sheet = 1)\n",
        "hdl <- read_tsv(\"/content/sample_data/high_density_lipids.tsv\")\n",
        "ldl <- read_tsv(\"/content/sample_data/low_density_lipids.tsv\")"
      ],
      "metadata": {
        "colab": {
          "base_uri": "https://localhost:8080/"
        },
        "id": "Vb9YIpv7OMQ1",
        "outputId": "a949b889-82e7-4eaa-9c32-111adc41ba83"
      },
      "execution_count": 10,
      "outputs": [
        {
          "output_type": "stream",
          "name": "stderr",
          "text": [
            "\u001b[1mRows: \u001b[22m\u001b[34m27\u001b[39m \u001b[1mColumns: \u001b[22m\u001b[34m38\u001b[39m\n",
            "\u001b[36m──\u001b[39m \u001b[1mColumn specification\u001b[22m \u001b[36m────────────────────────────────────────────────────────\u001b[39m\n",
            "\u001b[1mDelimiter:\u001b[22m \"\\t\"\n",
            "\u001b[31mchr\u001b[39m  (1): Name\n",
            "\u001b[32mdbl\u001b[39m (37): Vial.number, Patient.number, GPHDL1, GPHDL2, GPHDL3, GPHDL4, GPHDL...\n",
            "\n",
            "\u001b[36mℹ\u001b[39m Use `spec()` to retrieve the full column specification for this data.\n",
            "\u001b[36mℹ\u001b[39m Specify the column types or set `show_col_types = FALSE` to quiet this message.\n",
            "\u001b[1mRows: \u001b[22m\u001b[34m29\u001b[39m \u001b[1mColumns: \u001b[22m\u001b[34m38\u001b[39m\n",
            "\u001b[36m──\u001b[39m \u001b[1mColumn specification\u001b[22m \u001b[36m────────────────────────────────────────────────────────\u001b[39m\n",
            "\u001b[1mDelimiter:\u001b[22m \"\\t\"\n",
            "\u001b[31mchr\u001b[39m  (1): Name\n",
            "\u001b[32mdbl\u001b[39m (37): Vial.number, Patient.number, GPLDL1, GPLDL2, GPLDL3, GPLDL4, GPLDL...\n",
            "\n",
            "\u001b[36mℹ\u001b[39m Use `spec()` to retrieve the full column specification for this data.\n",
            "\u001b[36mℹ\u001b[39m Specify the column types or set `show_col_types = FALSE` to quiet this message.\n"
          ]
        }
      ]
    },
    {
      "cell_type": "code",
      "source": [
        "install.packages(\"boot\")\n",
        "library(\"boot\")"
      ],
      "metadata": {
        "colab": {
          "base_uri": "https://localhost:8080/"
        },
        "id": "QAcp5Rr0OkJj",
        "outputId": "1e7b7acb-67d3-42ff-d193-21f10095de6e"
      },
      "execution_count": 4,
      "outputs": [
        {
          "output_type": "stream",
          "name": "stderr",
          "text": [
            "Installing package into ‘/usr/local/lib/R/site-library’\n",
            "(as ‘lib’ is unspecified)\n",
            "\n"
          ]
        }
      ]
    },
    {
      "cell_type": "code",
      "source": [
        "install.packages(\"bootstrap\")\n",
        "library(\"bootstrap\")"
      ],
      "metadata": {
        "colab": {
          "base_uri": "https://localhost:8080/"
        },
        "id": "IbtzB8hlUMpM",
        "outputId": "555bf0af-6f45-429d-b00d-aa81f011dff3"
      },
      "execution_count": 6,
      "outputs": [
        {
          "output_type": "stream",
          "name": "stderr",
          "text": [
            "Installing package into ‘/usr/local/lib/R/site-library’\n",
            "(as ‘lib’ is unspecified)\n",
            "\n"
          ]
        }
      ]
    },
    {
      "cell_type": "code",
      "source": [
        "install.packages(\"coin\")\n",
        "library(\"coin\")"
      ],
      "metadata": {
        "colab": {
          "base_uri": "https://localhost:8080/"
        },
        "id": "x7Mp88zPUWRt",
        "outputId": "58f3de22-0c83-4e7e-b58f-b1cd6100cbc9"
      },
      "execution_count": 7,
      "outputs": [
        {
          "output_type": "stream",
          "name": "stderr",
          "text": [
            "Installing package into ‘/usr/local/lib/R/site-library’\n",
            "(as ‘lib’ is unspecified)\n",
            "\n",
            "also installing the dependencies ‘zoo’, ‘TH.data’, ‘sandwich’, ‘libcoin’, ‘matrixStats’, ‘modeltools’, ‘mvtnorm’, ‘multcomp’\n",
            "\n",
            "\n",
            "Loading required package: survival\n",
            "\n",
            "\n",
            "Attaching package: ‘survival’\n",
            "\n",
            "\n",
            "The following object is masked from ‘package:boot’:\n",
            "\n",
            "    aml\n",
            "\n",
            "\n"
          ]
        }
      ]
    },
    {
      "cell_type": "code",
      "source": [
        "my_func <- function(x,i){return(sum(x[i]/length(x[i])))}"
      ],
      "metadata": {
        "id": "UbHNAX8jUkZx"
      },
      "execution_count": 11,
      "outputs": []
    },
    {
      "cell_type": "code",
      "source": [
        "result <- boot(meta$HDLi...31,my_func,R = 999)\n",
        "print(result)"
      ],
      "metadata": {
        "colab": {
          "base_uri": "https://localhost:8080/"
        },
        "id": "PkBrdtRbV7bW",
        "outputId": "9a638ab1-8eda-4340-cb7a-14baaeaa85cb"
      },
      "execution_count": 30,
      "outputs": [
        {
          "output_type": "stream",
          "name": "stdout",
          "text": [
            "\n",
            "ORDINARY NONPARAMETRIC BOOTSTRAP\n",
            "\n",
            "\n",
            "Call:\n",
            "boot(data = meta$HDLi...31, statistic = my_func, R = 999)\n",
            "\n",
            "\n",
            "Bootstrap Statistics :\n",
            "    original       bias    std. error\n",
            "t1* 1.657143 -0.002794045  0.06616403\n"
          ]
        }
      ]
    },
    {
      "cell_type": "code",
      "source": [
        "plot(result)\n",
        "quantile(meta$HDLi...31,c(0.025,0.975))"
      ],
      "metadata": {
        "colab": {
          "base_uri": "https://localhost:8080/",
          "height": 454
        },
        "id": "aKWRftBAXm0z",
        "outputId": "b1b1e94a-651f-4455-d702-f352af0671bb"
      },
      "execution_count": 15,
      "outputs": [
        {
          "output_type": "display_data",
          "data": {
            "text/html": [
              "<style>\n",
              ".dl-inline {width: auto; margin:0; padding: 0}\n",
              ".dl-inline>dt, .dl-inline>dd {float: none; width: auto; display: inline-block}\n",
              ".dl-inline>dt::after {content: \":\\0020\"; padding-right: .5ex}\n",
              ".dl-inline>dt:not(:first-of-type) {padding-left: .5ex}\n",
              "</style><dl class=dl-inline><dt>2.5%</dt><dd>1.10831168831169</dd><dt>97.5%</dt><dd>2.58896103896104</dd></dl>\n"
            ],
            "text/markdown": "2.5%\n:   1.1083116883116997.5%\n:   2.58896103896104\n\n",
            "text/latex": "\\begin{description*}\n\\item[2.5\\textbackslash{}\\%] 1.10831168831169\n\\item[97.5\\textbackslash{}\\%] 2.58896103896104\n\\end{description*}\n",
            "text/plain": [
              "    2.5%    97.5% \n",
              "1.108312 2.588961 "
            ]
          },
          "metadata": {}
        },
        {
          "output_type": "display_data",
          "data": {
            "text/plain": [
              "Plot with title “Histogram of t”"
            ],
            "image/png": "[encoded data removed]"
          },
          "metadata": {
            "image/png": {
              "width": 420,
              "height": 420
            }
          }
        }
      ]
    },
    {
      "cell_type": "code",
      "source": [
        "mean(meta$HDLi...31)"
      ],
      "metadata": {
        "colab": {
          "base_uri": "https://localhost:8080/",
          "height": 34
        },
        "id": "mQddC069aVCv",
        "outputId": "36293bea-ebd7-43cb-cc21-22b72933f072"
      },
      "execution_count": 28,
      "outputs": [
        {
          "output_type": "display_data",
          "data": {
            "text/html": [
              "1.65714285714286"
            ],
            "text/markdown": "1.65714285714286",
            "text/latex": "1.65714285714286",
            "text/plain": [
              "[1] 1.657143"
            ]
          },
          "metadata": {}
        }
      ]
    },
    {
      "cell_type": "markdown",
      "source": [
        "Среднее значение при Bootstrap и и среднее значение самого признака не отличается значительно"
      ],
      "metadata": {
        "id": "NfXAHha1g74M"
      }
    },
    {
      "cell_type": "code",
      "source": [
        "result2 <- boot(meta$Tgi...26,my_func,R = 999)\n",
        "print(result2)"
      ],
      "metadata": {
        "colab": {
          "base_uri": "https://localhost:8080/"
        },
        "id": "gzpZm7_GZ7Ll",
        "outputId": "cceac650-56a5-4ef0-9005-dc6966591e6d"
      },
      "execution_count": 31,
      "outputs": [
        {
          "output_type": "stream",
          "name": "stdout",
          "text": [
            "\n",
            "ORDINARY NONPARAMETRIC BOOTSTRAP\n",
            "\n",
            "\n",
            "Call:\n",
            "boot(data = meta$Tgi...26, statistic = my_func, R = 999)\n",
            "\n",
            "\n",
            "Bootstrap Statistics :\n",
            "    original     bias    std. error\n",
            "t1* 123.3947 0.08210842    10.05548\n"
          ]
        }
      ]
    },
    {
      "cell_type": "code",
      "source": [
        "plot(result2)\n",
        "quantile(meta$Tgi...26,c(0.025,0.975))"
      ],
      "metadata": {
        "colab": {
          "base_uri": "https://localhost:8080/",
          "height": 454
        },
        "id": "nF7SZrt-ed1N",
        "outputId": "8d5404eb-3a37-46ae-e972-9aec9d252c47"
      },
      "execution_count": 32,
      "outputs": [
        {
          "output_type": "display_data",
          "data": {
            "text/html": [
              "<style>\n",
              ".dl-inline {width: auto; margin:0; padding: 0}\n",
              ".dl-inline>dt, .dl-inline>dd {float: none; width: auto; display: inline-block}\n",
              ".dl-inline>dt::after {content: \":\\0020\"; padding-right: .5ex}\n",
              ".dl-inline>dt:not(:first-of-type) {padding-left: .5ex}\n",
              "</style><dl class=dl-inline><dt>2.5%</dt><dd>48.875</dd><dt>97.5%</dt><dd>307.75</dd></dl>\n"
            ],
            "text/markdown": "2.5%\n:   48.87597.5%\n:   307.75\n\n",
            "text/latex": "\\begin{description*}\n\\item[2.5\\textbackslash{}\\%] 48.875\n\\item[97.5\\textbackslash{}\\%] 307.75\n\\end{description*}\n",
            "text/plain": [
              "   2.5%   97.5% \n",
              " 48.875 307.750 "
            ]
          },
          "metadata": {}
        },
        {
          "output_type": "display_data",
          "data": {
            "text/plain": [
              "Plot with title “Histogram of t”"
            ],
            "image/png": "[encoded data removed]"
          },
          "metadata": {
            "image/png": {
              "width": 420,
              "height": 420
            }
          }
        }
      ]
    },
    {
      "cell_type": "code",
      "source": [
        "mean(meta$Tgi...26)"
      ],
      "metadata": {
        "colab": {
          "base_uri": "https://localhost:8080/",
          "height": 34
        },
        "id": "HOTWVdh9ac2l",
        "outputId": "43118fd4-a6c3-493f-b59b-b5fc72465b48"
      },
      "execution_count": 29,
      "outputs": [
        {
          "output_type": "display_data",
          "data": {
            "text/html": [
              "123.394736842105"
            ],
            "text/markdown": "123.394736842105",
            "text/latex": "123.394736842105",
            "text/plain": [
              "[1] 123.3947"
            ]
          },
          "metadata": {}
        }
      ]
    },
    {
      "cell_type": "code",
      "source": [
        "result3 <- boot(meta$LVH,my_func,R = 9999)\n",
        "print(result3)"
      ],
      "metadata": {
        "colab": {
          "base_uri": "https://localhost:8080/"
        },
        "id": "FEeTVMPyeq2W",
        "outputId": "54720f27-c209-418c-a357-eca9da5cf0ab"
      },
      "execution_count": 64,
      "outputs": [
        {
          "output_type": "stream",
          "name": "stdout",
          "text": [
            "\n",
            "ORDINARY NONPARAMETRIC BOOTSTRAP\n",
            "\n",
            "\n",
            "Call:\n",
            "boot(data = meta$LVH, statistic = my_func, R = 9999)\n",
            "\n",
            "\n",
            "Bootstrap Statistics :\n",
            "     original        bias    std. error\n",
            "t1* 0.3684211 -0.0004368858  0.07834196\n"
          ]
        }
      ]
    },
    {
      "cell_type": "code",
      "source": [
        "mean(meta$LVH)"
      ],
      "metadata": {
        "colab": {
          "base_uri": "https://localhost:8080/",
          "height": 34
        },
        "id": "73jQY8Rge0ve",
        "outputId": "bc79cd04-4dfa-4a65-9a59-cce432b83eee"
      },
      "execution_count": 65,
      "outputs": [
        {
          "output_type": "display_data",
          "data": {
            "text/html": [
              "0.368421052631579"
            ],
            "text/markdown": "0.368421052631579",
            "text/latex": "0.368421052631579",
            "text/plain": [
              "[1] 0.3684211"
            ]
          },
          "metadata": {}
        }
      ]
    },
    {
      "cell_type": "code",
      "source": [
        "plot(result3)\n",
        "quantile(meta$LVH,c(0.025,0.975))"
      ],
      "metadata": {
        "colab": {
          "base_uri": "https://localhost:8080/",
          "height": 454
        },
        "id": "EMmJnFZEe6FV",
        "outputId": "cea10273-43ce-4bf0-f102-6cb5cb4bb150"
      },
      "execution_count": 66,
      "outputs": [
        {
          "output_type": "display_data",
          "data": {
            "text/html": [
              "<style>\n",
              ".dl-inline {width: auto; margin:0; padding: 0}\n",
              ".dl-inline>dt, .dl-inline>dd {float: none; width: auto; display: inline-block}\n",
              ".dl-inline>dt::after {content: \":\\0020\"; padding-right: .5ex}\n",
              ".dl-inline>dt:not(:first-of-type) {padding-left: .5ex}\n",
              "</style><dl class=dl-inline><dt>2.5%</dt><dd>0</dd><dt>97.5%</dt><dd>1</dd></dl>\n"
            ],
            "text/markdown": "2.5%\n:   097.5%\n:   1\n\n",
            "text/latex": "\\begin{description*}\n\\item[2.5\\textbackslash{}\\%] 0\n\\item[97.5\\textbackslash{}\\%] 1\n\\end{description*}\n",
            "text/plain": [
              " 2.5% 97.5% \n",
              "    0     1 "
            ]
          },
          "metadata": {}
        },
        {
          "output_type": "display_data",
          "data": {
            "text/plain": [
              "Plot with title “Histogram of t”"
            ],
            "image/png": "[encoded data removed]"
          },
          "metadata": {
            "image/png": {
              "width": 420,
              "height": 420
            }
          }
        }
      ]
    },
    {
      "cell_type": "code",
      "source": [
        "shapiro.test(meta$Choi...25)"
      ],
      "metadata": {
        "colab": {
          "base_uri": "https://localhost:8080/",
          "height": 108
        },
        "id": "ZW6rWK7-Y1Ih",
        "outputId": "7c097166-07f5-4505-bb94-d66ff7bb3ef4"
      },
      "execution_count": 19,
      "outputs": [
        {
          "output_type": "display_data",
          "data": {
            "text/plain": [
              "\n",
              "\tShapiro-Wilk normality test\n",
              "\n",
              "data:  meta$Choi...25\n",
              "W = 0.96942, p-value = 0.3763\n"
            ]
          },
          "metadata": {}
        }
      ]
    },
    {
      "cell_type": "code",
      "source": [
        "shapiro.test(meta$HDLi...31)"
      ],
      "metadata": {
        "colab": {
          "base_uri": "https://localhost:8080/",
          "height": 108
        },
        "id": "vt5WJfyQZLiW",
        "outputId": "6704aef5-1b4b-4a8a-a762-ccd6c8f06b52"
      },
      "execution_count": 20,
      "outputs": [
        {
          "output_type": "display_data",
          "data": {
            "text/plain": [
              "\n",
              "\tShapiro-Wilk normality test\n",
              "\n",
              "data:  meta$HDLi...31\n",
              "W = 0.93339, p-value = 0.02568\n"
            ]
          },
          "metadata": {}
        }
      ]
    },
    {
      "cell_type": "code",
      "source": [
        "shapiro.test(log10(meta$HDLi...31))"
      ],
      "metadata": {
        "colab": {
          "base_uri": "https://localhost:8080/",
          "height": 108
        },
        "id": "MnH8mkFsZQSh",
        "outputId": "de923d9e-746f-47d4-ca05-1dc058a6e8dd"
      },
      "execution_count": 21,
      "outputs": [
        {
          "output_type": "display_data",
          "data": {
            "text/plain": [
              "\n",
              "\tShapiro-Wilk normality test\n",
              "\n",
              "data:  log10(meta$HDLi...31)\n",
              "W = 0.97792, p-value = 0.6436\n"
            ]
          },
          "metadata": {}
        }
      ]
    },
    {
      "cell_type": "code",
      "source": [
        "shapiro.test(log10(meta$Tgi...26))"
      ],
      "metadata": {
        "colab": {
          "base_uri": "https://localhost:8080/",
          "height": 108
        },
        "id": "sFCplbDlZXke",
        "outputId": "1c091d21-c364-4eb7-d952-24a3cbd99cbd"
      },
      "execution_count": 23,
      "outputs": [
        {
          "output_type": "display_data",
          "data": {
            "text/plain": [
              "\n",
              "\tShapiro-Wilk normality test\n",
              "\n",
              "data:  log10(meta$Tgi...26)\n",
              "W = 0.98019, p-value = 0.7242\n"
            ]
          },
          "metadata": {}
        }
      ]
    },
    {
      "cell_type": "code",
      "source": [
        "shapiro.test(meta$LVH)"
      ],
      "metadata": {
        "colab": {
          "base_uri": "https://localhost:8080/",
          "height": 108
        },
        "id": "XOjS6hvHZlJC",
        "outputId": "8f978a86-c9fc-4f61-8040-4609ffe4a4a9"
      },
      "execution_count": 24,
      "outputs": [
        {
          "output_type": "display_data",
          "data": {
            "text/plain": [
              "\n",
              "\tShapiro-Wilk normality test\n",
              "\n",
              "data:  meta$LVH\n",
              "W = 0.61174, p-value = 8.182e-09\n"
            ]
          },
          "metadata": {}
        }
      ]
    },
    {
      "cell_type": "code",
      "source": [
        "shapiro.test(log(meta$LVH))"
      ],
      "metadata": {
        "colab": {
          "base_uri": "https://localhost:8080/",
          "height": 108
        },
        "id": "UtCG3kshZus1",
        "outputId": "d6700f50-5b73-447d-cf07-738145b87042"
      },
      "execution_count": 26,
      "outputs": [
        {
          "output_type": "display_data",
          "data": {
            "text/plain": [
              "\n",
              "\tShapiro-Wilk normality test\n",
              "\n",
              "data:  log(meta$LVH)\n",
              "W = NaN, p-value = NA\n"
            ]
          },
          "metadata": {}
        }
      ]
    },
    {
      "cell_type": "code",
      "source": [
        "my_func_w <- function(x,w){return(sum(w*x)/length(x))}"
      ],
      "metadata": {
        "id": "SGibhnLlfQq9"
      },
      "execution_count": 38,
      "outputs": []
    },
    {
      "cell_type": "code",
      "source": [
        "result_w <- boot(meta$HDLi...31,my_func_w,R = 999)\n",
        "print(result_w)"
      ],
      "metadata": {
        "colab": {
          "base_uri": "https://localhost:8080/"
        },
        "id": "GtUQfC8Lf0s5",
        "outputId": "84246067-8e3c-451d-dd7b-367e3b45a298"
      },
      "execution_count": 39,
      "outputs": [
        {
          "output_type": "stream",
          "name": "stdout",
          "text": [
            "\n",
            "ORDINARY NONPARAMETRIC BOOTSTRAP\n",
            "\n",
            "\n",
            "Call:\n",
            "boot(data = meta$HDLi...31, statistic = my_func_w, R = 999)\n",
            "\n",
            "\n",
            "Bootstrap Statistics :\n",
            "    original     bias    std. error\n",
            "t1* 32.90417 -0.4887724    3.086304\n"
          ]
        }
      ]
    },
    {
      "cell_type": "code",
      "source": [
        "plot(result_w)\n",
        "quantile(meta$HDLi...31,c(0.025,0.95))"
      ],
      "metadata": {
        "colab": {
          "base_uri": "https://localhost:8080/",
          "height": 454
        },
        "id": "Hsz8CEaHgVou",
        "outputId": "01c43ac8-db2e-4fca-c0b4-5d9626719729"
      },
      "execution_count": 40,
      "outputs": [
        {
          "output_type": "display_data",
          "data": {
            "text/html": [
              "<style>\n",
              ".dl-inline {width: auto; margin:0; padding: 0}\n",
              ".dl-inline>dt, .dl-inline>dd {float: none; width: auto; display: inline-block}\n",
              ".dl-inline>dt::after {content: \":\\0020\"; padding-right: .5ex}\n",
              ".dl-inline>dt:not(:first-of-type) {padding-left: .5ex}\n",
              "</style><dl class=dl-inline><dt>2.5%</dt><dd>1.10831168831169</dd><dt>95%</dt><dd>2.46103896103896</dd></dl>\n"
            ],
            "text/markdown": "2.5%\n:   1.1083116883116995%\n:   2.46103896103896\n\n",
            "text/latex": "\\begin{description*}\n\\item[2.5\\textbackslash{}\\%] 1.10831168831169\n\\item[95\\textbackslash{}\\%] 2.46103896103896\n\\end{description*}\n",
            "text/plain": [
              "    2.5%      95% \n",
              "1.108312 2.461039 "
            ]
          },
          "metadata": {}
        },
        {
          "output_type": "display_data",
          "data": {
            "text/plain": [
              "Plot with title “Histogram of t”"
            ],
            "image/png": "[encoded data removed]"
          },
          "metadata": {
            "image/png": {
              "width": 420,
              "height": 420
            }
          }
        }
      ]
    },
    {
      "cell_type": "markdown",
      "source": [
        "***JackKnife***"
      ],
      "metadata": {
        "id": "FPuZ9QAYhXuo"
      }
    },
    {
      "cell_type": "code",
      "source": [
        "t_func <- function(x){mean(x)}"
      ],
      "metadata": {
        "id": "aB9ozsZuhSwS"
      },
      "execution_count": 41,
      "outputs": []
    },
    {
      "cell_type": "code",
      "source": [
        "shapiro.test(meta$HDLi...31)"
      ],
      "metadata": {
        "colab": {
          "base_uri": "https://localhost:8080/",
          "height": 108
        },
        "id": "7PTrQpuujQTC",
        "outputId": "fe7498c7-0e84-44e6-86a1-2fadfb566fc1"
      },
      "execution_count": 57,
      "outputs": [
        {
          "output_type": "display_data",
          "data": {
            "text/plain": [
              "\n",
              "\tShapiro-Wilk normality test\n",
              "\n",
              "data:  meta$HDLi...31\n",
              "W = 0.93339, p-value = 0.02568\n"
            ]
          },
          "metadata": {}
        }
      ]
    },
    {
      "cell_type": "code",
      "source": [
        "j_wick <- jackknife(meta$HDLi...31,t_func)\n",
        "print(j_wick)"
      ],
      "metadata": {
        "colab": {
          "base_uri": "https://localhost:8080/"
        },
        "id": "Vm_ugh5Fihnm",
        "outputId": "d66a2d39-0356-4799-a758-a5c4dd89bee4"
      },
      "execution_count": 58,
      "outputs": [
        {
          "output_type": "stream",
          "name": "stdout",
          "text": [
            "$jack.se\n",
            "[1] 0.06825209\n",
            "\n",
            "$jack.bias\n",
            "[1] 0\n",
            "\n",
            "$jack.values\n",
            " [1] 1.656090 1.665356 1.674833 1.665497 1.648017 1.658477 1.659038 1.661916\n",
            " [9] 1.654826 1.668936 1.626114 1.656371 1.670762 1.660583 1.668796 1.654194\n",
            "[17] 1.671744 1.667111 1.663461 1.632432 1.655107 1.645419 1.643103 1.660372\n",
            "[25] 1.666199 1.635942 1.640646 1.653492 1.657775 1.657564 1.669709 1.640505\n",
            "[33] 1.665918 1.653843 1.654616 1.662689 1.657775 1.666199\n",
            "\n",
            "$call\n",
            "jackknife(x = meta$HDLi...31, theta = t_func)\n",
            "\n"
          ]
        }
      ]
    },
    {
      "cell_type": "code",
      "source": [
        "mean(j_wick$jack.values)"
      ],
      "metadata": {
        "colab": {
          "base_uri": "https://localhost:8080/",
          "height": 34
        },
        "id": "VozSxQeVj8XU",
        "outputId": "5d23da50-5634-4163-ae76-4faee26cc41f"
      },
      "execution_count": 59,
      "outputs": [
        {
          "output_type": "display_data",
          "data": {
            "text/html": [
              "1.65714285714286"
            ],
            "text/markdown": "1.65714285714286",
            "text/latex": "1.65714285714286",
            "text/plain": [
              "[1] 1.657143"
            ]
          },
          "metadata": {}
        }
      ]
    },
    {
      "cell_type": "code",
      "source": [
        "mean(meta$HDLi...31)"
      ],
      "metadata": {
        "colab": {
          "base_uri": "https://localhost:8080/",
          "height": 34
        },
        "id": "9CFK3s6el-SR",
        "outputId": "134d5b6f-d27d-47c7-86e6-d908eb112430"
      },
      "execution_count": 63,
      "outputs": [
        {
          "output_type": "display_data",
          "data": {
            "text/html": [
              "1.65714285714286"
            ],
            "text/markdown": "1.65714285714286",
            "text/latex": "1.65714285714286",
            "text/plain": [
              "[1] 1.657143"
            ]
          },
          "metadata": {}
        }
      ]
    },
    {
      "cell_type": "code",
      "source": [
        "ggplot(as.tibble(j_wick$jack.values),aes(value)) +\n",
        "  geom_histogram() +\n",
        "  geom_vline(xintercept = mean(meta$HDLi...31), color = 'red', pty = 2) +\n",
        "  geom_vline(xintercept = mean(j_wick$jack.values), color = 'purple', pty = 2) +\n",
        "  theme_minimal()\n"
      ],
      "metadata": {
        "colab": {
          "base_uri": "https://localhost:8080/",
          "height": 528
        },
        "id": "FEx0Kyy_kCmu",
        "outputId": "9d75e180-1c51-4568-e282-24a793a9cc0f"
      },
      "execution_count": 61,
      "outputs": [
        {
          "output_type": "stream",
          "name": "stderr",
          "text": [
            "Warning message in geom_vline(xintercept = mean(meta$HDLi...31), color = \"red\", :\n",
            "“\u001b[1m\u001b[22mIgnoring unknown parameters: `pty`”\n",
            "Warning message in geom_vline(xintercept = mean(j_wick$jack.values), color = \"purple\", :\n",
            "“\u001b[1m\u001b[22mIgnoring unknown parameters: `pty`”\n",
            "\u001b[1m\u001b[22m`stat_bin()` using `bins = 30`. Pick better value with `binwidth`.\n"
          ]
        },
        {
          "output_type": "display_data",
          "data": {
            "text/plain": [
              "plot without title"
            ],
            "image/png": "[encoded data removed]"
          },
          "metadata": {
            "image/png": {
              "width": 420,
              "height": 420
            }
          }
        }
      ]
    },
    {
      "cell_type": "code",
      "source": [
        "hist(j_wick$jack.values)"
      ],
      "metadata": {
        "colab": {
          "base_uri": "https://localhost:8080/",
          "height": 437
        },
        "id": "9dBo0H9yl0qw",
        "outputId": "c5fef518-904c-47a9-cc49-a6378d7c48f8"
      },
      "execution_count": 62,
      "outputs": [
        {
          "output_type": "display_data",
          "data": {
            "text/plain": [
              "Plot with title “Histogram of j_wick$jack.values”"
            ],
            "image/png": "[encoded data removed]"
          },
          "metadata": {
            "image/png": {
              "width": 420,
              "height": 420
            }
          }
        }
      ]
    },
    {
      "cell_type": "markdown",
      "source": [
        "# Permutation"
      ],
      "metadata": {
        "id": "LkXZj0AAnmXz"
      }
    },
    {
      "cell_type": "code",
      "source": [
        "res <- coin::normal_test(LDLi...28 ~ factor(HT),data = meta,conf.int = TRUE)\n",
        "print(res)"
      ],
      "metadata": {
        "colab": {
          "base_uri": "https://localhost:8080/"
        },
        "id": "A24SljTpnf7C",
        "outputId": "963f1eb0-023a-4b17-e045-41dbb16a19a8"
      },
      "execution_count": 76,
      "outputs": [
        {
          "output_type": "stream",
          "name": "stdout",
          "text": [
            "\n",
            "\tAsymptotic Two-Sample van der Waerden (Normal Quantile) Test\n",
            "\n",
            "data:  LDLi...28 by factor(HT) (0, 1)\n",
            "Z = -0.81075, p-value = 0.4175\n",
            "alternative hypothesis: true mu is not equal to 0\n",
            "95 percent confidence interval:\n",
            " -40  11\n",
            "sample estimates:\n",
            "difference in location \n",
            "                  -8.5 \n",
            "\n"
          ]
        }
      ]
    },
    {
      "cell_type": "code",
      "source": [
        "res2 <- coin::normal_test(LDLi...28 ~ factor(Dm),data = meta,conf.int = TRUE)\n",
        "print(res2)"
      ],
      "metadata": {
        "colab": {
          "base_uri": "https://localhost:8080/"
        },
        "id": "t2NFmYiox94j",
        "outputId": "fc2d114f-c8ea-4fbe-d151-6bd8e6749481"
      },
      "execution_count": 78,
      "outputs": [
        {
          "output_type": "stream",
          "name": "stdout",
          "text": [
            "\n",
            "\tAsymptotic Two-Sample van der Waerden (Normal Quantile) Test\n",
            "\n",
            "data:  LDLi...28 by factor(Dm) (0, 1)\n",
            "Z = 1.1917, p-value = 0.2334\n",
            "alternative hypothesis: true mu is not equal to 0\n",
            "95 percent confidence interval:\n",
            " -25  60\n",
            "sample estimates:\n",
            "difference in location \n",
            "                    31 \n",
            "\n"
          ]
        }
      ]
    },
    {
      "cell_type": "code",
      "source": [
        "res3 <- coin::normal_test(LDLi...28 ~ factor(LVH),data = meta,conf.int = TRUE)\n",
        "print(res3)"
      ],
      "metadata": {
        "colab": {
          "base_uri": "https://localhost:8080/"
        },
        "id": "MKN97N8315ly",
        "outputId": "46abcf5e-fae2-4630-ae5e-80e5d7682483"
      },
      "execution_count": 79,
      "outputs": [
        {
          "output_type": "stream",
          "name": "stdout",
          "text": [
            "\n",
            "\tAsymptotic Two-Sample van der Waerden (Normal Quantile) Test\n",
            "\n",
            "data:  LDLi...28 by factor(LVH) (0, 1)\n",
            "Z = -0.78808, p-value = 0.4306\n",
            "alternative hypothesis: true mu is not equal to 0\n",
            "95 percent confidence interval:\n",
            " -40  16\n",
            "sample estimates:\n",
            "difference in location \n",
            "                    -8 \n",
            "\n"
          ]
        }
      ]
    },
    {
      "cell_type": "code",
      "source": [
        "res3 <- coin::normal_test(HDLi...31 ~ factor(IHD),data = meta,conf.int = TRUE)\n",
        "print(res3)"
      ],
      "metadata": {
        "colab": {
          "base_uri": "https://localhost:8080/"
        },
        "id": "F_fvI4oW2II8",
        "outputId": "452c7714-d5cd-4f76-c0f0-d54d332cbe76"
      },
      "execution_count": 84,
      "outputs": [
        {
          "output_type": "stream",
          "name": "stdout",
          "text": [
            "\n",
            "\tAsymptotic Two-Sample van der Waerden (Normal Quantile) Test\n",
            "\n",
            "data:  HDLi...31 by factor(IHD) (0, 1)\n",
            "Z = 1.897, p-value = 0.05783\n",
            "alternative hypothesis: true mu is not equal to 0\n",
            "95 percent confidence interval:\n",
            " -0.01558441  0.46493506\n",
            "sample estimates:\n",
            "difference in location \n",
            "             0.2051948 \n",
            "\n"
          ]
        }
      ]
    },
    {
      "cell_type": "code",
      "source": [
        "t.test(HDLi...31 ~ factor(IHD),data = meta,conf.int = TRUE)"
      ],
      "metadata": {
        "colab": {
          "base_uri": "https://localhost:8080/",
          "height": 217
        },
        "id": "czqReAKe2kkq",
        "outputId": "98ed5f7f-6655-4ac9-d07d-b58480e46b7c"
      },
      "execution_count": 85,
      "outputs": [
        {
          "output_type": "display_data",
          "data": {
            "text/plain": [
              "\n",
              "\tWelch Two Sample t-test\n",
              "\n",
              "data:  HDLi...31 by factor(IHD)\n",
              "t = 1.5814, df = 35.751, p-value = 0.1226\n",
              "alternative hypothesis: true difference in means between group 0 and group 1 is not equal to 0\n",
              "95 percent confidence interval:\n",
              " -0.05983933  0.48307925\n",
              "sample estimates:\n",
              "mean in group 0 mean in group 1 \n",
              "       1.762953        1.551333 \n"
            ]
          },
          "metadata": {}
        }
      ]
    },
    {
      "cell_type": "markdown",
      "source": [
        "# There are differences between p-values of Permutation and T-test but anyway we cannot reject null hypothesis"
      ],
      "metadata": {
        "id": "ytWD_t_-2tut"
      }
    },
    {
      "cell_type": "code",
      "source": [
        "meta %>%\n",
        "  slice_sample(n = 20) %>%\n",
        "  coin::normal_test(HDLi...31 ~ factor(IHD),data = .,conf.int = TRUE)\n",
        "meta %>%\n",
        "  slice_sample(n = 20) %>%\n",
        "  t.test(HDLi...31 ~ factor(IHD),data = .,conf.int = TRUE)"
      ],
      "metadata": {
        "colab": {
          "base_uri": "https://localhost:8080/",
          "height": 416
        },
        "id": "xf1sbcMD3SFQ",
        "outputId": "5fdd3e42-b8a5-4d1c-8b0c-e10c58e975a9"
      },
      "execution_count": 97,
      "outputs": [
        {
          "output_type": "display_data",
          "data": {
            "text/plain": [
              "\n",
              "\tAsymptotic Two-Sample van der Waerden (Normal Quantile) Test\n",
              "\n",
              "data:  HDLi...31 by factor(IHD) (0, 1)\n",
              "Z = 0.48439, p-value = 0.6281\n",
              "alternative hypothesis: true mu is not equal to 0\n",
              "95 percent confidence interval:\n",
              " -0.2987013  0.3116883\n",
              "sample estimates:\n",
              "difference in location \n",
              "            0.03376623 \n"
            ]
          },
          "metadata": {}
        },
        {
          "output_type": "display_data",
          "data": {
            "text/plain": [
              "\n",
              "\tWelch Two Sample t-test\n",
              "\n",
              "data:  HDLi...31 by factor(IHD)\n",
              "t = 0.41762, df = 17.373, p-value = 0.6813\n",
              "alternative hypothesis: true difference in means between group 0 and group 1 is not equal to 0\n",
              "95 percent confidence interval:\n",
              " -0.2888357  0.4316929\n",
              "sample estimates:\n",
              "mean in group 0 mean in group 1 \n",
              "       1.711688        1.640260 \n"
            ]
          },
          "metadata": {}
        }
      ]
    },
    {
      "cell_type": "code",
      "source": [
        "summary(aov(HDLi...31 ~ factor(IHD),data = meta))"
      ],
      "metadata": {
        "colab": {
          "base_uri": "https://localhost:8080/",
          "height": 71
        },
        "id": "lWajmu5t4VV4",
        "outputId": "035126cf-a4aa-49b7-d351-bdfeba5c614d"
      },
      "execution_count": 89,
      "outputs": [
        {
          "output_type": "display_data",
          "data": {
            "text/plain": [
              "            Df Sum Sq Mean Sq F value Pr(>F)\n",
              "factor(IHD)  1  0.425  0.4254   2.501  0.123\n",
              "Residuals   36  6.124  0.1701               "
            ]
          },
          "metadata": {}
        }
      ]
    },
    {
      "cell_type": "code",
      "source": [
        "summary(aov(LDLi...28 ~ factor(Dm),data = meta))"
      ],
      "metadata": {
        "colab": {
          "base_uri": "https://localhost:8080/",
          "height": 71
        },
        "id": "bsEjgXnJ4pzt",
        "outputId": "ae84e644-2367-4438-d72b-136f1028aa39"
      },
      "execution_count": 90,
      "outputs": [
        {
          "output_type": "display_data",
          "data": {
            "text/plain": [
              "            Df Sum Sq Mean Sq F value Pr(>F)\n",
              "factor(Dm)   1   2049    2049    1.28  0.265\n",
              "Residuals   36  57646    1601               "
            ]
          },
          "metadata": {}
        }
      ]
    },
    {
      "cell_type": "code",
      "source": [
        "summary(aov(LDLi...28 ~ factor(LVH),data = meta))"
      ],
      "metadata": {
        "colab": {
          "base_uri": "https://localhost:8080/",
          "height": 71
        },
        "id": "rNVQ653v4wdc",
        "outputId": "f0a2e6ad-197f-48c5-9cdc-e48e1eba9d5a"
      },
      "execution_count": 91,
      "outputs": [
        {
          "output_type": "display_data",
          "data": {
            "text/plain": [
              "            Df Sum Sq Mean Sq F value Pr(>F)\n",
              "factor(LVH)  1    699   699.1   0.427  0.518\n",
              "Residuals   36  58996  1638.8               "
            ]
          },
          "metadata": {}
        }
      ]
    },
    {
      "cell_type": "code",
      "source": [
        "meta %>%\n",
        "  slice_sample(n = 20) %>%\n",
        "  coin::normal_test(HDLi...31 ~ factor(Sys),data = .,conf.int = TRUE)"
      ],
      "metadata": {
        "colab": {
          "base_uri": "https://localhost:8080/",
          "height": 126
        },
        "id": "8Y_Gx5qg4_RJ",
        "outputId": "6157a57f-0792-45bc-a871-fbb3e1e743cf"
      },
      "execution_count": 96,
      "outputs": [
        {
          "output_type": "display_data",
          "data": {
            "text/plain": [
              "\n",
              "\tAsymptotic K-Sample van der Waerden (Normal Quantile) Test\n",
              "\n",
              "data:  HDLi...31 by\n",
              "\t factor(Sys) (100, 103, 110, 112, 118, 124, 126, 128, 130, 132, 133, 134, 135, 142, 147, 150, 165)\n",
              "chi-squared = 17.777, df = 16, p-value = 0.3371\n"
            ]
          },
          "metadata": {}
        }
      ]
    },
    {
      "cell_type": "code",
      "source": [
        "meta %>%\n",
        "  slice_sample(n = 20) %>%\n",
        "  coin::normal_test(HDLi...31 ~ factor(Sys),data = .,conf.int = TRUE)"
      ],
      "metadata": {
        "colab": {
          "base_uri": "https://localhost:8080/",
          "height": 126
        },
        "id": "lpbSXwbp5u5e",
        "outputId": "c308ebbf-9cea-4821-96d6-18c135c9eb5b"
      },
      "execution_count": 98,
      "outputs": [
        {
          "output_type": "display_data",
          "data": {
            "text/plain": [
              "\n",
              "\tAsymptotic K-Sample van der Waerden (Normal Quantile) Test\n",
              "\n",
              "data:  HDLi...31 by\n",
              "\t factor(Sys) (118, 120, 124, 125, 126, 128, 129, 130, 132, 134, 135, 140, 142, 147, 150)\n",
              "chi-squared = 15.457, df = 14, p-value = 0.3476\n"
            ]
          },
          "metadata": {}
        }
      ]
    },
    {
      "cell_type": "code",
      "source": [
        "res4 <- coin::normal_test(BMI ~ factor(Age),data = meta,conf.int = TRUE)\n",
        "print(res4)"
      ],
      "metadata": {
        "colab": {
          "base_uri": "https://localhost:8080/"
        },
        "id": "39snwcnQ6JPg",
        "outputId": "23a68baf-89a2-49b4-82c1-7d425441676a"
      },
      "execution_count": 99,
      "outputs": [
        {
          "output_type": "stream",
          "name": "stdout",
          "text": [
            "\n",
            "\tAsymptotic K-Sample van der Waerden (Normal Quantile) Test\n",
            "\n",
            "data:  BMI by\n",
            "\t factor(Age) (47, 50, 53, 54, 55, 57, 58, 59, 60, 61, 62, 63, 64, 65, 66, 67, 68, 69, 70, 72, 75, 76, 79, 83)\n",
            "chi-squared = 22.488, df = 23, p-value = 0.491\n",
            "\n"
          ]
        }
      ]
    },
    {
      "cell_type": "markdown",
      "source": [
        "Результаты вашего теста показывают значение статистики критерия (chi-squared), количество степеней свободы (df) и p-значение. В данном случае p-значение равно 0.491, что означает, что нет достаточных доказательств для отвержения нулевой гипотезы о равенстве распределений между группами BMI по различным возрастам при уровне значимости 0.05."
      ],
      "metadata": {
        "id": "9tWDQENZ7tlO"
      }
    }
  ]
}